{
 "cells": [
  {
   "cell_type": "markdown",
   "metadata": {},
   "source": [
    "# HM2: Numerical Optimization for Logistic Regression.\n",
    "\n",
    "### Name: Michael DiGregorio\n"
   ]
  },
  {
   "cell_type": "markdown",
   "metadata": {},
   "source": [
    "## 0. You will do the following:\n",
    "\n",
    "1. Read the lecture note: [click here](https://github.com/wangshusen/DeepLearning/blob/master/LectureNotes/Logistic/paper/logistic.pdf)\n",
    "\n",
    "2. Read, complete, and run my code.\n",
    "\n",
    "3. **Implement mini-batch SGD** and evaluate the performance.\n",
    "\n",
    "4. Convert the .IPYNB file to .HTML file.\n",
    "\n",
    "    * The HTML file must contain **the code** and **the output after execution**.\n",
    "    \n",
    "    * Missing **the output after execution** will not be graded.\n",
    "    \n",
    "5. Upload this .HTML file to your Google Drive, Dropbox, or your Github repo.  (If you submit the file to Google Drive or Dropbox, you must make the file \"open-access\". The delay caused by \"deny of access\" may result in late penalty.)\n",
    "\n",
    "6. Submit the link to this .HTML file to Canvas.\n",
    "\n",
    "    * Example: https://github.com/wangshusen/CS583-2020S/blob/master/homework/HM2/HM2.html\n",
    "\n",
    "\n",
    "## Grading criteria:\n",
    "\n",
    "1. When computing the ```gradient``` and ```objective function value``` using a batch of samples, use **matrix-vector multiplication** rather than a FOR LOOP of **vector-vector multiplications**.\n",
    "\n",
    "2. Plot ```objective function value``` against ```epochs```. In the plot, compare GD, SGD, and MB-SGD (with $b=8$ and $b=64$). The plot must look reasonable."
   ]
  },
  {
   "cell_type": "code",
   "execution_count": null,
   "metadata": {},
   "outputs": [],
   "source": []
  },
  {
   "cell_type": "markdown",
   "metadata": {},
   "source": [
    "# 1. Data processing\n",
    "\n",
    "- Download the Diabete dataset from https://www.csie.ntu.edu.tw/~cjlin/libsvmtools/datasets/binary/diabetes\n",
    "- Load the data using sklearn.\n",
    "- Preprocess the data."
   ]
  },
  {
   "cell_type": "markdown",
   "metadata": {},
   "source": [
    "## 1.1. Load the data"
   ]
  },
  {
   "cell_type": "code",
   "execution_count": 22,
   "metadata": {},
   "outputs": [
    {
     "name": "stdout",
     "output_type": "stream",
     "text": [
      "Shape of x: (768, 8)\n",
      "Shape of y: (768,)\n"
     ]
    }
   ],
   "source": [
    "from sklearn import datasets\n",
    "import numpy\n",
    "\n",
    "x_sparse, y = datasets.load_svmlight_file('diabetes')\n",
    "x = x_sparse.todense()\n",
    "\n",
    "print('Shape of x: ' + str(x.shape))\n",
    "print('Shape of y: ' + str(y.shape))"
   ]
  },
  {
   "cell_type": "markdown",
   "metadata": {},
   "source": [
    "## 1.2. Partition to training and test sets"
   ]
  },
  {
   "cell_type": "code",
   "execution_count": 23,
   "metadata": {},
   "outputs": [
    {
     "name": "stdout",
     "output_type": "stream",
     "text": [
      "Shape of x_train: (640, 8)\n",
      "Shape of x_test: (128, 8)\n",
      "Shape of y_train: (640, 1)\n",
      "Shape of y_test: (128, 1)\n"
     ]
    }
   ],
   "source": [
    "# partition the data to training and test sets\n",
    "n = x.shape[0]\n",
    "n_train = 640\n",
    "n_test = n - n_train\n",
    "\n",
    "rand_indices = numpy.random.permutation(n)\n",
    "train_indices = rand_indices[0:n_train]\n",
    "test_indices = rand_indices[n_train:n]\n",
    "\n",
    "x_train = x[train_indices, :]\n",
    "x_test = x[test_indices, :]\n",
    "y_train = y[train_indices].reshape(n_train, 1)\n",
    "y_test = y[test_indices].reshape(n_test, 1)\n",
    "\n",
    "print('Shape of x_train: ' + str(x_train.shape))\n",
    "print('Shape of x_test: ' + str(x_test.shape))\n",
    "print('Shape of y_train: ' + str(y_train.shape))\n",
    "print('Shape of y_test: ' + str(y_test.shape))"
   ]
  },
  {
   "cell_type": "markdown",
   "metadata": {},
   "source": [
    "## 1.3. Feature scaling"
   ]
  },
  {
   "cell_type": "markdown",
   "metadata": {},
   "source": [
    "Use the standardization to trainsform both training and test features"
   ]
  },
  {
   "cell_type": "code",
   "execution_count": 24,
   "metadata": {},
   "outputs": [
    {
     "name": "stdout",
     "output_type": "stream",
     "text": [
      "test mean = \n",
      "[[ 0.09627111 -0.13600696  0.11563425 -0.06459859 -0.09624297 -0.12256204\n",
      "  -0.07450336  0.02086251]]\n",
      "test std = \n",
      "[[1.12241153 0.96649277 0.91918404 0.9529     1.00112731 1.09979019\n",
      "  1.03662786 0.99677217]]\n"
     ]
    }
   ],
   "source": [
    "# Standardization\n",
    "import numpy\n",
    "\n",
    "# calculate mu and sig using the training set\n",
    "d = x_train.shape[1]\n",
    "mu = numpy.mean(x_train, axis=0).reshape(1, d)\n",
    "sig = numpy.std(x_train, axis=0).reshape(1, d)\n",
    "\n",
    "# transform the training features\n",
    "x_train = (x_train - mu) / (sig + 1E-6)\n",
    "\n",
    "# transform the test features\n",
    "x_test = (x_test - mu) / (sig + 1E-6)\n",
    "\n",
    "print('test mean = ')\n",
    "print(numpy.mean(x_test, axis=0))\n",
    "\n",
    "print('test std = ')\n",
    "print(numpy.std(x_test, axis=0))"
   ]
  },
  {
   "cell_type": "markdown",
   "metadata": {},
   "source": [
    "## 1.4. Add a dimension of all ones"
   ]
  },
  {
   "cell_type": "code",
   "execution_count": 25,
   "metadata": {},
   "outputs": [
    {
     "name": "stdout",
     "output_type": "stream",
     "text": [
      "Shape of x_train: (640, 9)\n",
      "Shape of x_test: (128, 9)\n"
     ]
    }
   ],
   "source": [
    "n_train, d = x_train.shape\n",
    "x_train = numpy.concatenate((x_train, numpy.ones((n_train, 1))), axis=1)\n",
    "\n",
    "n_test, d = x_test.shape\n",
    "x_test = numpy.concatenate((x_test, numpy.ones((n_test, 1))), axis=1)\n",
    "\n",
    "print('Shape of x_train: ' + str(x_train.shape))\n",
    "print('Shape of x_test: ' + str(x_test.shape))"
   ]
  },
  {
   "cell_type": "markdown",
   "metadata": {},
   "source": [
    "# 2. Logistic regression model\n",
    "\n",
    "The objective function is $Q (w; X, y) = \\frac{1}{n} \\sum_{i=1}^n \\log \\Big( 1 + \\exp \\big( - y_i x_i^T w \\big) \\Big) + \\frac{\\lambda}{2} \\| w \\|_2^2 $."
   ]
  },
  {
   "cell_type": "code",
   "execution_count": 26,
   "metadata": {},
   "outputs": [],
   "source": [
    "# Calculate the objective function value\n",
    "# Inputs:\n",
    "#     w: d-by-1 matrix\n",
    "#     x: n-by-d matrix\n",
    "#     y: n-by-1 matrix\n",
    "#     lam: scalar, the regularization parameter\n",
    "# Return:\n",
    "#     objective function value (scalar)\n",
    "def objective(w, x, y, lam):\n",
    "    n, d = x.shape\n",
    "    yx = numpy.multiply(y, x) # n-by-d matrix\n",
    "    yxw = numpy.dot(yx, w) # n-by-1 matrix\n",
    "    vec1 = numpy.exp(-yxw) # n-by-1 matrix\n",
    "    vec2 = numpy.log(1 + vec1) # n-by-1 matrix\n",
    "    loss = numpy.mean(vec2) # scalar\n",
    "    reg = lam / 2 * numpy.sum(w * w) # scalar\n",
    "    return loss + reg\n",
    "    "
   ]
  },
  {
   "cell_type": "code",
   "execution_count": 27,
   "metadata": {},
   "outputs": [
    {
     "name": "stdout",
     "output_type": "stream",
     "text": [
      "Initial objective function value = 0.6931471805599453\n"
     ]
    }
   ],
   "source": [
    "# initialize w\n",
    "d = x_train.shape[1]\n",
    "w = numpy.zeros((d, 1))\n",
    "\n",
    "# evaluate the objective function value at w\n",
    "lam = 1E-6\n",
    "objval0 = objective(w, x_train, y_train, lam)\n",
    "print('Initial objective function value = ' + str(objval0))"
   ]
  },
  {
   "cell_type": "markdown",
   "metadata": {},
   "source": [
    "# 3. Numerical optimization"
   ]
  },
  {
   "cell_type": "markdown",
   "metadata": {},
   "source": [
    "## 3.1. Gradient descent\n"
   ]
  },
  {
   "cell_type": "markdown",
   "metadata": {},
   "source": [
    "The gradient at $w$ is $g = - \\frac{1}{n} \\sum_{i=1}^n \\frac{y_i x_i }{1 + \\exp ( y_i x_i^T w)} + \\lambda w$"
   ]
  },
  {
   "cell_type": "code",
   "execution_count": 28,
   "metadata": {},
   "outputs": [],
   "source": [
    "# Calculate the gradient\n",
    "# Inputs:\n",
    "#     w: d-by-1 matrix\n",
    "#     x: n-by-d matrix\n",
    "#     y: n-by-1 matrix\n",
    "#     lam: scalar, the regularization parameter\n",
    "# Return:\n",
    "#     g: g: d-by-1 matrix, full gradient\n",
    "def gradient(w, x, y, lam):\n",
    "    n, d = x.shape\n",
    "    yx = numpy.multiply(y, x) # n-by-d matrix\n",
    "    yxw = numpy.dot(yx, w) # n-by-1 matrix\n",
    "    vec1 = numpy.exp(yxw) # n-by-1 matrix\n",
    "    vec2 = numpy.divide(yx, 1+vec1) # n-by-d matrix\n",
    "    vec3 = -numpy.mean(vec2, axis=0).reshape(d, 1) # d-by-1 matrix\n",
    "    g = vec3 + lam * w\n",
    "    return g"
   ]
  },
  {
   "cell_type": "code",
   "execution_count": 29,
   "metadata": {},
   "outputs": [],
   "source": [
    "# Gradient descent for solving logistic regression\n",
    "# Inputs:\n",
    "#     x: n-by-d matrix\n",
    "#     y: n-by-1 matrix\n",
    "#     lam: scalar, the regularization parameter\n",
    "#     stepsize: scalar\n",
    "#     max_iter: integer, the maximal iterations\n",
    "#     w: d-by-1 matrix, initialization of w\n",
    "# Return:\n",
    "#     w: d-by-1 matrix, the solution\n",
    "#     objvals: a record of each iteration's objective value\n",
    "def grad_descent(x, y, lam, stepsize, max_iter=100, w=None):\n",
    "    n, d = x.shape\n",
    "    objvals = numpy.zeros(max_iter) # store the objective values\n",
    "    if w is None:\n",
    "        w = numpy.zeros((d, 1)) # zero initialization\n",
    "    \n",
    "    for t in range(max_iter):\n",
    "        objval = objective(w, x, y, lam)\n",
    "        objvals[t] = objval\n",
    "        print('Objective value at t=' + str(t) + ' is ' + str(objval))\n",
    "        g = gradient(w, x, y, lam)\n",
    "        w -= stepsize * g\n",
    "    \n",
    "    return w, objvals"
   ]
  },
  {
   "cell_type": "markdown",
   "metadata": {},
   "source": [
    "Run gradient descent."
   ]
  },
  {
   "cell_type": "code",
   "execution_count": 30,
   "metadata": {},
   "outputs": [
    {
     "name": "stdout",
     "output_type": "stream",
     "text": [
      "Objective value at t=0 is 0.6931471805599453\n",
      "Objective value at t=1 is 0.5834846331150393\n",
      "Objective value at t=2 is 0.5395784921551112\n",
      "Objective value at t=3 is 0.5161340723253157\n",
      "Objective value at t=4 is 0.5015350529142075\n",
      "Objective value at t=5 is 0.49164949111094935\n",
      "Objective value at t=6 is 0.48460573159089215\n",
      "Objective value at t=7 is 0.4794132553306841\n",
      "Objective value at t=8 is 0.4754907335998295\n",
      "Objective value at t=9 is 0.47247184621156174\n",
      "Objective value at t=10 is 0.47011376389847254\n",
      "Objective value at t=11 is 0.4682493588291094\n",
      "Objective value at t=12 is 0.4667602233829973\n",
      "Objective value at t=13 is 0.46556049879246386\n",
      "Objective value at t=14 is 0.46458672378121296\n",
      "Objective value at t=15 is 0.46379122543189283\n",
      "Objective value at t=16 is 0.46313768765352825\n",
      "Objective value at t=17 is 0.4625981064112041\n",
      "Objective value at t=18 is 0.46215065402206595\n",
      "Objective value at t=19 is 0.4617781540023073\n",
      "Objective value at t=20 is 0.4614669745781875\n",
      "Objective value at t=21 is 0.46120621453245675\n",
      "Objective value at t=22 is 0.46098709648644104\n",
      "Objective value at t=23 is 0.4608025095190409\n",
      "Objective value at t=24 is 0.46064666071783417\n",
      "Objective value at t=25 is 0.4605148071501642\n",
      "Objective value at t=26 is 0.4604030478648048\n",
      "Objective value at t=27 is 0.46030816116387535\n",
      "Objective value at t=28 is 0.46022747633794614\n",
      "Objective value at t=29 is 0.4601587718679965\n",
      "Objective value at t=30 is 0.46010019411924213\n",
      "Objective value at t=31 is 0.46005019202111785\n",
      "Objective value at t=32 is 0.46000746430639594\n",
      "Objective value at t=33 is 0.4599709166818564\n",
      "Objective value at t=34 is 0.459939626900633\n",
      "Objective value at t=35 is 0.4599128161569931\n",
      "Objective value at t=36 is 0.45988982556673313\n",
      "Objective value at t=37 is 0.45987009675850377\n",
      "Objective value at t=38 is 0.4598531558034564\n",
      "Objective value at t=39 is 0.4598385998674173\n",
      "Objective value at t=40 is 0.45982608609225084\n",
      "Objective value at t=41 is 0.45981532230925937\n",
      "Objective value at t=42 is 0.45980605926344875\n",
      "Objective value at t=43 is 0.4597980840878212\n",
      "Objective value at t=44 is 0.4597912148150095\n",
      "Objective value at t=45 is 0.4597852957521727\n",
      "Objective value at t=46 is 0.45978019357617606\n",
      "Objective value at t=47 is 0.4597757940312236\n",
      "Objective value at t=48 is 0.45977199913154104\n",
      "Objective value at t=49 is 0.45976872478835745\n",
      "Objective value at t=50 is 0.4597658987940496\n",
      "Objective value at t=51 is 0.459763459107497\n",
      "Objective value at t=52 is 0.45976135239389804\n",
      "Objective value at t=53 is 0.45975953277990295\n",
      "Objective value at t=54 is 0.4597579607912112\n",
      "Objective value at t=55 is 0.4597566024450169\n",
      "Objective value at t=56 is 0.45975542847403383\n",
      "Objective value at t=57 is 0.4597544136624658\n",
      "Objective value at t=58 is 0.45975353627733\n",
      "Objective value at t=59 is 0.45975277758108285\n",
      "Objective value at t=60 is 0.4597521214136417\n",
      "Objective value at t=61 is 0.45975155383369076\n",
      "Objective value at t=62 is 0.4597510628106814\n",
      "Objective value at t=63 is 0.4597506379602127\n",
      "Objective value at t=64 is 0.45975027031656585\n",
      "Objective value at t=65 is 0.45974995213707875\n",
      "Objective value at t=66 is 0.459749676733828\n",
      "Objective value at t=67 is 0.4597494383287439\n",
      "Objective value at t=68 is 0.45974923192884626\n",
      "Objective value at t=69 is 0.4597490532187663\n",
      "Objective value at t=70 is 0.45974889846812644\n",
      "Objective value at t=71 is 0.4597487644516982\n",
      "Objective value at t=72 is 0.4597486483805526\n",
      "Objective value at t=73 is 0.4597485478426744\n",
      "Objective value at t=74 is 0.45974846075172143\n",
      "Objective value at t=75 is 0.45974838530280465\n",
      "Objective value at t=76 is 0.4597483199343138\n",
      "Objective value at t=77 is 0.4597482632949574\n",
      "Objective value at t=78 is 0.459748214215296\n",
      "Objective value at t=79 is 0.4597481716831532\n",
      "Objective value at t=80 is 0.4597481348223709\n",
      "Objective value at t=81 is 0.45974810287445045\n",
      "Objective value at t=82 is 0.4597480751826854\n",
      "Objective value at t=83 is 0.4597480511784453\n",
      "Objective value at t=84 is 0.45974803036931633\n",
      "Objective value at t=85 is 0.459748012328847\n",
      "Objective value at t=86 is 0.4597479966876794\n",
      "Objective value at t=87 is 0.45974798312587867\n",
      "Objective value at t=88 is 0.45974797136629614\n",
      "Objective value at t=89 is 0.45974796116882893\n",
      "Objective value at t=90 is 0.4597479523254519\n",
      "Objective value at t=91 is 0.4597479446559179\n",
      "Objective value at t=92 is 0.45974793800403774\n",
      "Objective value at t=93 is 0.45974793223445926\n",
      "Objective value at t=94 is 0.459747927229879\n",
      "Objective value at t=95 is 0.45974792288862903\n",
      "Objective value at t=96 is 0.45974791912258695\n",
      "Objective value at t=97 is 0.4597479158553656\n",
      "Objective value at t=98 is 0.459747913020747\n",
      "Objective value at t=99 is 0.45974791056132436\n"
     ]
    }
   ],
   "source": [
    "lam = 1E-6\n",
    "stepsize = 1.0\n",
    "w, objvals_gd = grad_descent(x_train, y_train, lam, stepsize)"
   ]
  },
  {
   "cell_type": "markdown",
   "metadata": {},
   "source": [
    "## 3.2. Stochastic gradient descent (SGD)\n",
    "\n",
    "Define $Q_i (w) = \\log \\Big( 1 + \\exp \\big( - y_i x_i^T w \\big) \\Big) + \\frac{\\lambda}{2} \\| w \\|_2^2 $.\n",
    "\n",
    "The stochastic gradient at $w$ is $g_i = \\frac{\\partial Q_i }{ \\partial w} = -\\frac{y_i x_i }{1 + \\exp ( y_i x_i^T w)} + \\lambda w$."
   ]
  },
  {
   "cell_type": "code",
   "execution_count": 31,
   "metadata": {},
   "outputs": [],
   "source": [
    "# Calculate the objective Q_i and the gradient of Q_i\n",
    "# Inputs:\n",
    "#     w: d-by-1 matrix\n",
    "#     xi: 1-by-d matrix\n",
    "#     yi: scalar\n",
    "#     lam: scalar, the regularization parameter\n",
    "# Return:\n",
    "#     obj: scalar, the objective Q_i\n",
    "#     g: d-by-1 matrix, gradient of Q_i\n",
    "def stochastic_objective_gradient(w, xi, yi, lam):\n",
    "    d = xi.shape[0]\n",
    "    yx = yi * xi # 1-by-d matrix\n",
    "    yxw = float(numpy.dot(yx, w)) # scalar\n",
    "    \n",
    "    # calculate objective function Q_i\n",
    "    loss = numpy.log(1 + numpy.exp(-yxw)) # scalar\n",
    "    reg = lam / 2 * numpy.sum(w * w) # scalar\n",
    "    obj = loss + reg\n",
    "    \n",
    "    # calculate stochastic gradient\n",
    "    g_loss = -yx.T / (1 + numpy.exp(yxw)) # d-by-1 matrix\n",
    "    g = g_loss + lam * w # d-by-1 matrix\n",
    "    \n",
    "    return obj, g"
   ]
  },
  {
   "cell_type": "code",
   "execution_count": 32,
   "metadata": {},
   "outputs": [],
   "source": [
    "# SGD for solving logistic regression\n",
    "# Inputs:\n",
    "#     x: n-by-d matrix\n",
    "#     y: n-by-1 matrix\n",
    "#     lam: scalar, the regularization parameter\n",
    "#     stepsize: scalar\n",
    "#     max_epoch: integer, the maximal epochs\n",
    "#     w: d-by-1 matrix, initialization of w\n",
    "# Return:\n",
    "#     w: the solution\n",
    "#     objvals: record of each iteration's objective value\n",
    "def sgd(x, y, lam, stepsize, max_epoch=100, w=None):\n",
    "    n, d = x.shape\n",
    "    objvals = numpy.zeros(max_epoch) # store the objective values\n",
    "    if w is None:\n",
    "        w = numpy.zeros((d, 1)) # zero initialization\n",
    "    \n",
    "    for t in range(max_epoch):\n",
    "        # randomly shuffle the samples\n",
    "        rand_indices = numpy.random.permutation(n)\n",
    "        x_rand = x[rand_indices, :]\n",
    "        y_rand = y[rand_indices, :]\n",
    "        \n",
    "        objval = 0 # accumulate the objective values\n",
    "        for i in range(n):\n",
    "            xi = x_rand[i, :] # 1-by-d matrix\n",
    "            yi = float(y_rand[i, :]) # scalar\n",
    "            obj, g = stochastic_objective_gradient(w, xi, yi, lam)\n",
    "            objval += obj\n",
    "            w -= stepsize * g\n",
    "        \n",
    "        stepsize *= 0.9 # decrease step size\n",
    "        objval /= n\n",
    "        objvals[t] = objval\n",
    "        print('Objective value at epoch t=' + str(t) + ' is ' + str(objval))\n",
    "    \n",
    "    return w, objvals"
   ]
  },
  {
   "cell_type": "markdown",
   "metadata": {},
   "source": [
    "Run SGD."
   ]
  },
  {
   "cell_type": "code",
   "execution_count": 33,
   "metadata": {},
   "outputs": [
    {
     "name": "stdout",
     "output_type": "stream",
     "text": [
      "Objective value at epoch t=0 is 0.5180458407154431\n",
      "Objective value at epoch t=1 is 0.4944550343531063\n",
      "Objective value at epoch t=2 is 0.5013251641474955\n",
      "Objective value at epoch t=3 is 0.5004426000007347\n",
      "Objective value at epoch t=4 is 0.49598977129730304\n",
      "Objective value at epoch t=5 is 0.48964440280643995\n",
      "Objective value at epoch t=6 is 0.4891618934662293\n",
      "Objective value at epoch t=7 is 0.4851774418953874\n",
      "Objective value at epoch t=8 is 0.4806897892407913\n",
      "Objective value at epoch t=9 is 0.47870760531634415\n",
      "Objective value at epoch t=10 is 0.47799686388618384\n",
      "Objective value at epoch t=11 is 0.47641736752972097\n",
      "Objective value at epoch t=12 is 0.4774821421448606\n",
      "Objective value at epoch t=13 is 0.4739020463060382\n",
      "Objective value at epoch t=14 is 0.4723125659378448\n",
      "Objective value at epoch t=15 is 0.47159135968682186\n",
      "Objective value at epoch t=16 is 0.4711649021885099\n",
      "Objective value at epoch t=17 is 0.4678337377497977\n",
      "Objective value at epoch t=18 is 0.4684975415283229\n",
      "Objective value at epoch t=19 is 0.4675703092581879\n",
      "Objective value at epoch t=20 is 0.4671786878244123\n",
      "Objective value at epoch t=21 is 0.466125840763599\n",
      "Objective value at epoch t=22 is 0.4662289386443138\n",
      "Objective value at epoch t=23 is 0.46560902965186673\n",
      "Objective value at epoch t=24 is 0.46470833597234734\n",
      "Objective value at epoch t=25 is 0.4638570245103268\n",
      "Objective value at epoch t=26 is 0.46380069117071443\n",
      "Objective value at epoch t=27 is 0.4633507320039524\n",
      "Objective value at epoch t=28 is 0.46315941014395373\n",
      "Objective value at epoch t=29 is 0.46274879726474083\n",
      "Objective value at epoch t=30 is 0.46248962501958946\n",
      "Objective value at epoch t=31 is 0.46229489399844226\n",
      "Objective value at epoch t=32 is 0.4620528901537037\n",
      "Objective value at epoch t=33 is 0.4617624812031555\n",
      "Objective value at epoch t=34 is 0.4614894537974517\n",
      "Objective value at epoch t=35 is 0.461442696933986\n",
      "Objective value at epoch t=36 is 0.4613103185809715\n",
      "Objective value at epoch t=37 is 0.4611399227756484\n",
      "Objective value at epoch t=38 is 0.46098556471299784\n",
      "Objective value at epoch t=39 is 0.4608582853835931\n",
      "Objective value at epoch t=40 is 0.4607639044969088\n",
      "Objective value at epoch t=41 is 0.46063911032015675\n",
      "Objective value at epoch t=42 is 0.4605614659168161\n",
      "Objective value at epoch t=43 is 0.4604776650377157\n",
      "Objective value at epoch t=44 is 0.46041467290156524\n",
      "Objective value at epoch t=45 is 0.46034920504422344\n",
      "Objective value at epoch t=46 is 0.460280292303518\n",
      "Objective value at epoch t=47 is 0.4602337100295782\n",
      "Objective value at epoch t=48 is 0.4601876513294492\n",
      "Objective value at epoch t=49 is 0.46014025558676475\n",
      "Objective value at epoch t=50 is 0.46010473067843377\n",
      "Objective value at epoch t=51 is 0.46006505012574506\n",
      "Objective value at epoch t=52 is 0.46003765397071106\n",
      "Objective value at epoch t=53 is 0.4600089734206863\n",
      "Objective value at epoch t=54 is 0.459982775323733\n",
      "Objective value at epoch t=55 is 0.45995827723014937\n",
      "Objective value at epoch t=56 is 0.45993845286447976\n",
      "Objective value at epoch t=57 is 0.4599191151109364\n",
      "Objective value at epoch t=58 is 0.45990202726986373\n",
      "Objective value at epoch t=59 is 0.45988704513372525\n",
      "Objective value at epoch t=60 is 0.4598730859181573\n",
      "Objective value at epoch t=61 is 0.4598607330652772\n",
      "Objective value at epoch t=62 is 0.4598495040739324\n",
      "Objective value at epoch t=63 is 0.4598393283643639\n",
      "Objective value at epoch t=64 is 0.4598302212725115\n",
      "Objective value at epoch t=65 is 0.4598221150739322\n",
      "Objective value at epoch t=66 is 0.4598146011830093\n",
      "Objective value at epoch t=67 is 0.459808060552193\n",
      "Objective value at epoch t=68 is 0.45980209948452416\n",
      "Objective value at epoch t=69 is 0.45979669756889063\n",
      "Objective value at epoch t=70 is 0.45979190538285064\n",
      "Objective value at epoch t=71 is 0.4597875163621283\n",
      "Objective value at epoch t=72 is 0.4597836305959396\n",
      "Objective value at epoch t=73 is 0.45978009462410985\n",
      "Objective value at epoch t=74 is 0.4597769156331645\n",
      "Objective value at epoch t=75 is 0.4597740505601549\n",
      "Objective value at epoch t=76 is 0.45977147519291417\n",
      "Objective value at epoch t=77 is 0.4597691627824382\n",
      "Objective value at epoch t=78 is 0.4597670776057702\n",
      "Objective value at epoch t=79 is 0.4597651990767561\n",
      "Objective value at epoch t=80 is 0.459763506085899\n",
      "Objective value at epoch t=81 is 0.45976198703418414\n",
      "Objective value at epoch t=82 is 0.45976060915121153\n",
      "Objective value at epoch t=83 is 0.4597593855929212\n",
      "Objective value at epoch t=84 is 0.45975827516217826\n",
      "Objective value at epoch t=85 is 0.4597572765028065\n",
      "Objective value at epoch t=86 is 0.45975637818019416\n",
      "Objective value at epoch t=87 is 0.4597555690607414\n",
      "Objective value at epoch t=88 is 0.45975484150523255\n",
      "Objective value at epoch t=89 is 0.4597541864751933\n",
      "Objective value at epoch t=90 is 0.45975359581583736\n",
      "Objective value at epoch t=91 is 0.45975306592707854\n",
      "Objective value at epoch t=92 is 0.45975258871412894\n",
      "Objective value at epoch t=93 is 0.45975215878178277\n",
      "Objective value at epoch t=94 is 0.45975177187961347\n",
      "Objective value at epoch t=95 is 0.45975142367901584\n",
      "Objective value at epoch t=96 is 0.4597511102021513\n",
      "Objective value at epoch t=97 is 0.45975082824726216\n",
      "Objective value at epoch t=98 is 0.45975057432730704\n",
      "Objective value at epoch t=99 is 0.45975034590617475\n"
     ]
    }
   ],
   "source": [
    "lam = 1E-6\n",
    "stepsize = 0.1\n",
    "w, objvals_sgd = sgd(x_train, y_train, lam, stepsize)"
   ]
  },
  {
   "cell_type": "markdown",
   "metadata": {},
   "source": [
    "# 4. Compare GD with SGD\n",
    "\n",
    "Plot objective function values against epochs."
   ]
  },
  {
   "cell_type": "code",
   "execution_count": 34,
   "metadata": {},
   "outputs": [
    {
     "name": "stderr",
     "output_type": "stream",
     "text": [
      "<ipython-input-34-9b8d8f4cdfb5>:9: MatplotlibDeprecationWarning: Case-insensitive properties were deprecated in 3.3 and support will be removed two minor releases later\n",
      "  line0, = plt.plot(epochs_gd, objvals_gd, '--b', LineWidth=4)\n",
      "<ipython-input-34-9b8d8f4cdfb5>:10: MatplotlibDeprecationWarning: Case-insensitive properties were deprecated in 3.3 and support will be removed two minor releases later\n",
      "  line1, = plt.plot(epochs_sgd, objvals_sgd, '-r', LineWidth=2)\n",
      "<ipython-input-34-9b8d8f4cdfb5>:11: MatplotlibDeprecationWarning: Case-insensitive properties were deprecated in 3.3 and support will be removed two minor releases later\n",
      "  plt.xlabel('Epochs', FontSize=20)\n",
      "<ipython-input-34-9b8d8f4cdfb5>:12: MatplotlibDeprecationWarning: Case-insensitive properties were deprecated in 3.3 and support will be removed two minor releases later\n",
      "  plt.ylabel('Objective Value', FontSize=20)\n",
      "<ipython-input-34-9b8d8f4cdfb5>:13: MatplotlibDeprecationWarning: Case-insensitive properties were deprecated in 3.3 and support will be removed two minor releases later\n",
      "  plt.xticks(FontSize=16)\n",
      "<ipython-input-34-9b8d8f4cdfb5>:14: MatplotlibDeprecationWarning: Case-insensitive properties were deprecated in 3.3 and support will be removed two minor releases later\n",
      "  plt.yticks(FontSize=16)\n"
     ]
    },
    {
     "data": {
      "image/png": "[encoded data removed]",
      "text/plain": [
       "<Figure size 432x288 with 1 Axes>"
      ]
     },
     "metadata": {
      "needs_background": "light"
     },
     "output_type": "display_data"
    }
   ],
   "source": [
    "import matplotlib.pyplot as plt\n",
    "%matplotlib inline\n",
    "\n",
    "fig = plt.figure(figsize=(6, 4))\n",
    "\n",
    "epochs_gd = range(len(objvals_gd))\n",
    "epochs_sgd = range(len(objvals_sgd))\n",
    "\n",
    "line0, = plt.plot(epochs_gd, objvals_gd, '--b', LineWidth=4)\n",
    "line1, = plt.plot(epochs_sgd, objvals_sgd, '-r', LineWidth=2)\n",
    "plt.xlabel('Epochs', FontSize=20)\n",
    "plt.ylabel('Objective Value', FontSize=20)\n",
    "plt.xticks(FontSize=16)\n",
    "plt.yticks(FontSize=16)\n",
    "plt.legend([line0, line1], ['GD', 'SGD'], fontsize=20)\n",
    "plt.tight_layout()\n",
    "plt.show()\n",
    "fig.savefig('compare_gd_sgd.pdf', format='pdf', dpi=1200)"
   ]
  },
  {
   "cell_type": "markdown",
   "metadata": {},
   "source": [
    "# 5. Prediction"
   ]
  },
  {
   "cell_type": "code",
   "execution_count": 35,
   "metadata": {},
   "outputs": [],
   "source": [
    "# Predict class label\n",
    "# Inputs:\n",
    "#     w: d-by-1 matrix\n",
    "#     X: m-by-d matrix\n",
    "# Return:\n",
    "#     f: m-by-1 matrix, the predictions\n",
    "def predict(w, X):\n",
    "    xw = numpy.dot(X, w)\n",
    "    f = numpy.sign(xw)\n",
    "    return f"
   ]
  },
  {
   "cell_type": "code",
   "execution_count": 36,
   "metadata": {},
   "outputs": [
    {
     "name": "stdout",
     "output_type": "stream",
     "text": [
      "Training classification error is 0.2140625\n"
     ]
    }
   ],
   "source": [
    "# evaluate training error\n",
    "f_train = predict(w, x_train)\n",
    "diff = numpy.abs(f_train - y_train) / 2\n",
    "error_train = numpy.mean(diff)\n",
    "print('Training classification error is ' + str(error_train))"
   ]
  },
  {
   "cell_type": "code",
   "execution_count": 37,
   "metadata": {},
   "outputs": [
    {
     "name": "stdout",
     "output_type": "stream",
     "text": [
      "Test classification error is 0.2421875\n"
     ]
    }
   ],
   "source": [
    "# evaluate test error\n",
    "f_test = predict(w, x_test)\n",
    "diff = numpy.abs(f_test - y_test) / 2\n",
    "error_test = numpy.mean(diff)\n",
    "print('Test classification error is ' + str(error_test))"
   ]
  },
  {
   "cell_type": "markdown",
   "metadata": {},
   "source": [
    "# 6. Mini-batch SGD (fill the code)\n",
    "\n"
   ]
  },
  {
   "cell_type": "markdown",
   "metadata": {},
   "source": [
    "?]## 6.1. Compute the objective $Q_I$ and its gradient using a batch of samples\n",
    "\n",
    "Define $Q_I (w) = \\frac{1}{b} \\sum_{i \\in I} \\log \\Big( 1 + \\exp \\big( - y_i x_i^T w \\big) \\Big) + \\frac{\\lambda}{2} \\| w \\|_2^2 $, where $I$ is a set containing $b$ indices randomly drawn from $\\{ 1, \\cdots , n \\}$ without replacement.\n",
    "\n",
    "The stochastic gradient at $w$ is $g_I = \\frac{\\partial Q_I }{ \\partial w} = \\frac{1}{b} \\sum_{i \\in I} \\frac{- y_i x_i }{1 + \\exp ( y_i x_i^T w)} + \\lambda w$."
   ]
  },
  {
   "cell_type": "code",
   "execution_count": 38,
   "metadata": {},
   "outputs": [],
   "source": [
    "# Calculate the objective Q_I and the gradient of Q_I\n",
    "# Inputs:\n",
    "#     w: d-by-1 matrix\n",
    "#     xi: b-by-d matrix\n",
    "#     yi: b-by-1 matrix\n",
    "#     lam: scalar, the regularization parameter\n",
    "#     b: integer, the batch size\n",
    "# Return:\n",
    "#     obj: scalar, the objective Q_i\n",
    "#     g: d-by-1 matrix, gradient of Q_i\n",
    "def mb_stochastic_objective_gradient(w, xi, yi, lam, b):\n",
    "    # Fill the function\n",
    "    # Follow the implementation of stochastic_objective_gradient\n",
    "    # Use matrix-vector multiplication; do not use FOR LOOP of vector-vector multiplications\n",
    "    \n",
    "    # calculate the gradient\n",
    "#     print(f\"B: {b}\")\n",
    "#     print(f\"Shape of W: {w.shape}\")\n",
    "#     print(f\"Shape of Xi: {xi.shape}\")\n",
    "#     print(f\"Shape of Yi: {yi.shape}\")\n",
    "    yx: numpy.ndarray = -numpy.multiply(yi, xi) # b-by-d matrix\n",
    "#     print(f\"Shape of yx: {yx.shape}\")\n",
    "    yxw: numpy.ndarray = numpy.dot(yx, w) # b-by-1 matrix\n",
    "#     print(f\"Shape of yxw: {yxw.shape}\")\n",
    "    den: numpy.ndarray = 1 + numpy.exp(yxw) # b-by-1 matrix\n",
    "#     print(f\"Shape of den: {den.shape}\")\n",
    "    subgrad_matrix: numpy.ndarray = (1/b) * numpy.divide(yx, den) # b-by-d matrix\n",
    "#     print(f\"Shape of subgrad_matrix: {subgrad_matrix.shape}\")\n",
    "    subgrad: numpy.ndarray = numpy.sum(subgrad_matrix, axis=0)\n",
    "#     print(f\"Shape of subgrad : {subgrad.shape}\")\n",
    "    g = numpy.add(numpy.transpose(subgrad), lam*w)\n",
    "#     print(f\"Shape of gradient: {g.shape}\")\n",
    "    \n",
    "    # calculate the objective function\n",
    "    loss = 0\n",
    "    reg = 0\n",
    "    for i in range(b):\n",
    "        loss += numpy.log(1 + numpy.exp(-yxw[i, ...]))\n",
    "    reg = (lam/2) * numpy.sum(w * w)\n",
    "        \n",
    "    obj = (loss+reg)/b\n",
    "    \n",
    "    return obj, g"
   ]
  },
  {
   "cell_type": "markdown",
   "metadata": {},
   "source": [
    "## 6.2. Implement mini-batch SGD\n",
    "\n",
    "Hints:\n",
    "1. In every epoch, randomly permute the $n$ samples (just like SGD).\n",
    "2. Each epoch has $\\frac{n}{b}$ iterations. In every iteration, use $b$ samples, and compute the gradient and objective using the ``mb_stochastic_objective_gradient`` function. In the next iteration, use the next $b$ samples, and so on.\n"
   ]
  },
  {
   "cell_type": "code",
   "execution_count": 39,
   "metadata": {},
   "outputs": [],
   "source": [
    "# Mini-Batch SGD for solving logistic regression\n",
    "# Inumpyuts:\n",
    "#     x: n-by-d matrix\n",
    "#     y: n-by-1 matrix\n",
    "#     lam: scalar, the regularization parameter\n",
    "#     b: integer, the batch size\n",
    "#     stepsize: scalar\n",
    "#     max_epoch: integer, the maximal epochs\n",
    "#     w: d-by-1 matrix, initialization of w\n",
    "# Return:\n",
    "#     w: the solution\n",
    "#     objvals: record of each iteration's objective value\n",
    "def mb_sgd(x, y, lam, b, stepsize, max_epoch=100, w=None):\n",
    "    # Fill the function\n",
    "    # Follow the implementation of sgd\n",
    "    # Record one objective value per epoch (not per iteration!)\n",
    "    n, d = x.shape\n",
    "    objvals: numpy.ndarray = numpy.zeros((max_epoch))\n",
    "    if n % b != 0:\n",
    "        raise ValueError(\"Dataset must be evenly divisible into batches. Invalid batch length\")\n",
    "        \n",
    "    if w is None:\n",
    "        w = numpy.random.randn(d, 1) # uniform random initialization\n",
    "    \n",
    "\n",
    "    \n",
    "    num_batches: int = n // b\n",
    "    objval = 0 # accumulate the objective values\n",
    "    for e in range(max_epoch):\n",
    "        rand_indices: numpy.ndarray = numpy.random.permutation(n)\n",
    "        x_rand: numpy.ndarray = x[rand_indices, ...]\n",
    "        y_rand: numpy.ndarray = y[rand_indices, ...]\n",
    "            \n",
    "        objval = 0 # accumulate objective values\n",
    "        for i in range(num_batches):\n",
    "            start: int = b*i\n",
    "            end: int = start + b\n",
    "            obj, g = mb_stochastic_objective_gradient(w, x[start:end, ...], y[start:end, ...], lam, b)\n",
    "            objval += obj\n",
    "            w -= stepsize*g\n",
    "        \n",
    "        stepsize *= 0.9 # decrease step size\n",
    "        objval /= num_batches\n",
    "        objvals[e] = objval\n",
    "        print(f'Objective value at epoch e={str(e)} is {str(objval)}')\n",
    "         \n",
    "        \n",
    "    \n",
    "    return w, objvals"
   ]
  },
  {
   "cell_type": "markdown",
   "metadata": {},
   "source": [
    "## 6.3. Run MB-SGD"
   ]
  },
  {
   "cell_type": "code",
   "execution_count": 40,
   "metadata": {},
   "outputs": [
    {
     "name": "stdout",
     "output_type": "stream",
     "text": [
      "Objective value at epoch e=0 is [[5.67732566]]\n",
      "Objective value at epoch e=1 is [[11.55964773]]\n",
      "Objective value at epoch e=2 is [[17.06160007]]\n",
      "Objective value at epoch e=3 is [[22.0935262]]\n",
      "Objective value at epoch e=4 is [[26.67423616]]\n",
      "Objective value at epoch e=5 is [[30.81990985]]\n",
      "Objective value at epoch e=6 is [[34.56117829]]\n",
      "Objective value at epoch e=7 is [[37.93513576]]\n",
      "Objective value at epoch e=8 is [[40.97739565]]\n",
      "Objective value at epoch e=9 is [[43.71999054]]\n",
      "Objective value at epoch e=10 is [[46.19143557]]\n",
      "Objective value at epoch e=11 is [[48.41765395]]\n",
      "Objective value at epoch e=12 is [[50.42248158]]\n",
      "Objective value at epoch e=13 is [[52.22774348]]\n",
      "Objective value at epoch e=14 is [[53.85327614]]\n",
      "Objective value at epoch e=15 is [[55.31696954]]\n",
      "Objective value at epoch e=16 is [[56.63488057]]\n",
      "Objective value at epoch e=17 is [[57.82143508]]\n",
      "Objective value at epoch e=18 is [[58.88963879]]\n",
      "Objective value at epoch e=19 is [[59.851237]]\n",
      "Objective value at epoch e=20 is [[60.71683312]]\n",
      "Objective value at epoch e=21 is [[61.49599086]]\n",
      "Objective value at epoch e=22 is [[62.19732941]]\n",
      "Objective value at epoch e=23 is [[62.82861302]]\n",
      "Objective value at epoch e=24 is [[63.39683369]]\n",
      "Objective value at epoch e=25 is [[63.90828699]]\n",
      "Objective value at epoch e=26 is [[64.36864086]]\n",
      "Objective value at epoch e=27 is [[64.78299788]]\n",
      "Objective value at epoch e=28 is [[65.15595152]]\n",
      "Objective value at epoch e=29 is [[65.49163682]]\n",
      "Objective value at epoch e=30 is [[65.79377613]]\n",
      "Objective value at epoch e=31 is [[66.06572022]]\n",
      "Objective value at epoch e=32 is [[66.31048541]]\n",
      "Objective value at epoch e=33 is [[66.53078686]]\n",
      "Objective value at epoch e=34 is [[66.7290687]]\n",
      "Objective value at epoch e=35 is [[66.90753099]]\n",
      "Objective value at epoch e=36 is [[67.06815413]]\n",
      "Objective value at epoch e=37 is [[67.21272073]]\n",
      "Objective value at epoch e=38 is [[67.34283539]]\n",
      "Objective value at epoch e=39 is [[67.45994243]]\n",
      "Objective value at epoch e=40 is [[67.56534189]]\n",
      "Objective value at epoch e=41 is [[67.66020394]]\n",
      "Objective value at epoch e=42 is [[67.74558186]]\n",
      "Objective value at epoch e=43 is [[67.82242366]]\n",
      "Objective value at epoch e=44 is [[67.89158264]]\n",
      "Objective value at epoch e=45 is [[67.95382683]]\n",
      "Objective value at epoch e=46 is [[68.00984749]]\n",
      "Objective value at epoch e=47 is [[68.06026682]]\n",
      "Objective value at epoch e=48 is [[68.1056448]]\n",
      "Objective value at epoch e=49 is [[68.14648545]]\n",
      "Objective value at epoch e=50 is [[68.18324243]]\n",
      "Objective value at epoch e=51 is [[68.21632403]]\n",
      "Objective value at epoch e=52 is [[68.24609771]]\n",
      "Objective value at epoch e=53 is [[68.27289424]]\n",
      "Objective value at epoch e=54 is [[68.29701128]]\n",
      "Objective value at epoch e=55 is [[68.31871675]]\n",
      "Objective value at epoch e=56 is [[68.33825178]]\n",
      "Objective value at epoch e=57 is [[68.35583339]]\n",
      "Objective value at epoch e=58 is [[68.37165692]]\n",
      "Objective value at epoch e=59 is [[68.38589815]]\n",
      "Objective value at epoch e=60 is [[68.39871531]]\n",
      "Objective value at epoch e=61 is [[68.41025078]]\n",
      "Objective value at epoch e=62 is [[68.42063275]]\n",
      "Objective value at epoch e=63 is [[68.42997654]]\n",
      "Objective value at epoch e=64 is [[68.43838597]]\n",
      "Objective value at epoch e=65 is [[68.44595447]]\n",
      "Objective value at epoch e=66 is [[68.45276614]]\n",
      "Objective value at epoch e=67 is [[68.45889665]]\n",
      "Objective value at epoch e=68 is [[68.46441412]]\n",
      "Objective value at epoch e=69 is [[68.46937985]]\n",
      "Objective value at epoch e=70 is [[68.47384901]]\n",
      "Objective value at epoch e=71 is [[68.47787126]]\n",
      "Objective value at epoch e=72 is [[68.48149129]]\n",
      "Objective value at epoch e=73 is [[68.48474932]]\n",
      "Objective value at epoch e=74 is [[68.48768155]]\n",
      "Objective value at epoch e=75 is [[68.49032055]]\n",
      "Objective value at epoch e=76 is [[68.49269566]]\n",
      "Objective value at epoch e=77 is [[68.49483326]]\n",
      "Objective value at epoch e=78 is [[68.4967571]]\n",
      "Objective value at epoch e=79 is [[68.49848856]]\n",
      "Objective value at epoch e=80 is [[68.50004687]]\n",
      "Objective value at epoch e=81 is [[68.50144935]]\n",
      "Objective value at epoch e=82 is [[68.50271159]]\n",
      "Objective value at epoch e=83 is [[68.5038476]]\n",
      "Objective value at epoch e=84 is [[68.50487001]]\n",
      "Objective value at epoch e=85 is [[68.50579018]]\n",
      "Objective value at epoch e=86 is [[68.50661833]]\n",
      "Objective value at epoch e=87 is [[68.50736367]]\n",
      "Objective value at epoch e=88 is [[68.50803447]]\n",
      "Objective value at epoch e=89 is [[68.50863819]]\n",
      "Objective value at epoch e=90 is [[68.50918154]]\n",
      "Objective value at epoch e=91 is [[68.50967056]]\n",
      "Objective value at epoch e=92 is [[68.51011067]]\n",
      "Objective value at epoch e=93 is [[68.51050678]]\n",
      "Objective value at epoch e=94 is [[68.51086327]]\n",
      "Objective value at epoch e=95 is [[68.51118411]]\n",
      "Objective value at epoch e=96 is [[68.51147287]]\n",
      "Objective value at epoch e=97 is [[68.51173276]]\n",
      "Objective value at epoch e=98 is [[68.51196665]]\n",
      "Objective value at epoch e=99 is [[68.51217716]]\n"
     ]
    }
   ],
   "source": [
    "# MB-SGD with batch size b=8\n",
    "lam = 1E-6 # do not change\n",
    "b = 8 # do not change\n",
    "stepsize = 0.1 # you must tune this parameter\n",
    "\n",
    "w, objvals_mbsgd8 = mb_sgd(x_train, y_train, lam, b, stepsize)"
   ]
  },
  {
   "cell_type": "code",
   "execution_count": 41,
   "metadata": {},
   "outputs": [
    {
     "name": "stdout",
     "output_type": "stream",
     "text": [
      "Objective value at epoch e=0 is [[0.95446353]]\n",
      "Objective value at epoch e=1 is [[1.08502878]]\n",
      "Objective value at epoch e=2 is [[1.22683486]]\n",
      "Objective value at epoch e=3 is [[1.37660012]]\n",
      "Objective value at epoch e=4 is [[1.53126752]]\n",
      "Objective value at epoch e=5 is [[1.68799677]]\n",
      "Objective value at epoch e=6 is [[1.84417124]]\n",
      "Objective value at epoch e=7 is [[1.99747738]]\n",
      "Objective value at epoch e=8 is [[2.14599989]]\n",
      "Objective value at epoch e=9 is [[2.28826328]]\n",
      "Objective value at epoch e=10 is [[2.42321026]]\n",
      "Objective value at epoch e=11 is [[2.55015229]]\n",
      "Objective value at epoch e=12 is [[2.66871961]]\n",
      "Objective value at epoch e=13 is [[2.77880897]]\n",
      "Objective value at epoch e=14 is [[2.88052508]]\n",
      "Objective value at epoch e=15 is [[2.97412344]]\n",
      "Objective value at epoch e=16 is [[3.05996259]]\n",
      "Objective value at epoch e=17 is [[3.13846699]]\n",
      "Objective value at epoch e=18 is [[3.21009854]]\n",
      "Objective value at epoch e=19 is [[3.27533488]]\n",
      "Objective value at epoch e=20 is [[3.33465341]]\n",
      "Objective value at epoch e=21 is [[3.38852005]]\n",
      "Objective value at epoch e=22 is [[3.43738174]]\n",
      "Objective value at epoch e=23 is [[3.48166188]]\n",
      "Objective value at epoch e=24 is [[3.52175782]]\n",
      "Objective value at epoch e=25 is [[3.55803978]]\n",
      "Objective value at epoch e=26 is [[3.59085078]]\n",
      "Objective value at epoch e=27 is [[3.6205073]]\n",
      "Objective value at epoch e=28 is [[3.64730025]]\n",
      "Objective value at epoch e=29 is [[3.67149628]]\n",
      "Objective value at epoch e=30 is [[3.69333924]]\n",
      "Objective value at epoch e=31 is [[3.71305168]]\n",
      "Objective value at epoch e=32 is [[3.73083636]]\n",
      "Objective value at epoch e=33 is [[3.74687775]]\n",
      "Objective value at epoch e=34 is [[3.76134346]]\n",
      "Objective value at epoch e=35 is [[3.77438563]]\n",
      "Objective value at epoch e=36 is [[3.78614224]]\n",
      "Objective value at epoch e=37 is [[3.79673828]]\n",
      "Objective value at epoch e=38 is [[3.80628695]]\n",
      "Objective value at epoch e=39 is [[3.81489065]]\n",
      "Objective value at epoch e=40 is [[3.822642]]\n",
      "Objective value at epoch e=41 is [[3.8296247]]\n",
      "Objective value at epoch e=42 is [[3.8359144]]\n",
      "Objective value at epoch e=43 is [[3.84157938]]\n",
      "Objective value at epoch e=44 is [[3.84668132]]\n",
      "Objective value at epoch e=45 is [[3.85127586]]\n",
      "Objective value at epoch e=46 is [[3.85541321]]\n",
      "Objective value at epoch e=47 is [[3.85913865]]\n",
      "Objective value at epoch e=48 is [[3.86249304]]\n",
      "Objective value at epoch e=49 is [[3.86551319]]\n",
      "Objective value at epoch e=50 is [[3.8682323]]\n",
      "Objective value at epoch e=51 is [[3.87068029]]\n",
      "Objective value at epoch e=52 is [[3.87288412]]\n",
      "Objective value at epoch e=53 is [[3.87486809]]\n",
      "Objective value at epoch e=54 is [[3.87665408]]\n",
      "Objective value at epoch e=55 is [[3.87826181]]\n",
      "Objective value at epoch e=56 is [[3.87970904]]\n",
      "Objective value at epoch e=57 is [[3.88101177]]\n",
      "Objective value at epoch e=58 is [[3.88218441]]\n",
      "Objective value at epoch e=59 is [[3.88323993]]\n",
      "Objective value at epoch e=60 is [[3.88419002]]\n",
      "Objective value at epoch e=61 is [[3.88504519]]\n",
      "Objective value at epoch e=62 is [[3.88581493]]\n",
      "Objective value at epoch e=63 is [[3.88650775]]\n",
      "Objective value at epoch e=64 is [[3.88713134]]\n",
      "Objective value at epoch e=65 is [[3.88769262]]\n",
      "Objective value at epoch e=66 is [[3.8881978]]\n",
      "Objective value at epoch e=67 is [[3.88865249]]\n",
      "Objective value at epoch e=68 is [[3.88906173]]\n",
      "Objective value at epoch e=69 is [[3.88943007]]\n",
      "Objective value at epoch e=70 is [[3.88976159]]\n",
      "Objective value at epoch e=71 is [[3.89005996]]\n",
      "Objective value at epoch e=72 is [[3.89032851]]\n",
      "Objective value at epoch e=73 is [[3.89057021]]\n",
      "Objective value at epoch e=74 is [[3.89078775]]\n",
      "Objective value at epoch e=75 is [[3.89098354]]\n",
      "Objective value at epoch e=76 is [[3.89115976]]\n",
      "Objective value at epoch e=77 is [[3.89131835]]\n",
      "Objective value at epoch e=78 is [[3.89146109]]\n",
      "Objective value at epoch e=79 is [[3.89158956]]\n",
      "Objective value at epoch e=80 is [[3.89170518]]\n",
      "Objective value at epoch e=81 is [[3.89180924]]\n",
      "Objective value at epoch e=82 is [[3.8919029]]\n",
      "Objective value at epoch e=83 is [[3.89198719]]\n",
      "Objective value at epoch e=84 is [[3.89206305]]\n",
      "Objective value at epoch e=85 is [[3.89213133]]\n",
      "Objective value at epoch e=86 is [[3.89219278]]\n",
      "Objective value at epoch e=87 is [[3.89224809]]\n",
      "Objective value at epoch e=88 is [[3.89229786]]\n",
      "Objective value at epoch e=89 is [[3.89234266]]\n",
      "Objective value at epoch e=90 is [[3.89238298]]\n",
      "Objective value at epoch e=91 is [[3.89241927]]\n",
      "Objective value at epoch e=92 is [[3.89245193]]\n",
      "Objective value at epoch e=93 is [[3.89248132]]\n",
      "Objective value at epoch e=94 is [[3.89250777]]\n",
      "Objective value at epoch e=95 is [[3.89253158]]\n",
      "Objective value at epoch e=96 is [[3.89255301]]\n",
      "Objective value at epoch e=97 is [[3.89257229]]\n",
      "Objective value at epoch e=98 is [[3.89258965]]\n",
      "Objective value at epoch e=99 is [[3.89260527]]\n"
     ]
    }
   ],
   "source": [
    "# MB-SGD with batch size b=64\n",
    "lam = 1E-6 # do not change\n",
    "b = 64 # do not change\n",
    "stepsize = 0.1 # you must tune this parameter\n",
    "\n",
    "w, objvals_mbsgd64 = mb_sgd(x_train, y_train, lam, b, stepsize)"
   ]
  },
  {
   "cell_type": "markdown",
   "metadata": {},
   "source": [
    "# 7. Plot and compare GD, SGD, and MB-SGD"
   ]
  },
  {
   "cell_type": "markdown",
   "metadata": {},
   "source": [
    "You are required to compare the following algorithms:\n",
    "\n",
    "- Gradient descent (GD)\n",
    "\n",
    "- SGD\n",
    "\n",
    "- MB-SGD with b=8\n",
    "\n",
    "- MB-SGD with b=64\n",
    "\n",
    "Follow the code in Section 4 to plot ```objective function value``` against ```epochs```. There should be four curves in the plot; each curve corresponds to one algorithm."
   ]
  },
  {
   "cell_type": "markdown",
   "metadata": {},
   "source": [
    "Hint: Logistic regression with $\\ell_2$-norm regularization is a strongly convex optimization problem. All the algorithms will converge to the same solution. **In the end, the ``objective function value`` of the 4 algorithms will be the same. If not the same, your implementation must be wrong. Do NOT submit wrong code and wrong result!**"
   ]
  },
  {
   "cell_type": "code",
   "execution_count": 42,
   "metadata": {},
   "outputs": [],
   "source": [
    "# plot the 4 curves:"
   ]
  },
  {
   "cell_type": "code",
   "execution_count": 43,
   "metadata": {},
   "outputs": [
    {
     "name": "stderr",
     "output_type": "stream",
     "text": [
      "<ipython-input-43-e8438afdc3ae>:5: MatplotlibDeprecationWarning: Case-insensitive properties were deprecated in 3.3 and support will be removed two minor releases later\n",
      "  line0, = plt.plot(epochs_mbsgd8, objvals_mbsgd8, '--b', LineWidth=4)\n",
      "<ipython-input-43-e8438afdc3ae>:6: MatplotlibDeprecationWarning: Case-insensitive properties were deprecated in 3.3 and support will be removed two minor releases later\n",
      "  line1, = plt.plot(epochs_mbsgd64, objvals_mbsgd64, '--r', LineWidth=2)\n"
     ]
    },
    {
     "data": {
      "image/png": "[encoded data removed]",
      "text/plain": [
       "<Figure size 432x288 with 1 Axes>"
      ]
     },
     "metadata": {
      "needs_background": "light"
     },
     "output_type": "display_data"
    }
   ],
   "source": [
    "fig = plt.figure(figsize=(6, 4))\n",
    "epochs_mbsgd8 = range(len(objvals_mbsgd8))\n",
    "epochs_mbsgd64 = range(len(objvals_mbsgd64))\n",
    "\n",
    "line0, = plt.plot(epochs_mbsgd8, objvals_mbsgd8, '--b', LineWidth=4)\n",
    "line1, = plt.plot(epochs_mbsgd64, objvals_mbsgd64, '--r', LineWidth=2)\n",
    "plt.show()\n",
    "\n"
   ]
  }
 ],
 "metadata": {
  "kernelspec": {
   "display_name": "Python 3",
   "language": "python",
   "name": "python3"
  },
  "language_info": {
   "codemirror_mode": {
    "name": "ipython",
    "version": 3
   },
   "file_extension": ".py",
   "mimetype": "text/x-python",
   "name": "python",
   "nbconvert_exporter": "python",
   "pygments_lexer": "ipython3",
   "version": "3.8.5"
  }
 },
 "nbformat": 4,
 "nbformat_minor": 4
}
