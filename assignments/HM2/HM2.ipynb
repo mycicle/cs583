{
 "cells": [
  {
   "cell_type": "markdown",
   "metadata": {},
   "source": [
    "# HM2: Numerical Optimization for Logistic Regression.\n",
    "\n",
    "### Name: Michael DiGregorio\n"
   ]
  },
  {
   "cell_type": "markdown",
   "metadata": {},
   "source": [
    "## 0. You will do the following:\n",
    "\n",
    "1. Read the lecture note: [click here](https://github.com/wangshusen/DeepLearning/blob/master/LectureNotes/Logistic/paper/logistic.pdf)\n",
    "\n",
    "2. Read, complete, and run my code.\n",
    "\n",
    "3. **Implement mini-batch SGD** and evaluate the performance.\n",
    "\n",
    "4. Convert the .IPYNB file to .HTML file.\n",
    "\n",
    "    * The HTML file must contain **the code** and **the output after execution**.\n",
    "    \n",
    "    * Missing **the output after execution** will not be graded.\n",
    "    \n",
    "5. Upload this .HTML file to your Google Drive, Dropbox, or your Github repo.  (If you submit the file to Google Drive or Dropbox, you must make the file \"open-access\". The delay caused by \"deny of access\" may result in late penalty.)\n",
    "\n",
    "6. Submit the link to this .HTML file to Canvas.\n",
    "\n",
    "    * Example: https://github.com/wangshusen/CS583-2020S/blob/master/homework/HM2/HM2.html\n",
    "\n",
    "\n",
    "## Grading criteria:\n",
    "\n",
    "1. When computing the ```gradient``` and ```objective function value``` using a batch of samples, use **matrix-vector multiplication** rather than a FOR LOOP of **vector-vector multiplications**.\n",
    "\n",
    "2. Plot ```objective function value``` against ```epochs```. In the plot, compare GD, SGD, and MB-SGD (with $b=8$ and $b=64$). The plot must look reasonable."
   ]
  },
  {
   "cell_type": "code",
   "execution_count": null,
   "metadata": {},
   "outputs": [],
   "source": []
  },
  {
   "cell_type": "markdown",
   "metadata": {},
   "source": [
    "# 1. Data processing\n",
    "\n",
    "- Download the Diabete dataset from https://www.csie.ntu.edu.tw/~cjlin/libsvmtools/datasets/binary/diabetes\n",
    "- Load the data using sklearn.\n",
    "- Preprocess the data."
   ]
  },
  {
   "cell_type": "markdown",
   "metadata": {},
   "source": [
    "## 1.1. Load the data"
   ]
  },
  {
   "cell_type": "code",
   "execution_count": 1,
   "metadata": {},
   "outputs": [
    {
     "name": "stdout",
     "output_type": "stream",
     "text": [
      "Shape of x: (768, 8)\n",
      "Shape of y: (768,)\n"
     ]
    }
   ],
   "source": [
    "from sklearn import datasets\n",
    "import numpy\n",
    "\n",
    "x_sparse, y = datasets.load_svmlight_file('diabetes')\n",
    "x = x_sparse.todense()\n",
    "\n",
    "print('Shape of x: ' + str(x.shape))\n",
    "print('Shape of y: ' + str(y.shape))"
   ]
  },
  {
   "cell_type": "markdown",
   "metadata": {},
   "source": [
    "## 1.2. Partition to training and test sets"
   ]
  },
  {
   "cell_type": "code",
   "execution_count": 2,
   "metadata": {},
   "outputs": [
    {
     "name": "stdout",
     "output_type": "stream",
     "text": [
      "Shape of x_train: (640, 8)\n",
      "Shape of x_test: (128, 8)\n",
      "Shape of y_train: (640, 1)\n",
      "Shape of y_test: (128, 1)\n"
     ]
    }
   ],
   "source": [
    "# partition the data to training and test sets\n",
    "n = x.shape[0]\n",
    "n_train = 640\n",
    "n_test = n - n_train\n",
    "\n",
    "rand_indices = numpy.random.permutation(n)\n",
    "train_indices = rand_indices[0:n_train]\n",
    "test_indices = rand_indices[n_train:n]\n",
    "\n",
    "x_train = x[train_indices, :]\n",
    "x_test = x[test_indices, :]\n",
    "y_train = y[train_indices].reshape(n_train, 1)\n",
    "y_test = y[test_indices].reshape(n_test, 1)\n",
    "\n",
    "print('Shape of x_train: ' + str(x_train.shape))\n",
    "print('Shape of x_test: ' + str(x_test.shape))\n",
    "print('Shape of y_train: ' + str(y_train.shape))\n",
    "print('Shape of y_test: ' + str(y_test.shape))"
   ]
  },
  {
   "cell_type": "markdown",
   "metadata": {},
   "source": [
    "## 1.3. Feature scaling"
   ]
  },
  {
   "cell_type": "markdown",
   "metadata": {},
   "source": [
    "Use the standardization to trainsform both training and test features"
   ]
  },
  {
   "cell_type": "code",
   "execution_count": 3,
   "metadata": {},
   "outputs": [
    {
     "name": "stdout",
     "output_type": "stream",
     "text": [
      "test mean = \n",
      "[[ 0.02426271  0.1064806  -0.13963569  0.02421849 -0.02908975 -0.1221579\n",
      "   0.08937512  0.16867414]]\n",
      "test std = \n",
      "[[0.91632625 0.96860629 1.04585862 1.12020025 0.8964284  0.94098554\n",
      "  1.02090782 1.10771719]]\n"
     ]
    }
   ],
   "source": [
    "# Standardization\n",
    "import numpy\n",
    "\n",
    "# calculate mu and sig using the training set\n",
    "d = x_train.shape[1]\n",
    "mu = numpy.mean(x_train, axis=0).reshape(1, d)\n",
    "sig = numpy.std(x_train, axis=0).reshape(1, d)\n",
    "\n",
    "# transform the training features\n",
    "x_train = (x_train - mu) / (sig + 1E-6)\n",
    "\n",
    "# transform the test features\n",
    "x_test = (x_test - mu) / (sig + 1E-6)\n",
    "\n",
    "print('test mean = ')\n",
    "print(numpy.mean(x_test, axis=0))\n",
    "\n",
    "print('test std = ')\n",
    "print(numpy.std(x_test, axis=0))"
   ]
  },
  {
   "cell_type": "markdown",
   "metadata": {},
   "source": [
    "## 1.4. Add a dimension of all ones"
   ]
  },
  {
   "cell_type": "code",
   "execution_count": 4,
   "metadata": {},
   "outputs": [
    {
     "name": "stdout",
     "output_type": "stream",
     "text": [
      "Shape of x_train: (640, 9)\n",
      "Shape of x_test: (128, 9)\n"
     ]
    }
   ],
   "source": [
    "n_train, d = x_train.shape\n",
    "x_train = numpy.concatenate((x_train, numpy.ones((n_train, 1))), axis=1)\n",
    "\n",
    "n_test, d = x_test.shape\n",
    "x_test = numpy.concatenate((x_test, numpy.ones((n_test, 1))), axis=1)\n",
    "\n",
    "print('Shape of x_train: ' + str(x_train.shape))\n",
    "print('Shape of x_test: ' + str(x_test.shape))"
   ]
  },
  {
   "cell_type": "markdown",
   "metadata": {},
   "source": [
    "# 2. Logistic regression model\n",
    "\n",
    "The objective function is $Q (w; X, y) = \\frac{1}{n} \\sum_{i=1}^n \\log \\Big( 1 + \\exp \\big( - y_i x_i^T w \\big) \\Big) + \\frac{\\lambda}{2} \\| w \\|_2^2 $."
   ]
  },
  {
   "cell_type": "code",
   "execution_count": 5,
   "metadata": {},
   "outputs": [],
   "source": [
    "# Calculate the objective function value\n",
    "# Inputs:\n",
    "#     w: d-by-1 matrix\n",
    "#     x: n-by-d matrix\n",
    "#     y: n-by-1 matrix\n",
    "#     lam: scalar, the regularization parameter\n",
    "# Return:\n",
    "#     objective function value (scalar)\n",
    "def objective(w, x, y, lam):\n",
    "    n, d = x.shape\n",
    "    yx = numpy.multiply(y, x) # n-by-d matrix\n",
    "    yxw = numpy.dot(yx, w) # n-by-1 matrix\n",
    "    vec1 = numpy.exp(-yxw) # n-by-1 matrix\n",
    "    vec2 = numpy.log(1 + vec1) # n-by-1 matrix\n",
    "    loss = numpy.mean(vec2) # scalar\n",
    "    reg = lam / 2 * numpy.sum(w * w) # scalar\n",
    "    return loss + reg\n",
    "    "
   ]
  },
  {
   "cell_type": "code",
   "execution_count": 6,
   "metadata": {},
   "outputs": [
    {
     "name": "stdout",
     "output_type": "stream",
     "text": [
      "Initial objective function value = 0.6931471805599453\n"
     ]
    }
   ],
   "source": [
    "# initialize w\n",
    "d = x_train.shape[1]\n",
    "w = numpy.zeros((d, 1))\n",
    "\n",
    "# evaluate the objective function value at w\n",
    "lam = 1E-6\n",
    "objval0 = objective(w, x_train, y_train, lam)\n",
    "print('Initial objective function value = ' + str(objval0))"
   ]
  },
  {
   "cell_type": "markdown",
   "metadata": {},
   "source": [
    "# 3. Numerical optimization"
   ]
  },
  {
   "cell_type": "markdown",
   "metadata": {},
   "source": [
    "## 3.1. Gradient descent\n"
   ]
  },
  {
   "cell_type": "markdown",
   "metadata": {},
   "source": [
    "The gradient at $w$ is $g = - \\frac{1}{n} \\sum_{i=1}^n \\frac{y_i x_i }{1 + \\exp ( y_i x_i^T w)} + \\lambda w$"
   ]
  },
  {
   "cell_type": "code",
   "execution_count": 7,
   "metadata": {},
   "outputs": [],
   "source": [
    "# Calculate the gradient\n",
    "# Inputs:\n",
    "#     w: d-by-1 matrix\n",
    "#     x: n-by-d matrix\n",
    "#     y: n-by-1 matrix\n",
    "#     lam: scalar, the regularization parameter\n",
    "# Return:\n",
    "#     g: g: d-by-1 matrix, full gradient\n",
    "def gradient(w, x, y, lam):\n",
    "    n, d = x.shape\n",
    "    yx = numpy.multiply(y, x) # n-by-d matrix\n",
    "    yxw = numpy.dot(yx, w) # n-by-1 matrix\n",
    "    vec1 = numpy.exp(yxw) # n-by-1 matrix\n",
    "    vec2 = numpy.divide(yx, 1+vec1) # n-by-d matrix\n",
    "    vec3 = -numpy.mean(vec2, axis=0).reshape(d, 1) # d-by-1 matrix\n",
    "    g = vec3 + lam * w\n",
    "    return g"
   ]
  },
  {
   "cell_type": "code",
   "execution_count": 8,
   "metadata": {},
   "outputs": [],
   "source": [
    "# Gradient descent for solving logistic regression\n",
    "# Inputs:\n",
    "#     x: n-by-d matrix\n",
    "#     y: n-by-1 matrix\n",
    "#     lam: scalar, the regularization parameter\n",
    "#     stepsize: scalar\n",
    "#     max_iter: integer, the maximal iterations\n",
    "#     w: d-by-1 matrix, initialization of w\n",
    "# Return:\n",
    "#     w: d-by-1 matrix, the solution\n",
    "#     objvals: a record of each iteration's objective value\n",
    "def grad_descent(x, y, lam, stepsize, max_iter=100, w=None):\n",
    "    n, d = x.shape\n",
    "    objvals = numpy.zeros(max_iter) # store the objective values\n",
    "    if w is None:\n",
    "        w = numpy.zeros((d, 1)) # zero initialization\n",
    "    \n",
    "    for t in range(max_iter):\n",
    "        objval = objective(w, x, y, lam)\n",
    "        objvals[t] = objval\n",
    "        print('Objective value at t=' + str(t) + ' is ' + str(objval))\n",
    "        g = gradient(w, x, y, lam)\n",
    "        w -= stepsize * g\n",
    "    \n",
    "    return w, objvals"
   ]
  },
  {
   "cell_type": "markdown",
   "metadata": {},
   "source": [
    "Run gradient descent."
   ]
  },
  {
   "cell_type": "code",
   "execution_count": 9,
   "metadata": {},
   "outputs": [
    {
     "name": "stdout",
     "output_type": "stream",
     "text": [
      "Objective value at t=0 is 0.6931471805599453\n",
      "Objective value at t=1 is 0.5937410772096051\n",
      "Objective value at t=2 is 0.553225527433093\n",
      "Objective value at t=3 is 0.5314520335159508\n",
      "Objective value at t=4 is 0.5178983064269377\n",
      "Objective value at t=5 is 0.5087521276525164\n",
      "Objective value at t=6 is 0.502266569095549\n",
      "Objective value at t=7 is 0.49751116944444135\n",
      "Objective value at t=8 is 0.49393846952256826\n",
      "Objective value at t=9 is 0.49120359999232927\n",
      "Objective value at t=10 is 0.4890784621556447\n",
      "Objective value at t=11 is 0.48740660511046063\n",
      "Objective value at t=12 is 0.48607763922474767\n",
      "Objective value at t=13 is 0.4850118708568057\n",
      "Objective value at t=14 is 0.4841506577425292\n",
      "Objective value at t=15 is 0.48345013991596303\n",
      "Objective value at t=16 is 0.4828770474278017\n",
      "Objective value at t=17 is 0.4824058295566948\n",
      "Objective value at t=18 is 0.48201664855700976\n",
      "Objective value at t=19 is 0.48169395241058255\n",
      "Objective value at t=20 is 0.48142544329431125\n",
      "Objective value at t=21 is 0.4812013213756968\n",
      "Objective value at t=22 is 0.48101372326666564\n",
      "Objective value at t=23 is 0.48085630011375385\n",
      "Objective value at t=24 is 0.48072389719221453\n",
      "Objective value at t=25 is 0.4806123081893974\n",
      "Objective value at t=26 is 0.4805180850675114\n",
      "Objective value at t=27 is 0.4804383897172343\n",
      "Objective value at t=28 is 0.480370877338185\n",
      "Objective value at t=29 is 0.4803136041216392\n",
      "Objective value at t=30 is 0.4802649537029943\n",
      "Objective value at t=31 is 0.48022357822268386\n",
      "Objective value at t=32 is 0.48018835083810346\n",
      "Objective value at t=33 is 0.4801583272711062\n",
      "Objective value at t=34 is 0.48013271452902784\n",
      "Objective value at t=35 is 0.4801108453534788\n",
      "Objective value at t=36 is 0.48009215726677945\n",
      "Objective value at t=37 is 0.4800761753270628\n",
      "Objective value at t=38 is 0.48006249788863586\n",
      "Objective value at t=39 is 0.4800507848079301\n",
      "Objective value at t=40 is 0.4800407476474451\n",
      "Objective value at t=41 is 0.4800321415179773\n",
      "Objective value at t=42 is 0.48002475826875163\n",
      "Objective value at t=43 is 0.4800184207900433\n",
      "Objective value at t=44 is 0.48001297823668426\n",
      "Objective value at t=45 is 0.48000830201592815\n",
      "Objective value at t=46 is 0.4800042824113579\n",
      "Objective value at t=47 is 0.48000082573731095\n",
      "Objective value at t=48 is 0.47999785193677214\n",
      "Objective value at t=49 is 0.4799952925507253\n",
      "Objective value at t=50 is 0.47999308899923826\n",
      "Objective value at t=51 is 0.4799911911246208\n",
      "Objective value at t=52 is 0.4799895559552705\n",
      "Objective value at t=53 is 0.47998814665564227\n",
      "Objective value at t=54 is 0.4799869316334171\n",
      "Objective value at t=55 is 0.4799858837796154\n",
      "Objective value at t=56 is 0.47998497982128724\n",
      "Objective value at t=57 is 0.4799841997696428\n",
      "Objective value at t=58 is 0.47998352644918085\n",
      "Objective value at t=59 is 0.4799829450956338\n",
      "Objective value at t=60 is 0.4799824430124325\n",
      "Objective value at t=61 is 0.47998200927698176\n",
      "Objective value at t=62 is 0.47998163448936704\n",
      "Objective value at t=63 is 0.47998131055724125\n",
      "Objective value at t=64 is 0.47998103051157376\n",
      "Objective value at t=65 is 0.47998078834875757\n",
      "Objective value at t=66 is 0.47998057889523144\n",
      "Objective value at t=67 is 0.47998039769135287\n",
      "Objective value at t=68 is 0.47998024089173824\n",
      "Objective value at t=69 is 0.47998010517969997\n",
      "Objective value at t=70 is 0.4799799876937523\n",
      "Objective value at t=71 is 0.47997988596446195\n",
      "Objective value at t=72 is 0.47997979786016526\n",
      "Objective value at t=73 is 0.4799797215402876\n",
      "Objective value at t=74 is 0.4799796554151908\n",
      "Objective value at t=75 is 0.4799795981116198\n",
      "Objective value at t=76 is 0.479979548442959\n",
      "Objective value at t=77 is 0.47997950538362183\n",
      "Objective value at t=78 is 0.4799794680469909\n",
      "Objective value at t=79 is 0.4799794356664112\n",
      "Objective value at t=80 is 0.47997940757880947\n",
      "Objective value at t=81 is 0.4799793832105722\n",
      "Objective value at t=82 is 0.4799793620653677\n",
      "Objective value at t=83 is 0.4799793437136422\n",
      "Objective value at t=84 is 0.47997932778355673\n",
      "Objective value at t=85 is 0.47997931395316595\n",
      "Objective value at t=86 is 0.4799793019436658\n",
      "Objective value at t=87 is 0.4799792915135641\n",
      "Objective value at t=88 is 0.4799792824536457\n",
      "Objective value at t=89 is 0.47997927458262213\n",
      "Objective value at t=90 is 0.4799792677433746\n",
      "Objective value at t=91 is 0.47997926179970446\n",
      "Objective value at t=92 is 0.47997925663352625\n",
      "Objective value at t=93 is 0.47997925214243947\n",
      "Objective value at t=94 is 0.479979248237629\n",
      "Objective value at t=95 is 0.4799792448420488\n",
      "Objective value at t=96 is 0.47997924188885005\n",
      "Objective value at t=97 is 0.47997923932002184\n",
      "Objective value at t=98 is 0.4799792370852134\n",
      "Objective value at t=99 is 0.47997923514071583\n"
     ]
    }
   ],
   "source": [
    "lam = 1E-6\n",
    "stepsize = 1.0\n",
    "w, objvals_gd = grad_descent(x_train, y_train, lam, stepsize)"
   ]
  },
  {
   "cell_type": "markdown",
   "metadata": {},
   "source": [
    "## 3.2. Stochastic gradient descent (SGD)\n",
    "\n",
    "Define $Q_i (w) = \\log \\Big( 1 + \\exp \\big( - y_i x_i^T w \\big) \\Big) + \\frac{\\lambda}{2} \\| w \\|_2^2 $.\n",
    "\n",
    "The stochastic gradient at $w$ is $g_i = \\frac{\\partial Q_i }{ \\partial w} = -\\frac{y_i x_i }{1 + \\exp ( y_i x_i^T w)} + \\lambda w$."
   ]
  },
  {
   "cell_type": "code",
   "execution_count": 10,
   "metadata": {},
   "outputs": [],
   "source": [
    "# Calculate the objective Q_i and the gradient of Q_i\n",
    "# Inputs:\n",
    "#     w: d-by-1 matrix\n",
    "#     xi: 1-by-d matrix\n",
    "#     yi: scalar\n",
    "#     lam: scalar, the regularization parameter\n",
    "# Return:\n",
    "#     obj: scalar, the objective Q_i\n",
    "#     g: d-by-1 matrix, gradient of Q_i\n",
    "def stochastic_objective_gradient(w, xi, yi, lam):\n",
    "    d = xi.shape[0]\n",
    "    yx = yi * xi # 1-by-d matrix\n",
    "    yxw = float(numpy.dot(yx, w)) # scalar\n",
    "    \n",
    "    # calculate objective function Q_i\n",
    "    loss = numpy.log(1 + numpy.exp(-yxw)) # scalar\n",
    "    reg = lam / 2 * numpy.sum(w * w) # scalar\n",
    "    obj = loss + reg\n",
    "    \n",
    "    # calculate stochastic gradient\n",
    "    g_loss = -yx.T / (1 + numpy.exp(yxw)) # d-by-1 matrix\n",
    "    g = g_loss + lam * w # d-by-1 matrix\n",
    "    \n",
    "    return obj, g"
   ]
  },
  {
   "cell_type": "code",
   "execution_count": 11,
   "metadata": {},
   "outputs": [],
   "source": [
    "# SGD for solving logistic regression\n",
    "# Inputs:\n",
    "#     x: n-by-d matrix\n",
    "#     y: n-by-1 matrix\n",
    "#     lam: scalar, the regularization parameter\n",
    "#     stepsize: scalar\n",
    "#     max_epoch: integer, the maximal epochs\n",
    "#     w: d-by-1 matrix, initialization of w\n",
    "# Return:\n",
    "#     w: the solution\n",
    "#     objvals: record of each iteration's objective value\n",
    "def sgd(x, y, lam, stepsize, max_epoch=100, w=None):\n",
    "    n, d = x.shape\n",
    "    objvals = numpy.zeros(max_epoch) # store the objective values\n",
    "    if w is None:\n",
    "        w = numpy.zeros((d, 1)) # zero initialization\n",
    "    \n",
    "    for t in range(max_epoch):\n",
    "        # randomly shuffle the samples\n",
    "        rand_indices = numpy.random.permutation(n)\n",
    "        x_rand = x[rand_indices, :]\n",
    "        y_rand = y[rand_indices, :]\n",
    "        \n",
    "        objval = 0 # accumulate the objective values\n",
    "        for i in range(n):\n",
    "            xi = x_rand[i, :] # 1-by-d matrix\n",
    "            yi = float(y_rand[i, :]) # scalar\n",
    "            obj, g = stochastic_objective_gradient(w, xi, yi, lam)\n",
    "            objval += obj\n",
    "            w -= stepsize * g\n",
    "        \n",
    "        stepsize *= 0.9 # decrease step size\n",
    "        objval /= n\n",
    "        objvals[t] = objval\n",
    "        print('Objective value at epoch t=' + str(t) + ' is ' + str(objval))\n",
    "    \n",
    "    return w, objvals"
   ]
  },
  {
   "cell_type": "markdown",
   "metadata": {},
   "source": [
    "Run SGD."
   ]
  },
  {
   "cell_type": "code",
   "execution_count": 12,
   "metadata": {},
   "outputs": [
    {
     "name": "stdout",
     "output_type": "stream",
     "text": [
      "Objective value at epoch t=0 is 0.5408025908577545\n",
      "Objective value at epoch t=1 is 0.5307167111946234\n",
      "Objective value at epoch t=2 is 0.53037417889396\n",
      "Objective value at epoch t=3 is 0.5216653958159223\n",
      "Objective value at epoch t=4 is 0.5171914131824701\n",
      "Objective value at epoch t=5 is 0.5165771901122673\n",
      "Objective value at epoch t=6 is 0.5091216663549045\n",
      "Objective value at epoch t=7 is 0.5065538600322381\n",
      "Objective value at epoch t=8 is 0.49951712584654173\n",
      "Objective value at epoch t=9 is 0.5043444884140349\n",
      "Objective value at epoch t=10 is 0.4989619967443641\n",
      "Objective value at epoch t=11 is 0.4971047827535794\n",
      "Objective value at epoch t=12 is 0.49822435142575977\n",
      "Objective value at epoch t=13 is 0.4966048310083078\n",
      "Objective value at epoch t=14 is 0.49330620334705194\n",
      "Objective value at epoch t=15 is 0.49431284778445983\n",
      "Objective value at epoch t=16 is 0.48962039888553505\n",
      "Objective value at epoch t=17 is 0.49044965838337007\n",
      "Objective value at epoch t=18 is 0.4876256067871266\n",
      "Objective value at epoch t=19 is 0.4899802535430487\n",
      "Objective value at epoch t=20 is 0.48874260717259055\n",
      "Objective value at epoch t=21 is 0.48713575502911166\n",
      "Objective value at epoch t=22 is 0.48738258940792767\n",
      "Objective value at epoch t=23 is 0.4862323704003133\n",
      "Objective value at epoch t=24 is 0.48486347652502026\n",
      "Objective value at epoch t=25 is 0.4843747311423983\n",
      "Objective value at epoch t=26 is 0.4848165875826417\n",
      "Objective value at epoch t=27 is 0.48390867697525825\n",
      "Objective value at epoch t=28 is 0.4837546395357778\n",
      "Objective value at epoch t=29 is 0.4834326879688078\n",
      "Objective value at epoch t=30 is 0.48323261462012307\n",
      "Objective value at epoch t=31 is 0.48290244135604626\n",
      "Objective value at epoch t=32 is 0.48240185979928346\n",
      "Objective value at epoch t=33 is 0.48228651610187556\n",
      "Objective value at epoch t=34 is 0.48205049721639537\n",
      "Objective value at epoch t=35 is 0.4818807251971438\n",
      "Objective value at epoch t=36 is 0.4816761468140759\n",
      "Objective value at epoch t=37 is 0.4814911977512174\n",
      "Objective value at epoch t=38 is 0.48136444706982023\n",
      "Objective value at epoch t=39 is 0.4812396704778957\n",
      "Objective value at epoch t=40 is 0.481092853011754\n",
      "Objective value at epoch t=41 is 0.4809824048524479\n",
      "Objective value at epoch t=42 is 0.48091137762127234\n",
      "Objective value at epoch t=43 is 0.4808125254858955\n",
      "Objective value at epoch t=44 is 0.4807244640827427\n",
      "Objective value at epoch t=45 is 0.4806589873146036\n",
      "Objective value at epoch t=46 is 0.4805759050327228\n",
      "Objective value at epoch t=47 is 0.48051628558021653\n",
      "Objective value at epoch t=48 is 0.4804744374708353\n",
      "Objective value at epoch t=49 is 0.4804248062690829\n",
      "Objective value at epoch t=50 is 0.480377990749436\n",
      "Objective value at epoch t=51 is 0.4803415454001172\n",
      "Objective value at epoch t=52 is 0.4803056795783406\n",
      "Objective value at epoch t=53 is 0.48027351629309667\n",
      "Objective value at epoch t=54 is 0.4802444784486786\n",
      "Objective value at epoch t=55 is 0.48021782008735625\n",
      "Objective value at epoch t=56 is 0.4801939781641276\n",
      "Objective value at epoch t=57 is 0.4801713180349184\n",
      "Objective value at epoch t=58 is 0.4801532628097737\n",
      "Objective value at epoch t=59 is 0.48013545581694006\n",
      "Objective value at epoch t=60 is 0.48012040210590684\n",
      "Objective value at epoch t=61 is 0.480106396213284\n",
      "Objective value at epoch t=62 is 0.48009361224756975\n",
      "Objective value at epoch t=63 is 0.4800820535536438\n",
      "Objective value at epoch t=64 is 0.48007200732788896\n",
      "Objective value at epoch t=65 is 0.4800627525034683\n",
      "Objective value at epoch t=66 is 0.48005446575884847\n",
      "Objective value at epoch t=67 is 0.48004689244226373\n",
      "Objective value at epoch t=68 is 0.48004020303933803\n",
      "Objective value at epoch t=69 is 0.48003408433268896\n",
      "Objective value at epoch t=70 is 0.48002868677485006\n",
      "Objective value at epoch t=71 is 0.48002375600643515\n",
      "Objective value at epoch t=72 is 0.48001935737318135\n",
      "Objective value at epoch t=73 is 0.4800153617057674\n",
      "Objective value at epoch t=74 is 0.48001178473472556\n",
      "Objective value at epoch t=75 is 0.4800085686703791\n",
      "Objective value at epoch t=76 is 0.4800056570812291\n",
      "Objective value at epoch t=77 is 0.48000304257346793\n",
      "Objective value at epoch t=78 is 0.48000068839042687\n",
      "Objective value at epoch t=79 is 0.47999857433953574\n",
      "Objective value at epoch t=80 is 0.4799966642227482\n",
      "Objective value at epoch t=81 is 0.47999494954638394\n",
      "Objective value at epoch t=82 is 0.4799934087336741\n",
      "Objective value at epoch t=83 is 0.47999201723121354\n",
      "Objective value at epoch t=84 is 0.4799907667009159\n",
      "Objective value at epoch t=85 is 0.4799896391610157\n",
      "Objective value at epoch t=86 is 0.4799886244210084\n",
      "Objective value at epoch t=87 is 0.47998771369874166\n",
      "Objective value at epoch t=88 is 0.47998689567752306\n",
      "Objective value at epoch t=89 is 0.47998615533413586\n",
      "Objective value at epoch t=90 is 0.47998549161367804\n",
      "Objective value at epoch t=91 is 0.47998489364255875\n",
      "Objective value at epoch t=92 is 0.47998435468114653\n",
      "Objective value at epoch t=93 is 0.4799838702356435\n",
      "Objective value at epoch t=94 is 0.47998343382766395\n",
      "Objective value at epoch t=95 is 0.47998304109511836\n",
      "Objective value at epoch t=96 is 0.47998268813461953\n",
      "Objective value at epoch t=97 is 0.47998236992053506\n",
      "Objective value at epoch t=98 is 0.4799820839415313\n",
      "Objective value at epoch t=99 is 0.47998182634311926\n"
     ]
    }
   ],
   "source": [
    "lam = 1E-6\n",
    "stepsize = 0.1\n",
    "w, objvals_sgd = sgd(x_train, y_train, lam, stepsize)"
   ]
  },
  {
   "cell_type": "markdown",
   "metadata": {},
   "source": [
    "# 4. Compare GD with SGD\n",
    "\n",
    "Plot objective function values against epochs."
   ]
  },
  {
   "cell_type": "code",
   "execution_count": 13,
   "metadata": {},
   "outputs": [
    {
     "name": "stderr",
     "output_type": "stream",
     "text": [
      "<ipython-input-13-9b8d8f4cdfb5>:9: MatplotlibDeprecationWarning: Case-insensitive properties were deprecated in 3.3 and support will be removed two minor releases later\n",
      "  line0, = plt.plot(epochs_gd, objvals_gd, '--b', LineWidth=4)\n",
      "<ipython-input-13-9b8d8f4cdfb5>:10: MatplotlibDeprecationWarning: Case-insensitive properties were deprecated in 3.3 and support will be removed two minor releases later\n",
      "  line1, = plt.plot(epochs_sgd, objvals_sgd, '-r', LineWidth=2)\n",
      "<ipython-input-13-9b8d8f4cdfb5>:11: MatplotlibDeprecationWarning: Case-insensitive properties were deprecated in 3.3 and support will be removed two minor releases later\n",
      "  plt.xlabel('Epochs', FontSize=20)\n",
      "<ipython-input-13-9b8d8f4cdfb5>:12: MatplotlibDeprecationWarning: Case-insensitive properties were deprecated in 3.3 and support will be removed two minor releases later\n",
      "  plt.ylabel('Objective Value', FontSize=20)\n",
      "<ipython-input-13-9b8d8f4cdfb5>:13: MatplotlibDeprecationWarning: Case-insensitive properties were deprecated in 3.3 and support will be removed two minor releases later\n",
      "  plt.xticks(FontSize=16)\n",
      "<ipython-input-13-9b8d8f4cdfb5>:14: MatplotlibDeprecationWarning: Case-insensitive properties were deprecated in 3.3 and support will be removed two minor releases later\n",
      "  plt.yticks(FontSize=16)\n"
     ]
    },
    {
     "data": {
      "image/png": "[encoded data removed]",
      "text/plain": [
       "<Figure size 432x288 with 1 Axes>"
      ]
     },
     "metadata": {
      "needs_background": "light"
     },
     "output_type": "display_data"
    }
   ],
   "source": [
    "import matplotlib.pyplot as plt\n",
    "%matplotlib inline\n",
    "\n",
    "fig = plt.figure(figsize=(6, 4))\n",
    "\n",
    "epochs_gd = range(len(objvals_gd))\n",
    "epochs_sgd = range(len(objvals_sgd))\n",
    "\n",
    "line0, = plt.plot(epochs_gd, objvals_gd, '--b', LineWidth=4)\n",
    "line1, = plt.plot(epochs_sgd, objvals_sgd, '-r', LineWidth=2)\n",
    "plt.xlabel('Epochs', FontSize=20)\n",
    "plt.ylabel('Objective Value', FontSize=20)\n",
    "plt.xticks(FontSize=16)\n",
    "plt.yticks(FontSize=16)\n",
    "plt.legend([line0, line1], ['GD', 'SGD'], fontsize=20)\n",
    "plt.tight_layout()\n",
    "plt.show()\n",
    "fig.savefig('compare_gd_sgd.pdf', format='pdf', dpi=1200)"
   ]
  },
  {
   "cell_type": "markdown",
   "metadata": {},
   "source": [
    "# 5. Prediction"
   ]
  },
  {
   "cell_type": "code",
   "execution_count": 14,
   "metadata": {},
   "outputs": [],
   "source": [
    "# Predict class label\n",
    "# Inputs:\n",
    "#     w: d-by-1 matrix\n",
    "#     X: m-by-d matrix\n",
    "# Return:\n",
    "#     f: m-by-1 matrix, the predictions\n",
    "def predict(w, X):\n",
    "    xw = numpy.dot(X, w)\n",
    "    f = numpy.sign(xw)\n",
    "    return f"
   ]
  },
  {
   "cell_type": "code",
   "execution_count": 15,
   "metadata": {},
   "outputs": [
    {
     "name": "stdout",
     "output_type": "stream",
     "text": [
      "Training classification error is 0.221875\n"
     ]
    }
   ],
   "source": [
    "# evaluate training error\n",
    "f_train = predict(w, x_train)\n",
    "diff = numpy.abs(f_train - y_train) / 2\n",
    "error_train = numpy.mean(diff)\n",
    "print('Training classification error is ' + str(error_train))"
   ]
  },
  {
   "cell_type": "code",
   "execution_count": 16,
   "metadata": {},
   "outputs": [
    {
     "name": "stdout",
     "output_type": "stream",
     "text": [
      "Test classification error is 0.1796875\n"
     ]
    }
   ],
   "source": [
    "# evaluate test error\n",
    "f_test = predict(w, x_test)\n",
    "diff = numpy.abs(f_test - y_test) / 2\n",
    "error_test = numpy.mean(diff)\n",
    "print('Test classification error is ' + str(error_test))"
   ]
  },
  {
   "cell_type": "markdown",
   "metadata": {},
   "source": [
    "# 6. Mini-batch SGD (fill the code)\n",
    "\n"
   ]
  },
  {
   "cell_type": "markdown",
   "metadata": {},
   "source": [
    "?]## 6.1. Compute the objective $Q_I$ and its gradient using a batch of samples\n",
    "\n",
    "Define $Q_I (w) = \\frac{1}{b} \\sum_{i \\in I} \\log \\Big( 1 + \\exp \\big( - y_i x_i^T w \\big) \\Big) + \\frac{\\lambda}{2} \\| w \\|_2^2 $, where $I$ is a set containing $b$ indices randomly drawn from $\\{ 1, \\cdots , n \\}$ without replacement.\n",
    "\n",
    "The stochastic gradient at $w$ is $g_I = \\frac{\\partial Q_I }{ \\partial w} = \\frac{1}{b} \\sum_{i \\in I} \\frac{- y_i x_i }{1 + \\exp ( y_i x_i^T w)} + \\lambda w$."
   ]
  },
  {
   "cell_type": "code",
   "execution_count": 17,
   "metadata": {},
   "outputs": [],
   "source": [
    "# Calculate the objective Q_I and the gradient of Q_I\n",
    "# Inputs:\n",
    "#     w: d-by-1 matrix\n",
    "#     xi: b-by-d matrix\n",
    "#     yi: b-by-1 matrix\n",
    "#     lam: scalar, the regularization parameter\n",
    "#     b: integer, the batch size\n",
    "# Return:\n",
    "#     obj: scalar, the objective Q_i\n",
    "#     g: d-by-1 matrix, gradient of Q_i\n",
    "def mb_stochastic_objective_gradient(w, xi, yi, lam, b):\n",
    "    # Fill the function\n",
    "    # Follow the implementation of stochastic_objective_gradient\n",
    "    # Use matrix-vector multiplication; do not use FOR LOOP of vector-vector multiplications\n",
    "    yx = numpy.multiply(yi, xi)\n",
    "    yxw = numpy.dot(yx, w) # b-by-1 matrix\n",
    "    \n",
    "    # calculate the objective function value\n",
    "    elem_loss = numpy.log(1 + numpy.exp(-yxw))\n",
    "    \n",
    "    loss = numpy.sum(elem_loss, axis=0)\n",
    "    \n",
    "    obj = float((1/b) * loss + (lam/2) * numpy.sum(w*w))\n",
    "\n",
    "    # calculate the gradient\n",
    "    elem_grad_loss = -yx / (1 + numpy.exp(yxw))\n",
    "\n",
    "    grad_loss = (1/b) * numpy.sum(elem_grad_loss, axis=0)\n",
    "\n",
    "    g = grad_loss.T + lam*w\n",
    "\n",
    "    return obj, g"
   ]
  },
  {
   "cell_type": "markdown",
   "metadata": {},
   "source": [
    "## 6.2. Implement mini-batch SGD\n",
    "\n",
    "Hints:\n",
    "1. In every epoch, randomly permute the $n$ samples (just like SGD).\n",
    "2. Each epoch has $\\frac{n}{b}$ iterations. In every iteration, use $b$ samples, and compute the gradient and objective using the ``mb_stochastic_objective_gradient`` function. In the next iteration, use the next $b$ samples, and so on.\n"
   ]
  },
  {
   "cell_type": "code",
   "execution_count": 18,
   "metadata": {},
   "outputs": [],
   "source": [
    "# Mini-Batch SGD for solving logistic regression\n",
    "# Inumpyuts:\n",
    "#     x: n-by-d matrix\n",
    "#     y: n-by-1 matrix\n",
    "#     lam: scalar, the regularization parameter\n",
    "#     b: integer, the batch size\n",
    "#     stepsize: scalar\n",
    "#     max_epoch: integer, the maximal epochs\n",
    "#     w: d-by-1 matrix, initialization of w\n",
    "# Return:\n",
    "#     w: the solution\n",
    "#     objvals: record of each iteration's objective value\n",
    "def mb_sgd(x, y, lam, b, stepsize, max_epoch=100, w=None):\n",
    "    # Fill the function\n",
    "    # Follow the implementation of sgd\n",
    "    # Record one objective value per epoch (not per iteration!)\n",
    "    n, d = x.shape\n",
    "    objvals: numpy.ndarray = numpy.zeros((max_epoch))\n",
    "    if n % b != 0:\n",
    "        raise ValueError(\"Dataset must be evenly divisible into batches. Invalid batch length\")\n",
    "        \n",
    "    if w is None:\n",
    "        w = numpy.zeros((d, 1)) # zero initialization\n",
    "    \n",
    "    num_batches: int = n // b\n",
    "    for e in range(max_epoch):\n",
    "        rand_indices: numpy.ndarray = numpy.random.permutation(n)\n",
    "        x_rand: numpy.ndarray = x[rand_indices, ...]\n",
    "        y_rand: numpy.ndarray = y[rand_indices, ...]\n",
    "        \n",
    "        x_batch: numpy.ndarray = numpy.split(x_rand, num_batches)\n",
    "        y_batch: numpy.ndarray = numpy.split(y_rand, num_batches)\n",
    "        objval = 0 # accumulate objective values\n",
    "        for i in range(num_batches): \n",
    "            obj, g = mb_stochastic_objective_gradient(w, x_batch[i], y_batch[i], lam, b)\n",
    "            objval += obj\n",
    "            w -= stepsize*g\n",
    "        \n",
    "        stepsize *= 0.9 # decrease step size\n",
    "        objval /= num_batches\n",
    "        objvals[e] = objval\n",
    "        print(f'Objective value at epoch e={str(e)} is {str(numpy.round(objval, 5))}')\n",
    "         \n",
    "        \n",
    "    \n",
    "    return w, objvals"
   ]
  },
  {
   "cell_type": "markdown",
   "metadata": {},
   "source": [
    "## 6.3. Run MB-SGD"
   ]
  },
  {
   "cell_type": "code",
   "execution_count": 19,
   "metadata": {},
   "outputs": [
    {
     "name": "stdout",
     "output_type": "stream",
     "text": [
      "Objective value at epoch e=0 is 0.55494\n",
      "Objective value at epoch e=1 is 0.49689\n",
      "Objective value at epoch e=2 is 0.48842\n",
      "Objective value at epoch e=3 is 0.48687\n",
      "Objective value at epoch e=4 is 0.48602\n",
      "Objective value at epoch e=5 is 0.48574\n",
      "Objective value at epoch e=6 is 0.48497\n",
      "Objective value at epoch e=7 is 0.48388\n",
      "Objective value at epoch e=8 is 0.48374\n",
      "Objective value at epoch e=9 is 0.48332\n",
      "Objective value at epoch e=10 is 0.48331\n",
      "Objective value at epoch e=11 is 0.48295\n",
      "Objective value at epoch e=12 is 0.48228\n",
      "Objective value at epoch e=13 is 0.4824\n",
      "Objective value at epoch e=14 is 0.48202\n",
      "Objective value at epoch e=15 is 0.48177\n",
      "Objective value at epoch e=16 is 0.48158\n",
      "Objective value at epoch e=17 is 0.48149\n",
      "Objective value at epoch e=18 is 0.48144\n",
      "Objective value at epoch e=19 is 0.48122\n",
      "Objective value at epoch e=20 is 0.48112\n",
      "Objective value at epoch e=21 is 0.48099\n",
      "Objective value at epoch e=22 is 0.481\n",
      "Objective value at epoch e=23 is 0.48083\n",
      "Objective value at epoch e=24 is 0.48073\n",
      "Objective value at epoch e=25 is 0.4807\n",
      "Objective value at epoch e=26 is 0.48054\n",
      "Objective value at epoch e=27 is 0.48059\n",
      "Objective value at epoch e=28 is 0.48045\n",
      "Objective value at epoch e=29 is 0.48043\n",
      "Objective value at epoch e=30 is 0.48038\n",
      "Objective value at epoch e=31 is 0.48035\n",
      "Objective value at epoch e=32 is 0.48032\n",
      "Objective value at epoch e=33 is 0.48027\n",
      "Objective value at epoch e=34 is 0.48026\n",
      "Objective value at epoch e=35 is 0.48023\n",
      "Objective value at epoch e=36 is 0.48021\n",
      "Objective value at epoch e=37 is 0.48018\n",
      "Objective value at epoch e=38 is 0.48016\n",
      "Objective value at epoch e=39 is 0.48013\n",
      "Objective value at epoch e=40 is 0.48012\n",
      "Objective value at epoch e=41 is 0.48012\n",
      "Objective value at epoch e=42 is 0.4801\n",
      "Objective value at epoch e=43 is 0.48008\n",
      "Objective value at epoch e=44 is 0.48008\n",
      "Objective value at epoch e=45 is 0.48007\n",
      "Objective value at epoch e=46 is 0.48006\n",
      "Objective value at epoch e=47 is 0.48006\n",
      "Objective value at epoch e=48 is 0.48004\n",
      "Objective value at epoch e=49 is 0.48004\n",
      "Objective value at epoch e=50 is 0.48003\n",
      "Objective value at epoch e=51 is 0.48002\n",
      "Objective value at epoch e=52 is 0.48003\n",
      "Objective value at epoch e=53 is 0.48002\n",
      "Objective value at epoch e=54 is 0.48001\n",
      "Objective value at epoch e=55 is 0.48001\n",
      "Objective value at epoch e=56 is 0.48001\n",
      "Objective value at epoch e=57 is 0.48\n",
      "Objective value at epoch e=58 is 0.48\n",
      "Objective value at epoch e=59 is 0.48\n",
      "Objective value at epoch e=60 is 0.48\n",
      "Objective value at epoch e=61 is 0.48\n",
      "Objective value at epoch e=62 is 0.47999\n",
      "Objective value at epoch e=63 is 0.47999\n",
      "Objective value at epoch e=64 is 0.47999\n",
      "Objective value at epoch e=65 is 0.47999\n",
      "Objective value at epoch e=66 is 0.47999\n",
      "Objective value at epoch e=67 is 0.47999\n",
      "Objective value at epoch e=68 is 0.47999\n",
      "Objective value at epoch e=69 is 0.47999\n",
      "Objective value at epoch e=70 is 0.47999\n",
      "Objective value at epoch e=71 is 0.47999\n",
      "Objective value at epoch e=72 is 0.47998\n",
      "Objective value at epoch e=73 is 0.47998\n",
      "Objective value at epoch e=74 is 0.47998\n",
      "Objective value at epoch e=75 is 0.47998\n",
      "Objective value at epoch e=76 is 0.47998\n",
      "Objective value at epoch e=77 is 0.47998\n",
      "Objective value at epoch e=78 is 0.47998\n",
      "Objective value at epoch e=79 is 0.47998\n",
      "Objective value at epoch e=80 is 0.47998\n",
      "Objective value at epoch e=81 is 0.47998\n",
      "Objective value at epoch e=82 is 0.47998\n",
      "Objective value at epoch e=83 is 0.47998\n",
      "Objective value at epoch e=84 is 0.47998\n",
      "Objective value at epoch e=85 is 0.47998\n",
      "Objective value at epoch e=86 is 0.47998\n",
      "Objective value at epoch e=87 is 0.47998\n",
      "Objective value at epoch e=88 is 0.47998\n",
      "Objective value at epoch e=89 is 0.47998\n",
      "Objective value at epoch e=90 is 0.47998\n",
      "Objective value at epoch e=91 is 0.47998\n",
      "Objective value at epoch e=92 is 0.47998\n",
      "Objective value at epoch e=93 is 0.47998\n",
      "Objective value at epoch e=94 is 0.47998\n",
      "Objective value at epoch e=95 is 0.47998\n",
      "Objective value at epoch e=96 is 0.47998\n",
      "Objective value at epoch e=97 is 0.47998\n",
      "Objective value at epoch e=98 is 0.47998\n",
      "Objective value at epoch e=99 is 0.47998\n"
     ]
    }
   ],
   "source": [
    "# MB-SGD with batch size b=8\n",
    "lam = 1E-6 # do not change\n",
    "b = 8 # do not change\n",
    "stepsize = 0.1 # you must tune this parameter\n",
    "# stepsize ~ 4 for .48338 convergence for batch size of 640\n",
    "w, objvals_mbsgd8 = mb_sgd(x_train, y_train, lam, b, stepsize)"
   ]
  },
  {
   "cell_type": "code",
   "execution_count": 20,
   "metadata": {},
   "outputs": [
    {
     "name": "stdout",
     "output_type": "stream",
     "text": [
      "Training classification error is 0.221875\n"
     ]
    }
   ],
   "source": [
    "f_train = predict(w, x_train)\n",
    "diff = numpy.abs(f_train - y_train) / 2\n",
    "error_train = numpy.mean(diff)\n",
    "print('Training classification error is ' + str(error_train))"
   ]
  },
  {
   "cell_type": "code",
   "execution_count": 21,
   "metadata": {},
   "outputs": [
    {
     "name": "stdout",
     "output_type": "stream",
     "text": [
      "Objective value at epoch e=0 is 0.56831\n",
      "Objective value at epoch e=1 is 0.49818\n",
      "Objective value at epoch e=2 is 0.48917\n",
      "Objective value at epoch e=3 is 0.48641\n",
      "Objective value at epoch e=4 is 0.4859\n",
      "Objective value at epoch e=5 is 0.48479\n",
      "Objective value at epoch e=6 is 0.4841\n",
      "Objective value at epoch e=7 is 0.48293\n",
      "Objective value at epoch e=8 is 0.48286\n",
      "Objective value at epoch e=9 is 0.48223\n",
      "Objective value at epoch e=10 is 0.48239\n",
      "Objective value at epoch e=11 is 0.48174\n",
      "Objective value at epoch e=12 is 0.4817\n",
      "Objective value at epoch e=13 is 0.48196\n",
      "Objective value at epoch e=14 is 0.48128\n",
      "Objective value at epoch e=15 is 0.48156\n",
      "Objective value at epoch e=16 is 0.48122\n",
      "Objective value at epoch e=17 is 0.48144\n",
      "Objective value at epoch e=18 is 0.481\n",
      "Objective value at epoch e=19 is 0.48078\n",
      "Objective value at epoch e=20 is 0.48078\n",
      "Objective value at epoch e=21 is 0.48074\n",
      "Objective value at epoch e=22 is 0.48046\n",
      "Objective value at epoch e=23 is 0.48063\n",
      "Objective value at epoch e=24 is 0.48055\n",
      "Objective value at epoch e=25 is 0.48056\n",
      "Objective value at epoch e=26 is 0.48042\n",
      "Objective value at epoch e=27 is 0.48033\n",
      "Objective value at epoch e=28 is 0.48034\n",
      "Objective value at epoch e=29 is 0.48024\n",
      "Objective value at epoch e=30 is 0.48026\n",
      "Objective value at epoch e=31 is 0.48018\n",
      "Objective value at epoch e=32 is 0.48019\n",
      "Objective value at epoch e=33 is 0.4802\n",
      "Objective value at epoch e=34 is 0.48013\n",
      "Objective value at epoch e=35 is 0.48012\n",
      "Objective value at epoch e=36 is 0.4801\n",
      "Objective value at epoch e=37 is 0.48007\n",
      "Objective value at epoch e=38 is 0.48011\n",
      "Objective value at epoch e=39 is 0.48008\n",
      "Objective value at epoch e=40 is 0.48007\n",
      "Objective value at epoch e=41 is 0.48006\n",
      "Objective value at epoch e=42 is 0.48006\n",
      "Objective value at epoch e=43 is 0.48005\n",
      "Objective value at epoch e=44 is 0.48007\n",
      "Objective value at epoch e=45 is 0.48005\n",
      "Objective value at epoch e=46 is 0.48003\n",
      "Objective value at epoch e=47 is 0.48003\n",
      "Objective value at epoch e=48 is 0.48002\n",
      "Objective value at epoch e=49 is 0.48001\n",
      "Objective value at epoch e=50 is 0.48003\n",
      "Objective value at epoch e=51 is 0.48002\n",
      "Objective value at epoch e=52 is 0.48001\n",
      "Objective value at epoch e=53 is 0.48\n",
      "Objective value at epoch e=54 is 0.48\n",
      "Objective value at epoch e=55 is 0.48\n",
      "Objective value at epoch e=56 is 0.48\n",
      "Objective value at epoch e=57 is 0.48\n",
      "Objective value at epoch e=58 is 0.48\n",
      "Objective value at epoch e=59 is 0.47999\n",
      "Objective value at epoch e=60 is 0.47999\n",
      "Objective value at epoch e=61 is 0.47999\n",
      "Objective value at epoch e=62 is 0.47999\n",
      "Objective value at epoch e=63 is 0.47999\n",
      "Objective value at epoch e=64 is 0.47999\n",
      "Objective value at epoch e=65 is 0.47999\n",
      "Objective value at epoch e=66 is 0.47999\n",
      "Objective value at epoch e=67 is 0.47999\n",
      "Objective value at epoch e=68 is 0.47999\n",
      "Objective value at epoch e=69 is 0.47999\n",
      "Objective value at epoch e=70 is 0.47999\n",
      "Objective value at epoch e=71 is 0.47999\n",
      "Objective value at epoch e=72 is 0.47999\n",
      "Objective value at epoch e=73 is 0.47999\n",
      "Objective value at epoch e=74 is 0.47999\n",
      "Objective value at epoch e=75 is 0.47998\n",
      "Objective value at epoch e=76 is 0.47999\n",
      "Objective value at epoch e=77 is 0.47999\n",
      "Objective value at epoch e=78 is 0.47998\n",
      "Objective value at epoch e=79 is 0.47998\n",
      "Objective value at epoch e=80 is 0.47998\n",
      "Objective value at epoch e=81 is 0.47998\n",
      "Objective value at epoch e=82 is 0.47998\n",
      "Objective value at epoch e=83 is 0.47998\n",
      "Objective value at epoch e=84 is 0.47998\n",
      "Objective value at epoch e=85 is 0.47998\n",
      "Objective value at epoch e=86 is 0.47998\n",
      "Objective value at epoch e=87 is 0.47998\n",
      "Objective value at epoch e=88 is 0.47998\n",
      "Objective value at epoch e=89 is 0.47998\n",
      "Objective value at epoch e=90 is 0.47998\n",
      "Objective value at epoch e=91 is 0.47998\n",
      "Objective value at epoch e=92 is 0.47998\n",
      "Objective value at epoch e=93 is 0.47998\n",
      "Objective value at epoch e=94 is 0.47998\n",
      "Objective value at epoch e=95 is 0.47998\n",
      "Objective value at epoch e=96 is 0.47998\n",
      "Objective value at epoch e=97 is 0.47998\n",
      "Objective value at epoch e=98 is 0.47998\n",
      "Objective value at epoch e=99 is 0.47998\n"
     ]
    }
   ],
   "source": [
    "# MB-SGD with batch size b=64\n",
    "lam = 1E-6 # do not change\n",
    "b = 64 # do not change\n",
    "stepsize = 0.6 # you must tune this parameter\n",
    "\n",
    "w, objvals_mbsgd64 = mb_sgd(x_train, y_train, lam, b, stepsize)"
   ]
  },
  {
   "cell_type": "code",
   "execution_count": 22,
   "metadata": {},
   "outputs": [
    {
     "name": "stdout",
     "output_type": "stream",
     "text": [
      "Training classification error is 0.221875\n"
     ]
    }
   ],
   "source": [
    "f_train = predict(w, x_train)\n",
    "diff = numpy.abs(f_train - y_train) / 2\n",
    "error_train = numpy.mean(diff)\n",
    "print('Training classification error is ' + str(error_train))"
   ]
  },
  {
   "cell_type": "markdown",
   "metadata": {},
   "source": [
    "# 7. Plot and compare GD, SGD, and MB-SGD"
   ]
  },
  {
   "cell_type": "markdown",
   "metadata": {},
   "source": [
    "You are required to compare the following algorithms:\n",
    "\n",
    "- Gradient descent (GD)\n",
    "\n",
    "- SGD\n",
    "\n",
    "- MB-SGD with b=8\n",
    "\n",
    "- MB-SGD with b=64\n",
    "\n",
    "Follow the code in Section 4 to plot ```objective function value``` against ```epochs```. There should be four curves in the plot; each curve corresponds to one algorithm."
   ]
  },
  {
   "cell_type": "markdown",
   "metadata": {},
   "source": [
    "Hint: Logistic regression with $\\ell_2$-norm regularization is a strongly convex optimization problem. All the algorithms will converge to the same solution. **In the end, the ``objective function value`` of the 4 algorithms will be the same. If not the same, your implementation must be wrong. Do NOT submit wrong code and wrong result!**"
   ]
  },
  {
   "cell_type": "code",
   "execution_count": 23,
   "metadata": {},
   "outputs": [],
   "source": [
    "# plot the 4 curves:"
   ]
  },
  {
   "cell_type": "code",
   "execution_count": 24,
   "metadata": {},
   "outputs": [
    {
     "name": "stderr",
     "output_type": "stream",
     "text": [
      "<ipython-input-24-0104a0c3a1de>:5: MatplotlibDeprecationWarning: Case-insensitive properties were deprecated in 3.3 and support will be removed two minor releases later\n",
      "  line0, = plt.plot(epochs_mbsgd8, objvals_mbsgd8, '--b', LineWidth=4)\n",
      "<ipython-input-24-0104a0c3a1de>:6: MatplotlibDeprecationWarning: Case-insensitive properties were deprecated in 3.3 and support will be removed two minor releases later\n",
      "  line1, = plt.plot(epochs_mbsgd64, objvals_mbsgd64, '-r', LineWidth=2)\n",
      "<ipython-input-24-0104a0c3a1de>:7: MatplotlibDeprecationWarning: Case-insensitive properties were deprecated in 3.3 and support will be removed two minor releases later\n",
      "  line2, = plt.plot(epochs_sgd, objvals_sgd, '--m', LineWidth=3)\n",
      "<ipython-input-24-0104a0c3a1de>:8: MatplotlibDeprecationWarning: Case-insensitive properties were deprecated in 3.3 and support will be removed two minor releases later\n",
      "  line3, = plt.plot(epochs_gd, objvals_gd, '-g', LineWidth=1)\n",
      "<ipython-input-24-0104a0c3a1de>:9: MatplotlibDeprecationWarning: Case-insensitive properties were deprecated in 3.3 and support will be removed two minor releases later\n",
      "  plt.xlabel('Epochs', FontSize=20)\n",
      "<ipython-input-24-0104a0c3a1de>:10: MatplotlibDeprecationWarning: Case-insensitive properties were deprecated in 3.3 and support will be removed two minor releases later\n",
      "  plt.ylabel('Objective Value', FontSize=20)\n",
      "<ipython-input-24-0104a0c3a1de>:11: MatplotlibDeprecationWarning: Case-insensitive properties were deprecated in 3.3 and support will be removed two minor releases later\n",
      "  plt.xticks(FontSize=16)\n",
      "<ipython-input-24-0104a0c3a1de>:12: MatplotlibDeprecationWarning: Case-insensitive properties were deprecated in 3.3 and support will be removed two minor releases later\n",
      "  plt.yticks(FontSize=16)\n"
     ]
    },
    {
     "data": {
      "image/png": "[encoded data removed]",
      "text/plain": [
       "<Figure size 432x288 with 1 Axes>"
      ]
     },
     "metadata": {
      "needs_background": "light"
     },
     "output_type": "display_data"
    }
   ],
   "source": [
    "fig = plt.figure(figsize=(6, 4))\n",
    "epochs_mbsgd8 = range(len(objvals_mbsgd8))\n",
    "epochs_mbsgd64 = range(len(objvals_mbsgd64))\n",
    "\n",
    "line0, = plt.plot(epochs_mbsgd8, objvals_mbsgd8, '--b', LineWidth=4)\n",
    "line1, = plt.plot(epochs_mbsgd64, objvals_mbsgd64, '-r', LineWidth=2)\n",
    "line2, = plt.plot(epochs_sgd, objvals_sgd, '--m', LineWidth=3)\n",
    "line3, = plt.plot(epochs_gd, objvals_gd, '-g', LineWidth=1)\n",
    "plt.xlabel('Epochs', FontSize=20)\n",
    "plt.ylabel('Objective Value', FontSize=20)\n",
    "plt.xticks(FontSize=16)\n",
    "plt.yticks(FontSize=16)\n",
    "plt.legend([line0, line1, line2, line3], [\"MBSGD8\", \"MBSGD64\", \"SGD\", \"GD\"], fontsize=20)\n",
    "plt.tight_layout()\n",
    "plt.show()\n",
    "fig.savefig('compare_mbsgd_gd_sgd.pdf', format='pdf', dpi=1200)\n"
   ]
  }
 ],
 "metadata": {
  "kernelspec": {
   "display_name": "Python 3",
   "language": "python",
   "name": "python3"
  },
  "language_info": {
   "codemirror_mode": {
    "name": "ipython",
    "version": 3
   },
   "file_extension": ".py",
   "mimetype": "text/x-python",
   "name": "python",
   "nbconvert_exporter": "python",
   "pygments_lexer": "ipython3",
   "version": "3.8.8"
  }
 },
 "nbformat": 4,
 "nbformat_minor": 4
}
