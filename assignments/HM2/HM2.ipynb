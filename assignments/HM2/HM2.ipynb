{
 "cells": [
  {
   "cell_type": "markdown",
   "metadata": {},
   "source": [
    "# HM2: Numerical Optimization for Logistic Regression.\n",
    "\n",
    "### Name: Michael DiGregorio\n"
   ]
  },
  {
   "cell_type": "markdown",
   "metadata": {},
   "source": [
    "## 0. You will do the following:\n",
    "\n",
    "1. Read the lecture note: [click here](https://github.com/wangshusen/DeepLearning/blob/master/LectureNotes/Logistic/paper/logistic.pdf)\n",
    "\n",
    "2. Read, complete, and run my code.\n",
    "\n",
    "3. **Implement mini-batch SGD** and evaluate the performance.\n",
    "\n",
    "4. Convert the .IPYNB file to .HTML file.\n",
    "\n",
    "    * The HTML file must contain **the code** and **the output after execution**.\n",
    "    \n",
    "    * Missing **the output after execution** will not be graded.\n",
    "    \n",
    "5. Upload this .HTML file to your Google Drive, Dropbox, or your Github repo.  (If you submit the file to Google Drive or Dropbox, you must make the file \"open-access\". The delay caused by \"deny of access\" may result in late penalty.)\n",
    "\n",
    "6. Submit the link to this .HTML file to Canvas.\n",
    "\n",
    "    * Example: https://github.com/wangshusen/CS583-2020S/blob/master/homework/HM2/HM2.html\n",
    "\n",
    "\n",
    "## Grading criteria:\n",
    "\n",
    "1. When computing the ```gradient``` and ```objective function value``` using a batch of samples, use **matrix-vector multiplication** rather than a FOR LOOP of **vector-vector multiplications**.\n",
    "\n",
    "2. Plot ```objective function value``` against ```epochs```. In the plot, compare GD, SGD, and MB-SGD (with $b=8$ and $b=64$). The plot must look reasonable."
   ]
  },
  {
   "cell_type": "code",
   "execution_count": null,
   "metadata": {},
   "outputs": [],
   "source": []
  },
  {
   "cell_type": "markdown",
   "metadata": {},
   "source": [
    "# 1. Data processing\n",
    "\n",
    "- Download the Diabete dataset from https://www.csie.ntu.edu.tw/~cjlin/libsvmtools/datasets/binary/diabetes\n",
    "- Load the data using sklearn.\n",
    "- Preprocess the data."
   ]
  },
  {
   "cell_type": "markdown",
   "metadata": {},
   "source": [
    "## 1.1. Load the data"
   ]
  },
  {
   "cell_type": "code",
   "execution_count": 1,
   "metadata": {},
   "outputs": [
    {
     "name": "stdout",
     "output_type": "stream",
     "text": [
      "Shape of x: (768, 8)\n",
      "Shape of y: (768,)\n"
     ]
    }
   ],
   "source": [
    "from sklearn import datasets\n",
    "import numpy\n",
    "\n",
    "x_sparse, y = datasets.load_svmlight_file('diabetes')\n",
    "x = x_sparse.todense()\n",
    "\n",
    "print('Shape of x: ' + str(x.shape))\n",
    "print('Shape of y: ' + str(y.shape))"
   ]
  },
  {
   "cell_type": "markdown",
   "metadata": {},
   "source": [
    "## 1.2. Partition to training and test sets"
   ]
  },
  {
   "cell_type": "code",
   "execution_count": 2,
   "metadata": {},
   "outputs": [
    {
     "name": "stdout",
     "output_type": "stream",
     "text": [
      "Shape of x_train: (640, 8)\n",
      "Shape of x_test: (128, 8)\n",
      "Shape of y_train: (640, 1)\n",
      "Shape of y_test: (128, 1)\n"
     ]
    }
   ],
   "source": [
    "# partition the data to training and test sets\n",
    "n = x.shape[0]\n",
    "n_train = 640\n",
    "n_test = n - n_train\n",
    "\n",
    "rand_indices = numpy.random.permutation(n)\n",
    "train_indices = rand_indices[0:n_train]\n",
    "test_indices = rand_indices[n_train:n]\n",
    "\n",
    "x_train = x[train_indices, :]\n",
    "x_test = x[test_indices, :]\n",
    "y_train = y[train_indices].reshape(n_train, 1)\n",
    "y_test = y[test_indices].reshape(n_test, 1)\n",
    "\n",
    "print('Shape of x_train: ' + str(x_train.shape))\n",
    "print('Shape of x_test: ' + str(x_test.shape))\n",
    "print('Shape of y_train: ' + str(y_train.shape))\n",
    "print('Shape of y_test: ' + str(y_test.shape))"
   ]
  },
  {
   "cell_type": "markdown",
   "metadata": {},
   "source": [
    "## 1.3. Feature scaling"
   ]
  },
  {
   "cell_type": "markdown",
   "metadata": {},
   "source": [
    "Use the standardization to trainsform both training and test features"
   ]
  },
  {
   "cell_type": "code",
   "execution_count": 3,
   "metadata": {},
   "outputs": [
    {
     "name": "stdout",
     "output_type": "stream",
     "text": [
      "test mean = \n",
      "[[ 0.0661069   0.06302955  0.00553263  0.08013109  0.01855606  0.02651463\n",
      "  -0.06393452 -0.1267822 ]]\n",
      "test std = \n",
      "[[0.97563165 0.9791346  0.95496504 0.94932425 0.92708865 0.92656865\n",
      "  1.16244781 0.87956189]]\n"
     ]
    }
   ],
   "source": [
    "# Standardization\n",
    "import numpy\n",
    "\n",
    "# calculate mu and sig using the training set\n",
    "d = x_train.shape[1]\n",
    "mu = numpy.mean(x_train, axis=0).reshape(1, d)\n",
    "sig = numpy.std(x_train, axis=0).reshape(1, d)\n",
    "\n",
    "# transform the training features\n",
    "x_train = (x_train - mu) / (sig + 1E-6)\n",
    "\n",
    "# transform the test features\n",
    "x_test = (x_test - mu) / (sig + 1E-6)\n",
    "\n",
    "print('test mean = ')\n",
    "print(numpy.mean(x_test, axis=0))\n",
    "\n",
    "print('test std = ')\n",
    "print(numpy.std(x_test, axis=0))"
   ]
  },
  {
   "cell_type": "markdown",
   "metadata": {},
   "source": [
    "## 1.4. Add a dimension of all ones"
   ]
  },
  {
   "cell_type": "code",
   "execution_count": 4,
   "metadata": {},
   "outputs": [
    {
     "name": "stdout",
     "output_type": "stream",
     "text": [
      "Shape of x_train: (640, 9)\n",
      "Shape of x_test: (128, 9)\n"
     ]
    }
   ],
   "source": [
    "n_train, d = x_train.shape\n",
    "x_train = numpy.concatenate((x_train, numpy.ones((n_train, 1))), axis=1)\n",
    "\n",
    "n_test, d = x_test.shape\n",
    "x_test = numpy.concatenate((x_test, numpy.ones((n_test, 1))), axis=1)\n",
    "\n",
    "print('Shape of x_train: ' + str(x_train.shape))\n",
    "print('Shape of x_test: ' + str(x_test.shape))"
   ]
  },
  {
   "cell_type": "markdown",
   "metadata": {},
   "source": [
    "# 2. Logistic regression model\n",
    "\n",
    "The objective function is $Q (w; X, y) = \\frac{1}{n} \\sum_{i=1}^n \\log \\Big( 1 + \\exp \\big( - y_i x_i^T w \\big) \\Big) + \\frac{\\lambda}{2} \\| w \\|_2^2 $."
   ]
  },
  {
   "cell_type": "code",
   "execution_count": 5,
   "metadata": {},
   "outputs": [],
   "source": [
    "# Calculate the objective function value\n",
    "# Inputs:\n",
    "#     w: d-by-1 matrix\n",
    "#     x: n-by-d matrix\n",
    "#     y: n-by-1 matrix\n",
    "#     lam: scalar, the regularization parameter\n",
    "# Return:\n",
    "#     objective function value (scalar)\n",
    "def objective(w, x, y, lam):\n",
    "    n, d = x.shape\n",
    "    yx = numpy.multiply(y, x) # n-by-d matrix\n",
    "    yxw = numpy.dot(yx, w) # n-by-1 matrix\n",
    "    vec1 = numpy.exp(-yxw) # n-by-1 matrix\n",
    "    vec2 = numpy.log(1 + vec1) # n-by-1 matrix\n",
    "    loss = numpy.mean(vec2) # scalar\n",
    "    reg = lam / 2 * numpy.sum(w * w) # scalar\n",
    "    return loss + reg\n",
    "    "
   ]
  },
  {
   "cell_type": "code",
   "execution_count": 6,
   "metadata": {},
   "outputs": [
    {
     "name": "stdout",
     "output_type": "stream",
     "text": [
      "Initial objective function value = 0.6931471805599453\n"
     ]
    }
   ],
   "source": [
    "# initialize w\n",
    "d = x_train.shape[1]\n",
    "w = numpy.zeros((d, 1))\n",
    "\n",
    "# evaluate the objective function value at w\n",
    "lam = 1E-6\n",
    "objval0 = objective(w, x_train, y_train, lam)\n",
    "print('Initial objective function value = ' + str(objval0))"
   ]
  },
  {
   "cell_type": "markdown",
   "metadata": {},
   "source": [
    "# 3. Numerical optimization"
   ]
  },
  {
   "cell_type": "markdown",
   "metadata": {},
   "source": [
    "## 3.1. Gradient descent\n"
   ]
  },
  {
   "cell_type": "markdown",
   "metadata": {},
   "source": [
    "The gradient at $w$ is $g = - \\frac{1}{n} \\sum_{i=1}^n \\frac{y_i x_i }{1 + \\exp ( y_i x_i^T w)} + \\lambda w$"
   ]
  },
  {
   "cell_type": "code",
   "execution_count": 7,
   "metadata": {},
   "outputs": [],
   "source": [
    "# Calculate the gradient\n",
    "# Inputs:\n",
    "#     w: d-by-1 matrix\n",
    "#     x: n-by-d matrix\n",
    "#     y: n-by-1 matrix\n",
    "#     lam: scalar, the regularization parameter\n",
    "# Return:\n",
    "#     g: g: d-by-1 matrix, full gradient\n",
    "def gradient(w, x, y, lam):\n",
    "    n, d = x.shape\n",
    "    yx = numpy.multiply(y, x) # n-by-d matrix\n",
    "    yxw = numpy.dot(yx, w) # n-by-1 matrix\n",
    "    vec1 = numpy.exp(yxw) # n-by-1 matrix\n",
    "    vec2 = numpy.divide(yx, 1+vec1) # n-by-d matrix\n",
    "    vec3 = -numpy.mean(vec2, axis=0).reshape(d, 1) # d-by-1 matrix\n",
    "    g = vec3 + lam * w\n",
    "    return g"
   ]
  },
  {
   "cell_type": "code",
   "execution_count": 8,
   "metadata": {},
   "outputs": [],
   "source": [
    "# Gradient descent for solving logistic regression\n",
    "# Inputs:\n",
    "#     x: n-by-d matrix\n",
    "#     y: n-by-1 matrix\n",
    "#     lam: scalar, the regularization parameter\n",
    "#     stepsize: scalar\n",
    "#     max_iter: integer, the maximal iterations\n",
    "#     w: d-by-1 matrix, initialization of w\n",
    "# Return:\n",
    "#     w: d-by-1 matrix, the solution\n",
    "#     objvals: a record of each iteration's objective value\n",
    "def grad_descent(x, y, lam, stepsize, max_iter=100, w=None):\n",
    "    n, d = x.shape\n",
    "    objvals = numpy.zeros(max_iter) # store the objective values\n",
    "    if w is None:\n",
    "        w = numpy.zeros((d, 1)) # zero initialization\n",
    "    \n",
    "    for t in range(max_iter):\n",
    "        objval = objective(w, x, y, lam)\n",
    "        objvals[t] = objval\n",
    "        print('Objective value at t=' + str(t) + ' is ' + str(objval))\n",
    "        g = gradient(w, x, y, lam)\n",
    "        w -= stepsize * g\n",
    "    \n",
    "    return w, objvals"
   ]
  },
  {
   "cell_type": "markdown",
   "metadata": {},
   "source": [
    "Run gradient descent."
   ]
  },
  {
   "cell_type": "code",
   "execution_count": 9,
   "metadata": {},
   "outputs": [
    {
     "name": "stdout",
     "output_type": "stream",
     "text": [
      "Objective value at t=0 is 0.6931471805599453\n",
      "Objective value at t=1 is 0.5931501285346115\n",
      "Objective value at t=2 is 0.5513103565460807\n",
      "Objective value at t=3 is 0.528452413547666\n",
      "Objective value at t=4 is 0.5140588293478503\n",
      "Objective value at t=5 is 0.5042583049581512\n",
      "Objective value at t=6 is 0.4972549599225362\n",
      "Objective value at t=7 is 0.49208291116685277\n",
      "Objective value at t=8 is 0.48816960816313626\n",
      "Objective value at t=9 is 0.48515235367684806\n",
      "Objective value at t=10 is 0.4827902311107069\n",
      "Objective value at t=11 is 0.4809174252779201\n",
      "Objective value at t=12 is 0.4794165818983139\n",
      "Objective value at t=13 is 0.4782027312840976\n",
      "Objective value at t=14 is 0.4772131618540725\n",
      "Objective value at t=15 is 0.4764008213232395\n",
      "Objective value at t=16 is 0.47572989589888426\n",
      "Objective value at t=17 is 0.47517277878573094\n",
      "Objective value at t=18 is 0.4747079491516624\n",
      "Objective value at t=19 is 0.4743184615904163\n",
      "Objective value at t=20 is 0.47399085319513495\n",
      "Objective value at t=21 is 0.4737143414005759\n",
      "Objective value at t=22 is 0.47348022753052466\n",
      "Objective value at t=23 is 0.4732814479986018\n",
      "Objective value at t=24 is 0.47311223291305526\n",
      "Objective value at t=25 is 0.4729678437722273\n",
      "Objective value at t=26 is 0.4728443700659923\n",
      "Objective value at t=27 is 0.4727385702139395\n",
      "Objective value at t=28 is 0.47264774620215705\n",
      "Objective value at t=29 is 0.4725696440666387\n",
      "Objective value at t=30 is 0.4725023743689808\n",
      "Objective value at t=31 is 0.47244434825798803\n",
      "Objective value at t=32 is 0.4723942257711013\n",
      "Objective value at t=33 is 0.47235087381350127\n",
      "Objective value at t=34 is 0.47231333183766355\n",
      "Objective value at t=35 is 0.47228078368632087\n",
      "Objective value at t=36 is 0.4722525343957487\n",
      "Objective value at t=37 is 0.47222799101161034\n",
      "Objective value at t=38 is 0.47220664666620565\n",
      "Objective value at t=39 is 0.4721880673184191\n",
      "Objective value at t=40 is 0.47217188067661725\n",
      "Objective value at t=41 is 0.4721577669181564\n",
      "Objective value at t=42 is 0.4721454508929144\n",
      "Objective value at t=43 is 0.4721346955568234\n",
      "Objective value at t=44 is 0.47212529642812123\n",
      "Objective value at t=45 is 0.47211707689651006\n",
      "Objective value at t=46 is 0.4721098842456161\n",
      "Objective value at t=47 is 0.47210358627356447\n",
      "Objective value at t=48 is 0.47209806841633634\n",
      "Objective value at t=49 is 0.47209323129476183\n",
      "Objective value at t=50 is 0.4720889886192483\n",
      "Objective value at t=51 is 0.47208526539722895\n",
      "Objective value at t=52 is 0.47208199639728254\n",
      "Objective value at t=53 is 0.47207912483128606\n",
      "Objective value at t=54 is 0.47207660122211054\n",
      "Objective value at t=55 is 0.47207438242947375\n",
      "Objective value at t=56 is 0.47207243081082345\n",
      "Objective value at t=57 is 0.4720707134976827\n",
      "Objective value at t=58 is 0.4720692017708649\n",
      "Objective value at t=59 is 0.47206787052047156\n",
      "Objective value at t=60 is 0.4720666977786847\n",
      "Objective value at t=61 is 0.47206566431514424\n",
      "Objective value at t=62 is 0.472064753286192\n",
      "Objective value at t=63 is 0.47206394993053796\n",
      "Objective value at t=64 is 0.4720632413049719\n",
      "Objective value at t=65 is 0.47206261605466193\n",
      "Objective value at t=66 is 0.472062064213349\n",
      "Objective value at t=67 is 0.47206157702941537\n",
      "Objective value at t=68 is 0.4720611468143602\n",
      "Objective value at t=69 is 0.4720607668107043\n",
      "Objective value at t=70 is 0.4720604310767495\n",
      "Objective value at t=71 is 0.4720601343859774\n",
      "Objective value at t=72 is 0.4720598721391709\n",
      "Objective value at t=73 is 0.4720596402876015\n",
      "Objective value at t=74 is 0.4720594352658484\n",
      "Objective value at t=75 is 0.4720592539330094\n",
      "Objective value at t=76 is 0.4720590935212238\n",
      "Objective value at t=77 is 0.47205895159057754\n",
      "Objective value at t=78 is 0.4720588259895747\n",
      "Objective value at t=79 is 0.4720587148204738\n",
      "Objective value at t=80 is 0.4720586164088743\n",
      "Objective value at t=81 is 0.47205852927701963\n",
      "Objective value at t=82 is 0.4720584521203525\n",
      "Objective value at t=83 is 0.4720583837869172\n",
      "Objective value at t=84 is 0.4720583232592547\n",
      "Objective value at t=85 is 0.47205826963848385\n",
      "Objective value at t=86 is 0.4720582221302985\n",
      "Objective value at t=87 is 0.47205818003264427\n",
      "Objective value at t=88 is 0.4720581427248718\n",
      "Objective value at t=89 is 0.47205810965818357\n",
      "Objective value at t=90 is 0.47205808034722\n",
      "Objective value at t=91 is 0.47205805436264364\n",
      "Objective value at t=92 is 0.47205803132460256\n",
      "Objective value at t=93 is 0.4720580108969678\n",
      "Objective value at t=94 is 0.4720579927822492\n",
      "Objective value at t=95 is 0.4720579767171108\n",
      "Objective value at t=96 is 0.4720579624684124\n",
      "Objective value at t=97 is 0.4720579498297162\n",
      "Objective value at t=98 is 0.4720579386182015\n",
      "Objective value at t=99 is 0.47205792867193963\n"
     ]
    }
   ],
   "source": [
    "lam = 1E-6\n",
    "stepsize = 1.0\n",
    "w, objvals_gd = grad_descent(x_train, y_train, lam, stepsize)"
   ]
  },
  {
   "cell_type": "markdown",
   "metadata": {},
   "source": [
    "## 3.2. Stochastic gradient descent (SGD)\n",
    "\n",
    "Define $Q_i (w) = \\log \\Big( 1 + \\exp \\big( - y_i x_i^T w \\big) \\Big) + \\frac{\\lambda}{2} \\| w \\|_2^2 $.\n",
    "\n",
    "The stochastic gradient at $w$ is $g_i = \\frac{\\partial Q_i }{ \\partial w} = -\\frac{y_i x_i }{1 + \\exp ( y_i x_i^T w)} + \\lambda w$."
   ]
  },
  {
   "cell_type": "code",
   "execution_count": 10,
   "metadata": {},
   "outputs": [],
   "source": [
    "# Calculate the objective Q_i and the gradient of Q_i\n",
    "# Inputs:\n",
    "#     w: d-by-1 matrix\n",
    "#     xi: 1-by-d matrix\n",
    "#     yi: scalar\n",
    "#     lam: scalar, the regularization parameter\n",
    "# Return:\n",
    "#     obj: scalar, the objective Q_i\n",
    "#     g: d-by-1 matrix, gradient of Q_i\n",
    "def stochastic_objective_gradient(w, xi, yi, lam):\n",
    "    d = xi.shape[0]\n",
    "    yx = yi * xi # 1-by-d matrix\n",
    "    yxw = float(numpy.dot(yx, w)) # scalar\n",
    "    \n",
    "    # calculate objective function Q_i\n",
    "    loss = numpy.log(1 + numpy.exp(-yxw)) # scalar\n",
    "    reg = lam / 2 * numpy.sum(w * w) # scalar\n",
    "    obj = loss + reg\n",
    "    \n",
    "    # calculate stochastic gradient\n",
    "    g_loss = -yx.T / (1 + numpy.exp(yxw)) # d-by-1 matrix\n",
    "    g = g_loss + lam * w # d-by-1 matrix\n",
    "    \n",
    "    return obj, g"
   ]
  },
  {
   "cell_type": "code",
   "execution_count": 11,
   "metadata": {},
   "outputs": [],
   "source": [
    "# SGD for solving logistic regression\n",
    "# Inputs:\n",
    "#     x: n-by-d matrix\n",
    "#     y: n-by-1 matrix\n",
    "#     lam: scalar, the regularization parameter\n",
    "#     stepsize: scalar\n",
    "#     max_epoch: integer, the maximal epochs\n",
    "#     w: d-by-1 matrix, initialization of w\n",
    "# Return:\n",
    "#     w: the solution\n",
    "#     objvals: record of each iteration's objective value\n",
    "def sgd(x, y, lam, stepsize, max_epoch=100, w=None):\n",
    "    n, d = x.shape\n",
    "    objvals = numpy.zeros(max_epoch) # store the objective values\n",
    "    if w is None:\n",
    "        w = numpy.zeros((d, 1)) # zero initialization\n",
    "    \n",
    "    for t in range(max_epoch):\n",
    "        # randomly shuffle the samples\n",
    "        rand_indices = numpy.random.permutation(n)\n",
    "        x_rand = x[rand_indices, :]\n",
    "        y_rand = y[rand_indices, :]\n",
    "        \n",
    "        objval = 0 # accumulate the objective values\n",
    "        for i in range(n):\n",
    "            xi = x_rand[i, :] # 1-by-d matrix\n",
    "            yi = float(y_rand[i, :]) # scalar\n",
    "            obj, g = stochastic_objective_gradient(w, xi, yi, lam)\n",
    "            objval += obj\n",
    "            w -= stepsize * g\n",
    "        \n",
    "        stepsize *= 0.9 # decrease step size\n",
    "        objval /= n\n",
    "        objvals[t] = objval\n",
    "        print('Objective value at epoch t=' + str(t) + ' is ' + str(objval))\n",
    "    \n",
    "    return w, objvals"
   ]
  },
  {
   "cell_type": "markdown",
   "metadata": {},
   "source": [
    "Run SGD."
   ]
  },
  {
   "cell_type": "code",
   "execution_count": 12,
   "metadata": {},
   "outputs": [
    {
     "name": "stdout",
     "output_type": "stream",
     "text": [
      "Objective value at epoch t=0 is 0.5312346428733326\n",
      "Objective value at epoch t=1 is 0.5123152120950529\n",
      "Objective value at epoch t=2 is 0.5133731305786211\n",
      "Objective value at epoch t=3 is 0.5044028123836168\n",
      "Objective value at epoch t=4 is 0.5026724941718347\n",
      "Objective value at epoch t=5 is 0.5051486397934237\n",
      "Objective value at epoch t=6 is 0.5014161084275549\n",
      "Objective value at epoch t=7 is 0.49904661183580734\n",
      "Objective value at epoch t=8 is 0.49581820037335644\n",
      "Objective value at epoch t=9 is 0.4957886093818266\n",
      "Objective value at epoch t=10 is 0.49283116499955193\n",
      "Objective value at epoch t=11 is 0.4896061014871601\n",
      "Objective value at epoch t=12 is 0.48717827363570054\n",
      "Objective value at epoch t=13 is 0.48985365390360636\n",
      "Objective value at epoch t=14 is 0.48474890939211057\n",
      "Objective value at epoch t=15 is 0.4859577168699832\n",
      "Objective value at epoch t=16 is 0.4843590883812725\n",
      "Objective value at epoch t=17 is 0.4834332875998963\n",
      "Objective value at epoch t=18 is 0.47976045081667423\n",
      "Objective value at epoch t=19 is 0.48020551366953346\n",
      "Objective value at epoch t=20 is 0.4802466427480924\n",
      "Objective value at epoch t=21 is 0.4786671748840335\n",
      "Objective value at epoch t=22 is 0.4786697413429697\n",
      "Objective value at epoch t=23 is 0.47592097959418805\n",
      "Objective value at epoch t=24 is 0.47759544009193666\n",
      "Objective value at epoch t=25 is 0.4770503399878934\n",
      "Objective value at epoch t=26 is 0.47636723646567614\n",
      "Objective value at epoch t=27 is 0.4760449135621389\n",
      "Objective value at epoch t=28 is 0.47564819700397515\n",
      "Objective value at epoch t=29 is 0.47548680811414945\n",
      "Objective value at epoch t=30 is 0.47504395796414045\n",
      "Objective value at epoch t=31 is 0.47471946715165414\n",
      "Objective value at epoch t=32 is 0.47445636588971685\n",
      "Objective value at epoch t=33 is 0.4742766848906945\n",
      "Objective value at epoch t=34 is 0.4739573616636649\n",
      "Objective value at epoch t=35 is 0.4738027786130668\n",
      "Objective value at epoch t=36 is 0.4736706782525131\n",
      "Objective value at epoch t=37 is 0.4735238195282233\n",
      "Objective value at epoch t=38 is 0.4733731602697212\n",
      "Objective value at epoch t=39 is 0.47325192236226393\n",
      "Objective value at epoch t=40 is 0.47313413255831593\n",
      "Objective value at epoch t=41 is 0.47303137741965484\n",
      "Objective value at epoch t=42 is 0.4729307087834028\n",
      "Objective value at epoch t=43 is 0.4728449277749234\n",
      "Objective value at epoch t=44 is 0.4727664142523732\n",
      "Objective value at epoch t=45 is 0.472685948413054\n",
      "Objective value at epoch t=46 is 0.4726283720467094\n",
      "Objective value at epoch t=47 is 0.47257352347356935\n",
      "Objective value at epoch t=48 is 0.4725233350689022\n",
      "Objective value at epoch t=49 is 0.4724795800893675\n",
      "Objective value at epoch t=50 is 0.4724382261620561\n",
      "Objective value at epoch t=51 is 0.4723992670708183\n",
      "Objective value at epoch t=52 is 0.4723645168121798\n",
      "Objective value at epoch t=53 is 0.47233371834387106\n",
      "Objective value at epoch t=54 is 0.4723073141350759\n",
      "Objective value at epoch t=55 is 0.4722823443655436\n",
      "Objective value at epoch t=56 is 0.47225968185452316\n",
      "Objective value at epoch t=57 is 0.4722380765003959\n",
      "Objective value at epoch t=58 is 0.47222197537480354\n",
      "Objective value at epoch t=59 is 0.47220557073657954\n",
      "Objective value at epoch t=60 is 0.4721903656768127\n",
      "Objective value at epoch t=61 is 0.47217774830760506\n",
      "Objective value at epoch t=62 is 0.47216582338002533\n",
      "Objective value at epoch t=63 is 0.4721549712804201\n",
      "Objective value at epoch t=64 is 0.4721454284734564\n",
      "Objective value at epoch t=65 is 0.4721366714919748\n",
      "Objective value at epoch t=66 is 0.4721288303072237\n",
      "Objective value at epoch t=67 is 0.4721217146082073\n",
      "Objective value at epoch t=68 is 0.4721153867977662\n",
      "Objective value at epoch t=69 is 0.47210970614624514\n",
      "Objective value at epoch t=70 is 0.47210456404936174\n",
      "Objective value at epoch t=71 is 0.47209988031067474\n",
      "Objective value at epoch t=72 is 0.4720957707389929\n",
      "Objective value at epoch t=73 is 0.4720920159070639\n",
      "Objective value at epoch t=74 is 0.4720886352615266\n",
      "Objective value at epoch t=75 is 0.4720855743255964\n",
      "Objective value at epoch t=76 is 0.47208285454993726\n",
      "Objective value at epoch t=77 is 0.4720803902983442\n",
      "Objective value at epoch t=78 is 0.4720781812612551\n",
      "Objective value at epoch t=79 is 0.4720761805918715\n",
      "Objective value at epoch t=80 is 0.4720743905656608\n",
      "Objective value at epoch t=81 is 0.4720727606527905\n",
      "Objective value at epoch t=82 is 0.47207131615034587\n",
      "Objective value at epoch t=83 is 0.4720700059253004\n",
      "Objective value at epoch t=84 is 0.47206882813115636\n",
      "Objective value at epoch t=85 is 0.4720677660571619\n",
      "Objective value at epoch t=86 is 0.4720668124494032\n",
      "Objective value at epoch t=87 is 0.4720659539882253\n",
      "Objective value at epoch t=88 is 0.4720651807837811\n",
      "Objective value at epoch t=89 is 0.4720644841410013\n",
      "Objective value at epoch t=90 is 0.47206385727555206\n",
      "Objective value at epoch t=91 is 0.47206329395570956\n",
      "Objective value at epoch t=92 is 0.47206278640075505\n",
      "Objective value at epoch t=93 is 0.47206232990947256\n",
      "Objective value at epoch t=94 is 0.47206191892244675\n",
      "Objective value at epoch t=95 is 0.4720615489143881\n",
      "Objective value at epoch t=96 is 0.472061216008927\n",
      "Objective value at epoch t=97 is 0.47206091632112673\n",
      "Objective value at epoch t=98 is 0.4720606467198604\n",
      "Objective value at epoch t=99 is 0.4720604037723099\n"
     ]
    }
   ],
   "source": [
    "lam = 1E-6\n",
    "stepsize = 0.1\n",
    "w, objvals_sgd = sgd(x_train, y_train, lam, stepsize)"
   ]
  },
  {
   "cell_type": "markdown",
   "metadata": {},
   "source": [
    "# 4. Compare GD with SGD\n",
    "\n",
    "Plot objective function values against epochs."
   ]
  },
  {
   "cell_type": "code",
   "execution_count": 13,
   "metadata": {},
   "outputs": [
    {
     "name": "stderr",
     "output_type": "stream",
     "text": [
      "<ipython-input-13-9b8d8f4cdfb5>:9: MatplotlibDeprecationWarning: Case-insensitive properties were deprecated in 3.3 and support will be removed two minor releases later\n",
      "  line0, = plt.plot(epochs_gd, objvals_gd, '--b', LineWidth=4)\n",
      "<ipython-input-13-9b8d8f4cdfb5>:10: MatplotlibDeprecationWarning: Case-insensitive properties were deprecated in 3.3 and support will be removed two minor releases later\n",
      "  line1, = plt.plot(epochs_sgd, objvals_sgd, '-r', LineWidth=2)\n",
      "<ipython-input-13-9b8d8f4cdfb5>:11: MatplotlibDeprecationWarning: Case-insensitive properties were deprecated in 3.3 and support will be removed two minor releases later\n",
      "  plt.xlabel('Epochs', FontSize=20)\n",
      "<ipython-input-13-9b8d8f4cdfb5>:12: MatplotlibDeprecationWarning: Case-insensitive properties were deprecated in 3.3 and support will be removed two minor releases later\n",
      "  plt.ylabel('Objective Value', FontSize=20)\n",
      "<ipython-input-13-9b8d8f4cdfb5>:13: MatplotlibDeprecationWarning: Case-insensitive properties were deprecated in 3.3 and support will be removed two minor releases later\n",
      "  plt.xticks(FontSize=16)\n",
      "<ipython-input-13-9b8d8f4cdfb5>:14: MatplotlibDeprecationWarning: Case-insensitive properties were deprecated in 3.3 and support will be removed two minor releases later\n",
      "  plt.yticks(FontSize=16)\n"
     ]
    },
    {
     "data": {
      "image/png": "[encoded data removed]",
      "text/plain": [
       "<Figure size 432x288 with 1 Axes>"
      ]
     },
     "metadata": {
      "needs_background": "light"
     },
     "output_type": "display_data"
    }
   ],
   "source": [
    "import matplotlib.pyplot as plt\n",
    "%matplotlib inline\n",
    "\n",
    "fig = plt.figure(figsize=(6, 4))\n",
    "\n",
    "epochs_gd = range(len(objvals_gd))\n",
    "epochs_sgd = range(len(objvals_sgd))\n",
    "\n",
    "line0, = plt.plot(epochs_gd, objvals_gd, '--b', LineWidth=4)\n",
    "line1, = plt.plot(epochs_sgd, objvals_sgd, '-r', LineWidth=2)\n",
    "plt.xlabel('Epochs', FontSize=20)\n",
    "plt.ylabel('Objective Value', FontSize=20)\n",
    "plt.xticks(FontSize=16)\n",
    "plt.yticks(FontSize=16)\n",
    "plt.legend([line0, line1], ['GD', 'SGD'], fontsize=20)\n",
    "plt.tight_layout()\n",
    "plt.show()\n",
    "fig.savefig('compare_gd_sgd.pdf', format='pdf', dpi=1200)"
   ]
  },
  {
   "cell_type": "markdown",
   "metadata": {},
   "source": [
    "# 5. Prediction"
   ]
  },
  {
   "cell_type": "code",
   "execution_count": 14,
   "metadata": {},
   "outputs": [],
   "source": [
    "# Predict class label\n",
    "# Inputs:\n",
    "#     w: d-by-1 matrix\n",
    "#     X: m-by-d matrix\n",
    "# Return:\n",
    "#     f: m-by-1 matrix, the predictions\n",
    "def predict(w, X):\n",
    "    xw = numpy.dot(X, w)\n",
    "    f = numpy.sign(xw)\n",
    "    return f"
   ]
  },
  {
   "cell_type": "code",
   "execution_count": 15,
   "metadata": {},
   "outputs": [
    {
     "name": "stdout",
     "output_type": "stream",
     "text": [
      "Training classification error is 0.2203125\n"
     ]
    }
   ],
   "source": [
    "# evaluate training error\n",
    "f_train = predict(w, x_train)\n",
    "diff = numpy.abs(f_train - y_train) / 2\n",
    "error_train = numpy.mean(diff)\n",
    "print('Training classification error is ' + str(error_train))"
   ]
  },
  {
   "cell_type": "code",
   "execution_count": 16,
   "metadata": {},
   "outputs": [
    {
     "name": "stdout",
     "output_type": "stream",
     "text": [
      "Test classification error is 0.2109375\n"
     ]
    }
   ],
   "source": [
    "# evaluate test error\n",
    "f_test = predict(w, x_test)\n",
    "diff = numpy.abs(f_test - y_test) / 2\n",
    "error_test = numpy.mean(diff)\n",
    "print('Test classification error is ' + str(error_test))"
   ]
  },
  {
   "cell_type": "markdown",
   "metadata": {},
   "source": [
    "# 6. Mini-batch SGD (fill the code)\n",
    "\n"
   ]
  },
  {
   "cell_type": "markdown",
   "metadata": {},
   "source": [
    "?]## 6.1. Compute the objective $Q_I$ and its gradient using a batch of samples\n",
    "\n",
    "Define $Q_I (w) = \\frac{1}{b} \\sum_{i \\in I} \\log \\Big( 1 + \\exp \\big( - y_i x_i^T w \\big) \\Big) + \\frac{\\lambda}{2} \\| w \\|_2^2 $, where $I$ is a set containing $b$ indices randomly drawn from $\\{ 1, \\cdots , n \\}$ without replacement.\n",
    "\n",
    "The stochastic gradient at $w$ is $g_I = \\frac{\\partial Q_I }{ \\partial w} = \\frac{1}{b} \\sum_{i \\in I} \\frac{- y_i x_i }{1 + \\exp ( y_i x_i^T w)} + \\lambda w$."
   ]
  },
  {
   "cell_type": "code",
   "execution_count": 17,
   "metadata": {},
   "outputs": [],
   "source": [
    "# Calculate the objective Q_I and the gradient of Q_I\n",
    "# Inputs:\n",
    "#     w: d-by-1 matrix\n",
    "#     xi: b-by-d matrix\n",
    "#     yi: b-by-1 matrix\n",
    "#     lam: scalar, the regularization parameter\n",
    "#     b: integer, the batch size\n",
    "# Return:\n",
    "#     obj: scalar, the objective Q_i\n",
    "#     g: d-by-1 matrix, gradient of Q_i\n",
    "def mb_stochastic_objective_gradient(w, xi, yi, lam, b):\n",
    "    # Fill the function\n",
    "    # Follow the implementation of stochastic_objective_gradient\n",
    "    # Use matrix-vector multiplication; do not use FOR LOOP of vector-vector multiplications\n",
    "    yx = numpy.multiply(yi, xi)\n",
    "    yxw = numpy.dot(yx, w) # b-by-1 matrix\n",
    "    \n",
    "    # calculate the objective function value\n",
    "    elem_loss = numpy.log(1 + numpy.exp(-yxw))\n",
    "    \n",
    "    loss = numpy.sum(elem_loss, axis=0)\n",
    "    \n",
    "    obj = float((1/b) * loss + (lam/2) * numpy.sum(w*w))\n",
    "\n",
    "    # calculate the gradient\n",
    "    elem_grad_loss = -yx / (1 + numpy.exp(yxw))\n",
    "\n",
    "    grad_loss = (1/b) * numpy.sum(elem_grad_loss, axis=0)\n",
    "\n",
    "    g = grad_loss.T + lam*w\n",
    "\n",
    "    return obj, g"
   ]
  },
  {
   "cell_type": "markdown",
   "metadata": {},
   "source": [
    "## 6.2. Implement mini-batch SGD\n",
    "\n",
    "Hints:\n",
    "1. In every epoch, randomly permute the $n$ samples (just like SGD).\n",
    "2. Each epoch has $\\frac{n}{b}$ iterations. In every iteration, use $b$ samples, and compute the gradient and objective using the ``mb_stochastic_objective_gradient`` function. In the next iteration, use the next $b$ samples, and so on.\n"
   ]
  },
  {
   "cell_type": "code",
   "execution_count": 18,
   "metadata": {},
   "outputs": [],
   "source": [
    "# Mini-Batch SGD for solving logistic regression\n",
    "# Inumpyuts:\n",
    "#     x: n-by-d matrix\n",
    "#     y: n-by-1 matrix\n",
    "#     lam: scalar, the regularization parameter\n",
    "#     b: integer, the batch size\n",
    "#     stepsize: scalar\n",
    "#     max_epoch: integer, the maximal epochs\n",
    "#     w: d-by-1 matrix, initialization of w\n",
    "# Return:\n",
    "#     w: the solution\n",
    "#     objvals: record of each iteration's objective value\n",
    "def mb_sgd(x, y, lam, b, stepsize, max_epoch=100, w=None):\n",
    "    # Fill the function\n",
    "    # Follow the implementation of sgd\n",
    "    # Record one objective value per epoch (not per iteration!)\n",
    "    n, d = x.shape\n",
    "    objvals: numpy.ndarray = numpy.zeros((max_epoch))\n",
    "    if n % b != 0:\n",
    "        raise ValueError(\"Dataset must be evenly divisible into batches. Invalid batch length\")\n",
    "        \n",
    "    if w is None:\n",
    "        w = numpy.zeros((d, 1)) # zero initialization\n",
    "    \n",
    "    num_batches: int = n // b\n",
    "    for e in range(max_epoch):\n",
    "        rand_indices: numpy.ndarray = numpy.random.permutation(n)\n",
    "        x_rand: numpy.ndarray = x[rand_indices, ...]\n",
    "        y_rand: numpy.ndarray = y[rand_indices, ...]\n",
    "        \n",
    "        x_batch: numpy.ndarray = numpy.split(x_rand, num_batches)\n",
    "        y_batch: numpy.ndarray = numpy.split(y_rand, num_batches)\n",
    "        objval = 0 # accumulate objective values\n",
    "        for i in range(num_batches): \n",
    "            obj, g = mb_stochastic_objective_gradient(w, x_batch[i], y_batch[i], lam, b)\n",
    "            objval += obj\n",
    "            w -= stepsize*g\n",
    "        \n",
    "        stepsize *= 0.9 # decrease step size\n",
    "        objval /= num_batches\n",
    "        objvals[e] = objval\n",
    "        print(f'Objective value at epoch e={str(e)} is {str(numpy.round(objval, 5))}')\n",
    "         \n",
    "        \n",
    "    \n",
    "    return w, objvals"
   ]
  },
  {
   "cell_type": "markdown",
   "metadata": {},
   "source": [
    "## 6.3. Run MB-SGD"
   ]
  },
  {
   "cell_type": "code",
   "execution_count": 19,
   "metadata": {},
   "outputs": [
    {
     "name": "stdout",
     "output_type": "stream",
     "text": [
      "Objective value at epoch e=0 is 0.54932\n",
      "Objective value at epoch e=1 is 0.48923\n",
      "Objective value at epoch e=2 is 0.48118\n",
      "Objective value at epoch e=3 is 0.47992\n",
      "Objective value at epoch e=4 is 0.47813\n",
      "Objective value at epoch e=5 is 0.47713\n",
      "Objective value at epoch e=6 is 0.47683\n",
      "Objective value at epoch e=7 is 0.47632\n",
      "Objective value at epoch e=8 is 0.47587\n",
      "Objective value at epoch e=9 is 0.47561\n",
      "Objective value at epoch e=10 is 0.47484\n",
      "Objective value at epoch e=11 is 0.47472\n",
      "Objective value at epoch e=12 is 0.47481\n",
      "Objective value at epoch e=13 is 0.47413\n",
      "Objective value at epoch e=14 is 0.47408\n",
      "Objective value at epoch e=15 is 0.47407\n",
      "Objective value at epoch e=16 is 0.47382\n",
      "Objective value at epoch e=17 is 0.4736\n",
      "Objective value at epoch e=18 is 0.47361\n",
      "Objective value at epoch e=19 is 0.47334\n",
      "Objective value at epoch e=20 is 0.47318\n",
      "Objective value at epoch e=21 is 0.47299\n",
      "Objective value at epoch e=22 is 0.47286\n",
      "Objective value at epoch e=23 is 0.47285\n",
      "Objective value at epoch e=24 is 0.47278\n",
      "Objective value at epoch e=25 is 0.47274\n",
      "Objective value at epoch e=26 is 0.47267\n",
      "Objective value at epoch e=27 is 0.4726\n",
      "Objective value at epoch e=28 is 0.47248\n",
      "Objective value at epoch e=29 is 0.47248\n",
      "Objective value at epoch e=30 is 0.47247\n",
      "Objective value at epoch e=31 is 0.47244\n",
      "Objective value at epoch e=32 is 0.47238\n",
      "Objective value at epoch e=33 is 0.47233\n",
      "Objective value at epoch e=34 is 0.4723\n",
      "Objective value at epoch e=35 is 0.4723\n",
      "Objective value at epoch e=36 is 0.47228\n",
      "Objective value at epoch e=37 is 0.47224\n",
      "Objective value at epoch e=38 is 0.47223\n",
      "Objective value at epoch e=39 is 0.47222\n",
      "Objective value at epoch e=40 is 0.47219\n",
      "Objective value at epoch e=41 is 0.47217\n",
      "Objective value at epoch e=42 is 0.47216\n",
      "Objective value at epoch e=43 is 0.47217\n",
      "Objective value at epoch e=44 is 0.47214\n",
      "Objective value at epoch e=45 is 0.47214\n",
      "Objective value at epoch e=46 is 0.47214\n",
      "Objective value at epoch e=47 is 0.47212\n",
      "Objective value at epoch e=48 is 0.47212\n",
      "Objective value at epoch e=49 is 0.47211\n",
      "Objective value at epoch e=50 is 0.47211\n",
      "Objective value at epoch e=51 is 0.4721\n",
      "Objective value at epoch e=52 is 0.4721\n",
      "Objective value at epoch e=53 is 0.4721\n",
      "Objective value at epoch e=54 is 0.47209\n",
      "Objective value at epoch e=55 is 0.47209\n",
      "Objective value at epoch e=56 is 0.47208\n",
      "Objective value at epoch e=57 is 0.47208\n",
      "Objective value at epoch e=58 is 0.47208\n",
      "Objective value at epoch e=59 is 0.47208\n",
      "Objective value at epoch e=60 is 0.47208\n",
      "Objective value at epoch e=61 is 0.47207\n",
      "Objective value at epoch e=62 is 0.47207\n",
      "Objective value at epoch e=63 is 0.47207\n",
      "Objective value at epoch e=64 is 0.47207\n",
      "Objective value at epoch e=65 is 0.47207\n",
      "Objective value at epoch e=66 is 0.47207\n",
      "Objective value at epoch e=67 is 0.47207\n",
      "Objective value at epoch e=68 is 0.47207\n",
      "Objective value at epoch e=69 is 0.47207\n",
      "Objective value at epoch e=70 is 0.47207\n",
      "Objective value at epoch e=71 is 0.47206\n",
      "Objective value at epoch e=72 is 0.47206\n",
      "Objective value at epoch e=73 is 0.47206\n",
      "Objective value at epoch e=74 is 0.47206\n",
      "Objective value at epoch e=75 is 0.47206\n",
      "Objective value at epoch e=76 is 0.47206\n",
      "Objective value at epoch e=77 is 0.47206\n",
      "Objective value at epoch e=78 is 0.47206\n",
      "Objective value at epoch e=79 is 0.47206\n",
      "Objective value at epoch e=80 is 0.47206\n",
      "Objective value at epoch e=81 is 0.47206\n",
      "Objective value at epoch e=82 is 0.47206\n",
      "Objective value at epoch e=83 is 0.47206\n",
      "Objective value at epoch e=84 is 0.47206\n",
      "Objective value at epoch e=85 is 0.47206\n",
      "Objective value at epoch e=86 is 0.47206\n",
      "Objective value at epoch e=87 is 0.47206\n",
      "Objective value at epoch e=88 is 0.47206\n",
      "Objective value at epoch e=89 is 0.47206\n",
      "Objective value at epoch e=90 is 0.47206\n",
      "Objective value at epoch e=91 is 0.47206\n",
      "Objective value at epoch e=92 is 0.47206\n",
      "Objective value at epoch e=93 is 0.47206\n",
      "Objective value at epoch e=94 is 0.47206\n",
      "Objective value at epoch e=95 is 0.47206\n",
      "Objective value at epoch e=96 is 0.47206\n",
      "Objective value at epoch e=97 is 0.47206\n",
      "Objective value at epoch e=98 is 0.47206\n",
      "Objective value at epoch e=99 is 0.47206\n",
      "[[-0.37280471]\n",
      " [-1.16527712]\n",
      " [ 0.20814032]\n",
      " [-0.02993959]\n",
      " [ 0.20769735]\n",
      " [-0.69232403]\n",
      " [-0.29787151]\n",
      " [-0.15040462]\n",
      " [ 0.90271951]]\n"
     ]
    }
   ],
   "source": [
    "# MB-SGD with batch size b=8\n",
    "lam = 1E-6 # do not change\n",
    "b = 8 # do not change\n",
    "stepsize = 0.1 # you must tune this parameter\n",
    "# stepsize ~ 4 for .48338 convergence for batch size of 640\n",
    "w, objvals_mbsgd8 = mb_sgd(x_train, y_train, lam, b, stepsize)\n",
    "print(w)"
   ]
  },
  {
   "cell_type": "code",
   "execution_count": 20,
   "metadata": {},
   "outputs": [
    {
     "name": "stdout",
     "output_type": "stream",
     "text": [
      "Training classification error is 0.21875\n"
     ]
    }
   ],
   "source": [
    "f_train = predict(w, x_train)\n",
    "diff = numpy.abs(f_train - y_train) / 2\n",
    "error_train = numpy.mean(diff)\n",
    "print('Training classification error is ' + str(error_train))"
   ]
  },
  {
   "cell_type": "code",
   "execution_count": 21,
   "metadata": {},
   "outputs": [
    {
     "name": "stdout",
     "output_type": "stream",
     "text": [
      "Objective value at epoch e=0 is 0.56564\n",
      "Objective value at epoch e=1 is 0.49307\n",
      "Objective value at epoch e=2 is 0.48331\n",
      "Objective value at epoch e=3 is 0.48074\n",
      "Objective value at epoch e=4 is 0.47857\n",
      "Objective value at epoch e=5 is 0.4767\n",
      "Objective value at epoch e=6 is 0.47588\n",
      "Objective value at epoch e=7 is 0.47594\n",
      "Objective value at epoch e=8 is 0.47535\n",
      "Objective value at epoch e=9 is 0.47454\n",
      "Objective value at epoch e=10 is 0.47405\n",
      "Objective value at epoch e=11 is 0.47392\n",
      "Objective value at epoch e=12 is 0.47383\n",
      "Objective value at epoch e=13 is 0.4742\n",
      "Objective value at epoch e=14 is 0.47339\n",
      "Objective value at epoch e=15 is 0.47327\n",
      "Objective value at epoch e=16 is 0.47339\n",
      "Objective value at epoch e=17 is 0.47288\n",
      "Objective value at epoch e=18 is 0.47334\n",
      "Objective value at epoch e=19 is 0.47277\n",
      "Objective value at epoch e=20 is 0.47276\n",
      "Objective value at epoch e=21 is 0.47275\n",
      "Objective value at epoch e=22 is 0.47261\n",
      "Objective value at epoch e=23 is 0.47267\n",
      "Objective value at epoch e=24 is 0.47272\n",
      "Objective value at epoch e=25 is 0.47253\n",
      "Objective value at epoch e=26 is 0.47253\n",
      "Objective value at epoch e=27 is 0.47246\n",
      "Objective value at epoch e=28 is 0.47236\n",
      "Objective value at epoch e=29 is 0.47229\n",
      "Objective value at epoch e=30 is 0.47243\n",
      "Objective value at epoch e=31 is 0.47229\n",
      "Objective value at epoch e=32 is 0.47226\n",
      "Objective value at epoch e=33 is 0.47226\n",
      "Objective value at epoch e=34 is 0.47225\n",
      "Objective value at epoch e=35 is 0.4722\n",
      "Objective value at epoch e=36 is 0.47227\n",
      "Objective value at epoch e=37 is 0.47221\n",
      "Objective value at epoch e=38 is 0.47219\n",
      "Objective value at epoch e=39 is 0.47217\n",
      "Objective value at epoch e=40 is 0.47218\n",
      "Objective value at epoch e=41 is 0.4722\n",
      "Objective value at epoch e=42 is 0.47216\n",
      "Objective value at epoch e=43 is 0.47214\n",
      "Objective value at epoch e=44 is 0.47211\n",
      "Objective value at epoch e=45 is 0.47212\n",
      "Objective value at epoch e=46 is 0.47212\n",
      "Objective value at epoch e=47 is 0.47211\n",
      "Objective value at epoch e=48 is 0.47211\n",
      "Objective value at epoch e=49 is 0.47211\n",
      "Objective value at epoch e=50 is 0.4721\n",
      "Objective value at epoch e=51 is 0.4721\n",
      "Objective value at epoch e=52 is 0.4721\n",
      "Objective value at epoch e=53 is 0.47208\n",
      "Objective value at epoch e=54 is 0.47209\n",
      "Objective value at epoch e=55 is 0.47208\n",
      "Objective value at epoch e=56 is 0.47208\n",
      "Objective value at epoch e=57 is 0.47209\n",
      "Objective value at epoch e=58 is 0.47208\n",
      "Objective value at epoch e=59 is 0.47208\n",
      "Objective value at epoch e=60 is 0.47208\n",
      "Objective value at epoch e=61 is 0.47208\n",
      "Objective value at epoch e=62 is 0.47208\n",
      "Objective value at epoch e=63 is 0.47207\n",
      "Objective value at epoch e=64 is 0.47208\n",
      "Objective value at epoch e=65 is 0.47207\n",
      "Objective value at epoch e=66 is 0.47207\n",
      "Objective value at epoch e=67 is 0.47208\n",
      "Objective value at epoch e=68 is 0.47207\n",
      "Objective value at epoch e=69 is 0.47207\n",
      "Objective value at epoch e=70 is 0.47207\n",
      "Objective value at epoch e=71 is 0.47207\n",
      "Objective value at epoch e=72 is 0.47207\n",
      "Objective value at epoch e=73 is 0.47207\n",
      "Objective value at epoch e=74 is 0.47207\n",
      "Objective value at epoch e=75 is 0.47207\n",
      "Objective value at epoch e=76 is 0.47207\n",
      "Objective value at epoch e=77 is 0.47207\n",
      "Objective value at epoch e=78 is 0.47207\n",
      "Objective value at epoch e=79 is 0.47207\n",
      "Objective value at epoch e=80 is 0.47207\n",
      "Objective value at epoch e=81 is 0.47207\n",
      "Objective value at epoch e=82 is 0.47207\n",
      "Objective value at epoch e=83 is 0.47207\n",
      "Objective value at epoch e=84 is 0.47207\n",
      "Objective value at epoch e=85 is 0.47207\n",
      "Objective value at epoch e=86 is 0.47207\n",
      "Objective value at epoch e=87 is 0.47207\n",
      "Objective value at epoch e=88 is 0.47207\n",
      "Objective value at epoch e=89 is 0.47207\n",
      "Objective value at epoch e=90 is 0.47207\n",
      "Objective value at epoch e=91 is 0.47207\n",
      "Objective value at epoch e=92 is 0.47207\n",
      "Objective value at epoch e=93 is 0.47207\n",
      "Objective value at epoch e=94 is 0.47207\n",
      "Objective value at epoch e=95 is 0.47207\n",
      "Objective value at epoch e=96 is 0.47207\n",
      "Objective value at epoch e=97 is 0.47207\n",
      "Objective value at epoch e=98 is 0.47207\n",
      "Objective value at epoch e=99 is 0.47207\n"
     ]
    }
   ],
   "source": [
    "# MB-SGD with batch size b=64\n",
    "lam = 1E-6 # do not change\n",
    "b = 64 # do not change\n",
    "stepsize = 0.6 # you must tune this parameter\n",
    "\n",
    "w, objvals_mbsgd64 = mb_sgd(x_train, y_train, lam, b, stepsize)"
   ]
  },
  {
   "cell_type": "code",
   "execution_count": 22,
   "metadata": {},
   "outputs": [
    {
     "name": "stdout",
     "output_type": "stream",
     "text": [
      "Training classification error is 0.21875\n"
     ]
    }
   ],
   "source": [
    "f_train = predict(w, x_train)\n",
    "diff = numpy.abs(f_train - y_train) / 2\n",
    "error_train = numpy.mean(diff)\n",
    "print('Training classification error is ' + str(error_train))"
   ]
  },
  {
   "cell_type": "markdown",
   "metadata": {},
   "source": [
    "# 7. Plot and compare GD, SGD, and MB-SGD"
   ]
  },
  {
   "cell_type": "markdown",
   "metadata": {},
   "source": [
    "You are required to compare the following algorithms:\n",
    "\n",
    "- Gradient descent (GD)\n",
    "\n",
    "- SGD\n",
    "\n",
    "- MB-SGD with b=8\n",
    "\n",
    "- MB-SGD with b=64\n",
    "\n",
    "Follow the code in Section 4 to plot ```objective function value``` against ```epochs```. There should be four curves in the plot; each curve corresponds to one algorithm."
   ]
  },
  {
   "cell_type": "markdown",
   "metadata": {},
   "source": [
    "Hint: Logistic regression with $\\ell_2$-norm regularization is a strongly convex optimization problem. All the algorithms will converge to the same solution. **In the end, the ``objective function value`` of the 4 algorithms will be the same. If not the same, your implementation must be wrong. Do NOT submit wrong code and wrong result!**"
   ]
  },
  {
   "cell_type": "code",
   "execution_count": 23,
   "metadata": {},
   "outputs": [],
   "source": [
    "# plot the 4 curves:"
   ]
  },
  {
   "cell_type": "code",
   "execution_count": 24,
   "metadata": {},
   "outputs": [
    {
     "name": "stderr",
     "output_type": "stream",
     "text": [
      "<ipython-input-24-0104a0c3a1de>:5: MatplotlibDeprecationWarning: Case-insensitive properties were deprecated in 3.3 and support will be removed two minor releases later\n",
      "  line0, = plt.plot(epochs_mbsgd8, objvals_mbsgd8, '--b', LineWidth=4)\n",
      "<ipython-input-24-0104a0c3a1de>:6: MatplotlibDeprecationWarning: Case-insensitive properties were deprecated in 3.3 and support will be removed two minor releases later\n",
      "  line1, = plt.plot(epochs_mbsgd64, objvals_mbsgd64, '-r', LineWidth=2)\n",
      "<ipython-input-24-0104a0c3a1de>:7: MatplotlibDeprecationWarning: Case-insensitive properties were deprecated in 3.3 and support will be removed two minor releases later\n",
      "  line2, = plt.plot(epochs_sgd, objvals_sgd, '--m', LineWidth=3)\n",
      "<ipython-input-24-0104a0c3a1de>:8: MatplotlibDeprecationWarning: Case-insensitive properties were deprecated in 3.3 and support will be removed two minor releases later\n",
      "  line3, = plt.plot(epochs_gd, objvals_gd, '-g', LineWidth=1)\n",
      "<ipython-input-24-0104a0c3a1de>:9: MatplotlibDeprecationWarning: Case-insensitive properties were deprecated in 3.3 and support will be removed two minor releases later\n",
      "  plt.xlabel('Epochs', FontSize=20)\n",
      "<ipython-input-24-0104a0c3a1de>:10: MatplotlibDeprecationWarning: Case-insensitive properties were deprecated in 3.3 and support will be removed two minor releases later\n",
      "  plt.ylabel('Objective Value', FontSize=20)\n",
      "<ipython-input-24-0104a0c3a1de>:11: MatplotlibDeprecationWarning: Case-insensitive properties were deprecated in 3.3 and support will be removed two minor releases later\n",
      "  plt.xticks(FontSize=16)\n",
      "<ipython-input-24-0104a0c3a1de>:12: MatplotlibDeprecationWarning: Case-insensitive properties were deprecated in 3.3 and support will be removed two minor releases later\n",
      "  plt.yticks(FontSize=16)\n"
     ]
    },
    {
     "data": {
      "image/png": "[encoded data removed]",
      "text/plain": [
       "<Figure size 432x288 with 1 Axes>"
      ]
     },
     "metadata": {
      "needs_background": "light"
     },
     "output_type": "display_data"
    }
   ],
   "source": [
    "fig = plt.figure(figsize=(6, 4))\n",
    "epochs_mbsgd8 = range(len(objvals_mbsgd8))\n",
    "epochs_mbsgd64 = range(len(objvals_mbsgd64))\n",
    "\n",
    "line0, = plt.plot(epochs_mbsgd8, objvals_mbsgd8, '--b', LineWidth=4)\n",
    "line1, = plt.plot(epochs_mbsgd64, objvals_mbsgd64, '-r', LineWidth=2)\n",
    "line2, = plt.plot(epochs_sgd, objvals_sgd, '--m', LineWidth=3)\n",
    "line3, = plt.plot(epochs_gd, objvals_gd, '-g', LineWidth=1)\n",
    "plt.xlabel('Epochs', FontSize=20)\n",
    "plt.ylabel('Objective Value', FontSize=20)\n",
    "plt.xticks(FontSize=16)\n",
    "plt.yticks(FontSize=16)\n",
    "plt.legend([line0, line1, line2, line3], [\"MBSGD8\", \"MBSGD64\", \"SGD\", \"GD\"], fontsize=20)\n",
    "plt.tight_layout()\n",
    "plt.show()\n",
    "fig.savefig('compare_mbsgd_gd_sgd.pdf', format='pdf', dpi=1200)\n"
   ]
  }
 ],
 "metadata": {
  "kernelspec": {
   "display_name": "Python 3",
   "language": "python",
   "name": "python3"
  },
  "language_info": {
   "codemirror_mode": {
    "name": "ipython",
    "version": 3
   },
   "file_extension": ".py",
   "mimetype": "text/x-python",
   "name": "python",
   "nbconvert_exporter": "python",
   "pygments_lexer": "ipython3",
   "version": "3.8.8"
  }
 },
 "nbformat": 4,
 "nbformat_minor": 4
}
