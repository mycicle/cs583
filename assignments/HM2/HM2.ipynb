{
 "cells": [
  {
   "cell_type": "markdown",
   "metadata": {},
   "source": [
    "# HM2: Numerical Optimization for Logistic Regression.\n",
    "\n",
    "### Name: Michael DiGregorio\n"
   ]
  },
  {
   "cell_type": "markdown",
   "metadata": {},
   "source": [
    "## 0. You will do the following:\n",
    "\n",
    "1. Read the lecture note: [click here](https://github.com/wangshusen/DeepLearning/blob/master/LectureNotes/Logistic/paper/logistic.pdf)\n",
    "\n",
    "2. Read, complete, and run my code.\n",
    "\n",
    "3. **Implement mini-batch SGD** and evaluate the performance.\n",
    "\n",
    "4. Convert the .IPYNB file to .HTML file.\n",
    "\n",
    "    * The HTML file must contain **the code** and **the output after execution**.\n",
    "    \n",
    "    * Missing **the output after execution** will not be graded.\n",
    "    \n",
    "5. Upload this .HTML file to your Google Drive, Dropbox, or your Github repo.  (If you submit the file to Google Drive or Dropbox, you must make the file \"open-access\". The delay caused by \"deny of access\" may result in late penalty.)\n",
    "\n",
    "6. Submit the link to this .HTML file to Canvas.\n",
    "\n",
    "    * Example: https://github.com/wangshusen/CS583-2020S/blob/master/homework/HM2/HM2.html\n",
    "\n",
    "\n",
    "## Grading criteria:\n",
    "\n",
    "1. When computing the ```gradient``` and ```objective function value``` using a batch of samples, use **matrix-vector multiplication** rather than a FOR LOOP of **vector-vector multiplications**.\n",
    "\n",
    "2. Plot ```objective function value``` against ```epochs```. In the plot, compare GD, SGD, and MB-SGD (with $b=8$ and $b=64$). The plot must look reasonable."
   ]
  },
  {
   "cell_type": "code",
   "execution_count": null,
   "metadata": {},
   "outputs": [],
   "source": []
  },
  {
   "cell_type": "markdown",
   "metadata": {},
   "source": [
    "# 1. Data processing\n",
    "\n",
    "- Download the Diabete dataset from https://www.csie.ntu.edu.tw/~cjlin/libsvmtools/datasets/binary/diabetes\n",
    "- Load the data using sklearn.\n",
    "- Preprocess the data."
   ]
  },
  {
   "cell_type": "markdown",
   "metadata": {},
   "source": [
    "## 1.1. Load the data"
   ]
  },
  {
   "cell_type": "code",
   "execution_count": 1,
   "metadata": {},
   "outputs": [
    {
     "name": "stdout",
     "output_type": "stream",
     "text": [
      "Shape of x: (768, 8)\n",
      "Shape of y: (768,)\n"
     ]
    }
   ],
   "source": [
    "from sklearn import datasets\n",
    "import numpy\n",
    "\n",
    "x_sparse, y = datasets.load_svmlight_file('diabetes')\n",
    "x = x_sparse.todense()\n",
    "\n",
    "print('Shape of x: ' + str(x.shape))\n",
    "print('Shape of y: ' + str(y.shape))"
   ]
  },
  {
   "cell_type": "markdown",
   "metadata": {},
   "source": [
    "## 1.2. Partition to training and test sets"
   ]
  },
  {
   "cell_type": "code",
   "execution_count": 2,
   "metadata": {},
   "outputs": [
    {
     "name": "stdout",
     "output_type": "stream",
     "text": [
      "Shape of x_train: (640, 8)\n",
      "Shape of x_test: (128, 8)\n",
      "Shape of y_train: (640, 1)\n",
      "Shape of y_test: (128, 1)\n"
     ]
    }
   ],
   "source": [
    "# partition the data to training and test sets\n",
    "n = x.shape[0]\n",
    "n_train = 640\n",
    "n_test = n - n_train\n",
    "\n",
    "rand_indices = numpy.random.permutation(n)\n",
    "train_indices = rand_indices[0:n_train]\n",
    "test_indices = rand_indices[n_train:n]\n",
    "\n",
    "x_train = x[train_indices, :]\n",
    "x_test = x[test_indices, :]\n",
    "y_train = y[train_indices].reshape(n_train, 1)\n",
    "y_test = y[test_indices].reshape(n_test, 1)\n",
    "\n",
    "print('Shape of x_train: ' + str(x_train.shape))\n",
    "print('Shape of x_test: ' + str(x_test.shape))\n",
    "print('Shape of y_train: ' + str(y_train.shape))\n",
    "print('Shape of y_test: ' + str(y_test.shape))"
   ]
  },
  {
   "cell_type": "markdown",
   "metadata": {},
   "source": [
    "## 1.3. Feature scaling"
   ]
  },
  {
   "cell_type": "markdown",
   "metadata": {},
   "source": [
    "Use the standardization to trainsform both training and test features"
   ]
  },
  {
   "cell_type": "code",
   "execution_count": 3,
   "metadata": {},
   "outputs": [
    {
     "name": "stdout",
     "output_type": "stream",
     "text": [
      "test mean = \n",
      "[[ 0.0581764  -0.05446683  0.03367517 -0.07627194 -0.15812758 -0.03448148\n",
      "  -0.15670868  0.00093306]]\n",
      "test std = \n",
      "[[1.01659867 1.00307582 1.08266456 0.99900366 0.7984459  1.02610842\n",
      "  0.86909287 1.01544523]]\n"
     ]
    }
   ],
   "source": [
    "# Standardization\n",
    "import numpy\n",
    "\n",
    "# calculate mu and sig using the training set\n",
    "d = x_train.shape[1]\n",
    "mu = numpy.mean(x_train, axis=0).reshape(1, d)\n",
    "sig = numpy.std(x_train, axis=0).reshape(1, d)\n",
    "\n",
    "# transform the training features\n",
    "x_train = (x_train - mu) / (sig + 1E-6)\n",
    "\n",
    "# transform the test features\n",
    "x_test = (x_test - mu) / (sig + 1E-6)\n",
    "\n",
    "print('test mean = ')\n",
    "print(numpy.mean(x_test, axis=0))\n",
    "\n",
    "print('test std = ')\n",
    "print(numpy.std(x_test, axis=0))"
   ]
  },
  {
   "cell_type": "markdown",
   "metadata": {},
   "source": [
    "## 1.4. Add a dimension of all ones"
   ]
  },
  {
   "cell_type": "code",
   "execution_count": 4,
   "metadata": {},
   "outputs": [
    {
     "name": "stdout",
     "output_type": "stream",
     "text": [
      "Shape of x_train: (640, 9)\n",
      "Shape of x_test: (128, 9)\n"
     ]
    }
   ],
   "source": [
    "n_train, d = x_train.shape\n",
    "x_train = numpy.concatenate((x_train, numpy.ones((n_train, 1))), axis=1)\n",
    "\n",
    "n_test, d = x_test.shape\n",
    "x_test = numpy.concatenate((x_test, numpy.ones((n_test, 1))), axis=1)\n",
    "\n",
    "print('Shape of x_train: ' + str(x_train.shape))\n",
    "print('Shape of x_test: ' + str(x_test.shape))"
   ]
  },
  {
   "cell_type": "markdown",
   "metadata": {},
   "source": [
    "# 2. Logistic regression model\n",
    "\n",
    "The objective function is $Q (w; X, y) = \\frac{1}{n} \\sum_{i=1}^n \\log \\Big( 1 + \\exp \\big( - y_i x_i^T w \\big) \\Big) + \\frac{\\lambda}{2} \\| w \\|_2^2 $."
   ]
  },
  {
   "cell_type": "code",
   "execution_count": 5,
   "metadata": {},
   "outputs": [],
   "source": [
    "# Calculate the objective function value\n",
    "# Inputs:\n",
    "#     w: d-by-1 matrix\n",
    "#     x: n-by-d matrix\n",
    "#     y: n-by-1 matrix\n",
    "#     lam: scalar, the regularization parameter\n",
    "# Return:\n",
    "#     objective function value (scalar)\n",
    "def objective(w, x, y, lam):\n",
    "    n, d = x.shape\n",
    "    yx = numpy.multiply(y, x) # n-by-d matrix\n",
    "    yxw = numpy.dot(yx, w) # n-by-1 matrix\n",
    "    vec1 = numpy.exp(-yxw) # n-by-1 matrix\n",
    "    vec2 = numpy.log(1 + vec1) # n-by-1 matrix\n",
    "    loss = numpy.mean(vec2) # scalar\n",
    "    reg = lam / 2 * numpy.sum(w * w) # scalar\n",
    "    return loss + reg\n",
    "    "
   ]
  },
  {
   "cell_type": "code",
   "execution_count": 6,
   "metadata": {},
   "outputs": [
    {
     "name": "stdout",
     "output_type": "stream",
     "text": [
      "Initial objective function value = 0.6931471805599453\n"
     ]
    }
   ],
   "source": [
    "# initialize w\n",
    "d = x_train.shape[1]\n",
    "w = numpy.zeros((d, 1))\n",
    "\n",
    "# evaluate the objective function value at w\n",
    "lam = 1E-6\n",
    "objval0 = objective(w, x_train, y_train, lam)\n",
    "print('Initial objective function value = ' + str(objval0))"
   ]
  },
  {
   "cell_type": "markdown",
   "metadata": {},
   "source": [
    "# 3. Numerical optimization"
   ]
  },
  {
   "cell_type": "markdown",
   "metadata": {},
   "source": [
    "## 3.1. Gradient descent\n"
   ]
  },
  {
   "cell_type": "markdown",
   "metadata": {},
   "source": [
    "The gradient at $w$ is $g = - \\frac{1}{n} \\sum_{i=1}^n \\frac{y_i x_i }{1 + \\exp ( y_i x_i^T w)} + \\lambda w$"
   ]
  },
  {
   "cell_type": "code",
   "execution_count": 8,
   "metadata": {},
   "outputs": [],
   "source": [
    "# Calculate the gradient\n",
    "# Inputs:\n",
    "#     w: d-by-1 matrix\n",
    "#     x: n-by-d matrix\n",
    "#     y: n-by-1 matrix\n",
    "#     lam: scalar, the regularization parameter\n",
    "# Return:\n",
    "#     g: g: d-by-1 matrix, full gradient\n",
    "def gradient(w, x, y, lam):\n",
    "    n, d = x.shape\n",
    "    yx = numpy.multiply(y, x) # n-by-d matrix\n",
    "    yxw = numpy.dot(yx, w) # n-by-1 matrix\n",
    "    vec1 = numpy.exp(yxw) # n-by-1 matrix\n",
    "    vec2 = numpy.divide(yx, 1+vec1) # n-by-d matrix\n",
    "    vec3 = -numpy.mean(vec2, axis=0).reshape(d, 1) # d-by-1 matrix\n",
    "    g = vec3 + lam * w\n",
    "    return g"
   ]
  },
  {
   "cell_type": "code",
   "execution_count": 9,
   "metadata": {},
   "outputs": [],
   "source": [
    "# Gradient descent for solving logistic regression\n",
    "# Inputs:\n",
    "#     x: n-by-d matrix\n",
    "#     y: n-by-1 matrix\n",
    "#     lam: scalar, the regularization parameter\n",
    "#     stepsize: scalar\n",
    "#     max_iter: integer, the maximal iterations\n",
    "#     w: d-by-1 matrix, initialization of w\n",
    "# Return:\n",
    "#     w: d-by-1 matrix, the solution\n",
    "#     objvals: a record of each iteration's objective value\n",
    "def grad_descent(x, y, lam, stepsize, max_iter=100, w=None):\n",
    "    n, d = x.shape\n",
    "    objvals = numpy.zeros(max_iter) # store the objective values\n",
    "    if w is None:\n",
    "        w = numpy.zeros((d, 1)) # zero initialization\n",
    "    \n",
    "    for t in range(max_iter):\n",
    "        objval = objective(w, x, y, lam)\n",
    "        objvals[t] = objval\n",
    "        print('Objective value at t=' + str(t) + ' is ' + str(objval))\n",
    "        g = gradient(w, x, y, lam)\n",
    "        w -= stepsize * g\n",
    "    \n",
    "    return w, objvals"
   ]
  },
  {
   "cell_type": "markdown",
   "metadata": {},
   "source": [
    "Run gradient descent."
   ]
  },
  {
   "cell_type": "code",
   "execution_count": 10,
   "metadata": {},
   "outputs": [
    {
     "name": "stdout",
     "output_type": "stream",
     "text": [
      "Objective value at t=0 is 0.6931471805599453\n",
      "Objective value at t=1 is 0.5909559338053358\n",
      "Objective value at t=2 is 0.5498652287812429\n",
      "Objective value at t=3 is 0.5280797889043444\n",
      "Objective value at t=4 is 0.514664902110386\n",
      "Objective value at t=5 is 0.5056783163984996\n",
      "Objective value at t=6 is 0.49933328175946723\n",
      "Objective value at t=7 is 0.4946905874486577\n",
      "Objective value at t=8 is 0.4912043383904813\n",
      "Objective value at t=9 is 0.4885340430889284\n",
      "Objective value at t=10 is 0.4864561672702763\n",
      "Objective value at t=11 is 0.4848182027885689\n",
      "Objective value at t=12 is 0.48351293450987676\n",
      "Objective value at t=13 is 0.4824631476125656\n",
      "Objective value at t=14 is 0.48161210931498716\n",
      "Objective value at t=15 is 0.4809174223743048\n",
      "Objective value at t=16 is 0.4803469352491653\n",
      "Objective value at t=17 is 0.47987595205037964\n",
      "Objective value at t=18 is 0.4794852883490474\n",
      "Objective value at t=19 is 0.4791598911711687\n",
      "Objective value at t=20 is 0.4788878433523133\n",
      "Objective value at t=21 is 0.4786596346383977\n",
      "Objective value at t=22 is 0.4784676209847747\n",
      "Objective value at t=23 is 0.47830561862337306\n",
      "Objective value at t=24 is 0.4781685959516041\n",
      "Objective value at t=25 is 0.4780524373124771\n",
      "Objective value at t=26 is 0.4779537602172702\n",
      "Objective value at t=27 is 0.47786977271929865\n",
      "Objective value at t=28 is 0.477798161250547\n",
      "Objective value at t=29 is 0.47773700178218664\n",
      "Objective value at t=30 is 0.4776846889947596\n",
      "Objective value at t=31 is 0.47763987946437\n",
      "Objective value at t=32 is 0.4776014458367558\n",
      "Objective value at t=33 is 0.47756843967396506\n",
      "Objective value at t=34 is 0.47754006118947645\n",
      "Objective value at t=35 is 0.4775156344867564\n",
      "Objective value at t=36 is 0.477494587218674\n",
      "Objective value at t=37 is 0.4774764338161251\n",
      "Objective value at t=38 is 0.47746076161181544\n",
      "Objective value at t=39 is 0.4774472193227109\n",
      "Objective value at t=40 is 0.4774355074618709\n",
      "Objective value at t=41 is 0.4774253703344711\n",
      "Objective value at t=42 is 0.47741658933914977\n",
      "Objective value at t=43 is 0.47740897734841653\n",
      "Objective value at t=44 is 0.4774023739838012\n",
      "Objective value at t=45 is 0.4773966416350153\n",
      "Objective value at t=46 is 0.47739166209943285\n",
      "Objective value at t=47 is 0.4773873337400422\n",
      "Objective value at t=48 is 0.47738356907775337\n",
      "Objective value at t=49 is 0.47738029274837995\n",
      "Objective value at t=50 is 0.47737743976642116\n",
      "Objective value at t=51 is 0.4773749540474481\n",
      "Objective value at t=52 is 0.4773727871488644\n",
      "Objective value at t=53 is 0.4773708971953803\n",
      "Objective value at t=54 is 0.47736924796098507\n",
      "Objective value at t=55 is 0.4773678080837059\n",
      "Objective value at t=56 is 0.4773665503932017\n",
      "Objective value at t=57 is 0.47736545133436803\n",
      "Objective value at t=58 is 0.4773644904727407\n",
      "Objective value at t=59 is 0.4773636500696774\n",
      "Objective value at t=60 is 0.47736291471713427\n",
      "Objective value at t=61 is 0.47736227102339424\n",
      "Objective value at t=62 is 0.4773617073424064\n",
      "Objective value at t=63 is 0.4773612135404919\n",
      "Objective value at t=64 is 0.4773607807950945\n",
      "Objective value at t=65 is 0.4773604014210424\n",
      "Objective value at t=66 is 0.4773600687204466\n",
      "Objective value at t=67 is 0.47735977685292635\n",
      "Objective value at t=68 is 0.4773595207233305\n",
      "Objective value at t=69 is 0.47735929588453097\n",
      "Objective value at t=70 is 0.4773590984532073\n",
      "Objective value at t=71 is 0.477358925036841\n",
      "Objective value at t=72 is 0.4773587726703874\n",
      "Objective value at t=73 is 0.4773586387613092\n",
      "Objective value at t=74 is 0.4773585210418389\n",
      "Objective value at t=75 is 0.4773584175274973\n",
      "Objective value at t=76 is 0.4773583264810249\n",
      "Objective value at t=77 is 0.47735824638100643\n",
      "Objective value at t=78 is 0.47735817589456025\n",
      "Objective value at t=79 is 0.4773581138535563\n",
      "Objective value at t=80 is 0.47735805923389385\n",
      "Objective value at t=81 is 0.47735801113743814\n",
      "Objective value at t=82 is 0.4773579687762668\n",
      "Objective value at t=83 is 0.4773579314589244\n",
      "Objective value at t=84 is 0.47735789857842237\n",
      "Objective value at t=85 is 0.4773578696017603\n",
      "Objective value at t=86 is 0.47735784406076986\n",
      "Objective value at t=87 is 0.4773578215441121\n",
      "Objective value at t=88 is 0.47735780169027914\n",
      "Objective value at t=89 is 0.4773577841814724\n",
      "Objective value at t=90 is 0.47735776873824537\n",
      "Objective value at t=91 is 0.4773577551148133\n",
      "Objective value at t=92 is 0.4773577430949457\n",
      "Objective value at t=93 is 0.47735773248836727\n",
      "Objective value at t=94 is 0.4773577231276044\n",
      "Objective value at t=95 is 0.4773577148652199\n",
      "Objective value at t=96 is 0.47735770757138746\n",
      "Objective value at t=97 is 0.47735770113176496\n",
      "Objective value at t=98 is 0.4773576954456274\n",
      "Objective value at t=99 is 0.47735769042422704\n"
     ]
    }
   ],
   "source": [
    "lam = 1E-6\n",
    "stepsize = 1.0\n",
    "w, objvals_gd = grad_descent(x_train, y_train, lam, stepsize)"
   ]
  },
  {
   "cell_type": "markdown",
   "metadata": {},
   "source": [
    "## 3.2. Stochastic gradient descent (SGD)\n",
    "\n",
    "Define $Q_i (w) = \\log \\Big( 1 + \\exp \\big( - y_i x_i^T w \\big) \\Big) + \\frac{\\lambda}{2} \\| w \\|_2^2 $.\n",
    "\n",
    "The stochastic gradient at $w$ is $g_i = \\frac{\\partial Q_i }{ \\partial w} = -\\frac{y_i x_i }{1 + \\exp ( y_i x_i^T w)} + \\lambda w$."
   ]
  },
  {
   "cell_type": "code",
   "execution_count": 11,
   "metadata": {},
   "outputs": [],
   "source": [
    "# Calculate the objective Q_i and the gradient of Q_i\n",
    "# Inputs:\n",
    "#     w: d-by-1 matrix\n",
    "#     xi: 1-by-d matrix\n",
    "#     yi: scalar\n",
    "#     lam: scalar, the regularization parameter\n",
    "# Return:\n",
    "#     obj: scalar, the objective Q_i\n",
    "#     g: d-by-1 matrix, gradient of Q_i\n",
    "def stochastic_objective_gradient(w, xi, yi, lam):\n",
    "    d = xi.shape[0]\n",
    "    yx = yi * xi # 1-by-d matrix\n",
    "    yxw = float(numpy.dot(yx, w)) # scalar\n",
    "    \n",
    "    # calculate objective function Q_i\n",
    "    loss = numpy.log(1 + numpy.exp(-yxw)) # scalar\n",
    "    reg = lam / 2 * numpy.sum(w * w) # scalar\n",
    "    obj = loss + reg\n",
    "    \n",
    "    # calculate stochastic gradient\n",
    "    g_loss = -yx.T / (1 + numpy.exp(yxw)) # d-by-1 matrix\n",
    "    g = g_loss + lam * w # d-by-1 matrix\n",
    "    \n",
    "    return obj, g"
   ]
  },
  {
   "cell_type": "code",
   "execution_count": 12,
   "metadata": {},
   "outputs": [],
   "source": [
    "# SGD for solving logistic regression\n",
    "# Inputs:\n",
    "#     x: n-by-d matrix\n",
    "#     y: n-by-1 matrix\n",
    "#     lam: scalar, the regularization parameter\n",
    "#     stepsize: scalar\n",
    "#     max_epoch: integer, the maximal epochs\n",
    "#     w: d-by-1 matrix, initialization of w\n",
    "# Return:\n",
    "#     w: the solution\n",
    "#     objvals: record of each iteration's objective value\n",
    "def sgd(x, y, lam, stepsize, max_epoch=100, w=None):\n",
    "    n, d = x.shape\n",
    "    objvals = numpy.zeros(max_epoch) # store the objective values\n",
    "    if w is None:\n",
    "        w = numpy.zeros((d, 1)) # zero initialization\n",
    "    \n",
    "    for t in range(max_epoch):\n",
    "        # randomly shuffle the samples\n",
    "        rand_indices = numpy.random.permutation(n)\n",
    "        x_rand = x[rand_indices, :]\n",
    "        y_rand = y[rand_indices, :]\n",
    "        \n",
    "        objval = 0 # accumulate the objective values\n",
    "        for i in range(n):\n",
    "            xi = x_rand[i, :] # 1-by-d matrix\n",
    "            yi = float(y_rand[i, :]) # scalar\n",
    "            obj, g = stochastic_objective_gradient(w, xi, yi, lam)\n",
    "            objval += obj\n",
    "            w -= stepsize * g\n",
    "        \n",
    "        stepsize *= 0.9 # decrease step size\n",
    "        objval /= n\n",
    "        objvals[t] = objval\n",
    "        print('Objective value at epoch t=' + str(t) + ' is ' + str(objval))\n",
    "    \n",
    "    return w, objvals"
   ]
  },
  {
   "cell_type": "markdown",
   "metadata": {},
   "source": [
    "Run SGD."
   ]
  },
  {
   "cell_type": "code",
   "execution_count": 13,
   "metadata": {},
   "outputs": [
    {
     "name": "stdout",
     "output_type": "stream",
     "text": [
      "Objective value at epoch t=0 is 0.5342462052879537\n",
      "Objective value at epoch t=1 is 0.5293362342829797\n",
      "Objective value at epoch t=2 is 0.5266178571411605\n",
      "Objective value at epoch t=3 is 0.5130070796165365\n",
      "Objective value at epoch t=4 is 0.5201260578195426\n",
      "Objective value at epoch t=5 is 0.5044910189278228\n",
      "Objective value at epoch t=6 is 0.5036398802026473\n",
      "Objective value at epoch t=7 is 0.5024502360277668\n",
      "Objective value at epoch t=8 is 0.5023696755724341\n",
      "Objective value at epoch t=9 is 0.501029925082226\n",
      "Objective value at epoch t=10 is 0.4923946844340671\n",
      "Objective value at epoch t=11 is 0.49909514183923787\n",
      "Objective value at epoch t=12 is 0.495331354873619\n",
      "Objective value at epoch t=13 is 0.4924894021602884\n",
      "Objective value at epoch t=14 is 0.48983119373572714\n",
      "Objective value at epoch t=15 is 0.4885955843329812\n",
      "Objective value at epoch t=16 is 0.48862048103785594\n",
      "Objective value at epoch t=17 is 0.4857972724229887\n",
      "Objective value at epoch t=18 is 0.4864315623999551\n",
      "Objective value at epoch t=19 is 0.4857633339697657\n",
      "Objective value at epoch t=20 is 0.48555954408193014\n",
      "Objective value at epoch t=21 is 0.48421618076804196\n",
      "Objective value at epoch t=22 is 0.48393464638252126\n",
      "Objective value at epoch t=23 is 0.4836706942316028\n",
      "Objective value at epoch t=24 is 0.482806497205697\n",
      "Objective value at epoch t=25 is 0.48230378182798717\n",
      "Objective value at epoch t=26 is 0.4817843307358355\n",
      "Objective value at epoch t=27 is 0.48154481684468964\n",
      "Objective value at epoch t=28 is 0.48003125349685083\n",
      "Objective value at epoch t=29 is 0.4810447723375403\n",
      "Objective value at epoch t=30 is 0.4804531245085123\n",
      "Objective value at epoch t=31 is 0.4800664073470605\n",
      "Objective value at epoch t=32 is 0.4798912018947279\n",
      "Objective value at epoch t=33 is 0.47962053112213415\n",
      "Objective value at epoch t=34 is 0.47942072155676196\n",
      "Objective value at epoch t=35 is 0.47914862159186555\n",
      "Objective value at epoch t=36 is 0.47891419453948003\n",
      "Objective value at epoch t=37 is 0.47884771307579943\n",
      "Objective value at epoch t=38 is 0.47868912969983485\n",
      "Objective value at epoch t=39 is 0.478584094321237\n",
      "Objective value at epoch t=40 is 0.47846041215747553\n",
      "Objective value at epoch t=41 is 0.47831759257534817\n",
      "Objective value at epoch t=42 is 0.47824059792057055\n",
      "Objective value at epoch t=43 is 0.478163377861579\n",
      "Objective value at epoch t=44 is 0.47808345117625883\n",
      "Objective value at epoch t=45 is 0.4779996597334361\n",
      "Objective value at epoch t=46 is 0.47794542851847155\n",
      "Objective value at epoch t=47 is 0.4778876709802213\n",
      "Objective value at epoch t=48 is 0.4778329110936754\n",
      "Objective value at epoch t=49 is 0.4777865151077094\n",
      "Objective value at epoch t=50 is 0.4777466186614417\n",
      "Objective value at epoch t=51 is 0.477708039602315\n",
      "Objective value at epoch t=52 is 0.4776726779324442\n",
      "Objective value at epoch t=53 is 0.47764218270608855\n",
      "Objective value at epoch t=54 is 0.47761407855176063\n",
      "Objective value at epoch t=55 is 0.4775881940969356\n",
      "Objective value at epoch t=56 is 0.47756491835830917\n",
      "Objective value at epoch t=57 is 0.4775445374994828\n",
      "Objective value at epoch t=58 is 0.4775250500393679\n",
      "Objective value at epoch t=59 is 0.4775090614229221\n",
      "Objective value at epoch t=60 is 0.47749277046464667\n",
      "Objective value at epoch t=61 is 0.47748036048221587\n",
      "Objective value at epoch t=62 is 0.4774682933959018\n",
      "Objective value at epoch t=63 is 0.4774571328724627\n",
      "Objective value at epoch t=64 is 0.4774474684365059\n",
      "Objective value at epoch t=65 is 0.4774385547699548\n",
      "Objective value at epoch t=66 is 0.47743055520750544\n",
      "Objective value at epoch t=67 is 0.4774233286528882\n",
      "Objective value at epoch t=68 is 0.4774165607661847\n",
      "Objective value at epoch t=69 is 0.47741087842454377\n",
      "Objective value at epoch t=70 is 0.47740561692281924\n",
      "Objective value at epoch t=71 is 0.47740089895528415\n",
      "Objective value at epoch t=72 is 0.4773966112221972\n",
      "Objective value at epoch t=73 is 0.4773927720928432\n",
      "Objective value at epoch t=74 is 0.47738930898410736\n",
      "Objective value at epoch t=75 is 0.4773861905630111\n",
      "Objective value at epoch t=76 is 0.4773833835017222\n",
      "Objective value at epoch t=77 is 0.4773808583333965\n",
      "Objective value at epoch t=78 is 0.4773785794753542\n",
      "Objective value at epoch t=79 is 0.4773765354400491\n",
      "Objective value at epoch t=80 is 0.4773746910892357\n",
      "Objective value at epoch t=81 is 0.4773730390913461\n",
      "Objective value at epoch t=82 is 0.4773715479151985\n",
      "Objective value at epoch t=83 is 0.47737020336208164\n",
      "Objective value at epoch t=84 is 0.47736899851629744\n",
      "Objective value at epoch t=85 is 0.477367908282028\n",
      "Objective value at epoch t=86 is 0.4773669292619177\n",
      "Objective value at epoch t=87 is 0.4773660484082841\n",
      "Objective value at epoch t=88 is 0.47736525647823236\n",
      "Objective value at epoch t=89 is 0.47736454244134385\n",
      "Objective value at epoch t=90 is 0.4773638998646078\n",
      "Objective value at epoch t=91 is 0.4773633216461911\n",
      "Objective value at epoch t=92 is 0.4773628014412178\n",
      "Objective value at epoch t=93 is 0.4773623332117404\n",
      "Objective value at epoch t=94 is 0.47736191143165696\n",
      "Objective value at epoch t=95 is 0.47736153179413643\n",
      "Objective value at epoch t=96 is 0.47736119061630566\n",
      "Objective value at epoch t=97 is 0.4773608835124191\n",
      "Objective value at epoch t=98 is 0.4773606068699355\n",
      "Objective value at epoch t=99 is 0.47736035798846277\n"
     ]
    }
   ],
   "source": [
    "lam = 1E-6\n",
    "stepsize = 0.1\n",
    "w, objvals_sgd = sgd(x_train, y_train, lam, stepsize)"
   ]
  },
  {
   "cell_type": "markdown",
   "metadata": {},
   "source": [
    "# 4. Compare GD with SGD\n",
    "\n",
    "Plot objective function values against epochs."
   ]
  },
  {
   "cell_type": "code",
   "execution_count": 14,
   "metadata": {},
   "outputs": [
    {
     "name": "stderr",
     "output_type": "stream",
     "text": [
      "<ipython-input-14-9b8d8f4cdfb5>:9: MatplotlibDeprecationWarning: Case-insensitive properties were deprecated in 3.3 and support will be removed two minor releases later\n",
      "  line0, = plt.plot(epochs_gd, objvals_gd, '--b', LineWidth=4)\n",
      "<ipython-input-14-9b8d8f4cdfb5>:10: MatplotlibDeprecationWarning: Case-insensitive properties were deprecated in 3.3 and support will be removed two minor releases later\n",
      "  line1, = plt.plot(epochs_sgd, objvals_sgd, '-r', LineWidth=2)\n",
      "<ipython-input-14-9b8d8f4cdfb5>:11: MatplotlibDeprecationWarning: Case-insensitive properties were deprecated in 3.3 and support will be removed two minor releases later\n",
      "  plt.xlabel('Epochs', FontSize=20)\n",
      "<ipython-input-14-9b8d8f4cdfb5>:12: MatplotlibDeprecationWarning: Case-insensitive properties were deprecated in 3.3 and support will be removed two minor releases later\n",
      "  plt.ylabel('Objective Value', FontSize=20)\n",
      "<ipython-input-14-9b8d8f4cdfb5>:13: MatplotlibDeprecationWarning: Case-insensitive properties were deprecated in 3.3 and support will be removed two minor releases later\n",
      "  plt.xticks(FontSize=16)\n",
      "<ipython-input-14-9b8d8f4cdfb5>:14: MatplotlibDeprecationWarning: Case-insensitive properties were deprecated in 3.3 and support will be removed two minor releases later\n",
      "  plt.yticks(FontSize=16)\n"
     ]
    },
    {
     "data": {
      "image/png": "[encoded data removed]",
      "text/plain": [
       "<Figure size 432x288 with 1 Axes>"
      ]
     },
     "metadata": {
      "needs_background": "light"
     },
     "output_type": "display_data"
    }
   ],
   "source": [
    "import matplotlib.pyplot as plt\n",
    "%matplotlib inline\n",
    "\n",
    "fig = plt.figure(figsize=(6, 4))\n",
    "\n",
    "epochs_gd = range(len(objvals_gd))\n",
    "epochs_sgd = range(len(objvals_sgd))\n",
    "\n",
    "line0, = plt.plot(epochs_gd, objvals_gd, '--b', LineWidth=4)\n",
    "line1, = plt.plot(epochs_sgd, objvals_sgd, '-r', LineWidth=2)\n",
    "plt.xlabel('Epochs', FontSize=20)\n",
    "plt.ylabel('Objective Value', FontSize=20)\n",
    "plt.xticks(FontSize=16)\n",
    "plt.yticks(FontSize=16)\n",
    "plt.legend([line0, line1], ['GD', 'SGD'], fontsize=20)\n",
    "plt.tight_layout()\n",
    "plt.show()\n",
    "fig.savefig('compare_gd_sgd.pdf', format='pdf', dpi=1200)"
   ]
  },
  {
   "cell_type": "markdown",
   "metadata": {},
   "source": [
    "# 5. Prediction"
   ]
  },
  {
   "cell_type": "code",
   "execution_count": 15,
   "metadata": {},
   "outputs": [],
   "source": [
    "# Predict class label\n",
    "# Inputs:\n",
    "#     w: d-by-1 matrix\n",
    "#     X: m-by-d matrix\n",
    "# Return:\n",
    "#     f: m-by-1 matrix, the predictions\n",
    "def predict(w, X):\n",
    "    xw = numpy.dot(X, w)\n",
    "    f = numpy.sign(xw)\n",
    "    return f"
   ]
  },
  {
   "cell_type": "code",
   "execution_count": 16,
   "metadata": {},
   "outputs": [
    {
     "name": "stdout",
     "output_type": "stream",
     "text": [
      "Training classification error is 0.2234375\n"
     ]
    }
   ],
   "source": [
    "# evaluate training error\n",
    "f_train = predict(w, x_train)\n",
    "diff = numpy.abs(f_train - y_train) / 2\n",
    "error_train = numpy.mean(diff)\n",
    "print('Training classification error is ' + str(error_train))"
   ]
  },
  {
   "cell_type": "code",
   "execution_count": 17,
   "metadata": {},
   "outputs": [
    {
     "name": "stdout",
     "output_type": "stream",
     "text": [
      "Test classification error is 0.234375\n"
     ]
    }
   ],
   "source": [
    "# evaluate test error\n",
    "f_test = predict(w, x_test)\n",
    "diff = numpy.abs(f_test - y_test) / 2\n",
    "error_test = numpy.mean(diff)\n",
    "print('Test classification error is ' + str(error_test))"
   ]
  },
  {
   "cell_type": "markdown",
   "metadata": {},
   "source": [
    "# 6. Mini-batch SGD (fill the code)\n",
    "\n"
   ]
  },
  {
   "cell_type": "markdown",
   "metadata": {},
   "source": [
    "?]## 6.1. Compute the objective $Q_I$ and its gradient using a batch of samples\n",
    "\n",
    "Define $Q_I (w) = \\frac{1}{b} \\sum_{i \\in I} \\log \\Big( 1 + \\exp \\big( - y_i x_i^T w \\big) \\Big) + \\frac{\\lambda}{2} \\| w \\|_2^2 $, where $I$ is a set containing $b$ indices randomly drawn from $\\{ 1, \\cdots , n \\}$ without replacement.\n",
    "\n",
    "The stochastic gradient at $w$ is $g_I = \\frac{\\partial Q_I }{ \\partial w} = \\frac{1}{b} \\sum_{i \\in I} \\frac{- y_i x_i }{1 + \\exp ( y_i x_i^T w)} + \\lambda w$."
   ]
  },
  {
   "cell_type": "code",
   "execution_count": 149,
   "metadata": {},
   "outputs": [],
   "source": [
    "# Calculate the objective Q_I and the gradient of Q_I\n",
    "# Inputs:\n",
    "#     w: d-by-1 matrix\n",
    "#     xi: b-by-d matrix\n",
    "#     yi: b-by-1 matrix\n",
    "#     lam: scalar, the regularization parameter\n",
    "#     b: integer, the batch size\n",
    "# Return:\n",
    "#     obj: scalar, the objective Q_i\n",
    "#     g: d-by-1 matrix, gradient of Q_i\n",
    "def mb_stochastic_objective_gradient(w, xi, yi, lam, b):\n",
    "    # Fill the function\n",
    "    # Follow the implementation of stochastic_objective_gradient\n",
    "    # Use matrix-vector multiplication; do not use FOR LOOP of vector-vector multiplications\n",
    "    \n",
    "    # calculate the gradient\n",
    "#     print(f\"B: {b}\")\n",
    "#     print(f\"Shape of W: {w.shape}\")\n",
    "#     print(f\"Shape of Xi: {xi.shape}\")\n",
    "#     print(f\"Shape of Yi: {yi.shape}\")\n",
    "    yx: numpy.ndarray = -numpy.multiply(yi, xi) # b-by-d matrix\n",
    "#     print(f\"Shape of yx: {yx.shape}\")\n",
    "    yxw: numpy.ndarray = numpy.dot(yx, w) # b-by-1 matrix\n",
    "#     print(f\"Shape of yxw: {yxw.shape}\")\n",
    "    den: numpy.ndarray = 1 + numpy.exp(yxw) # b-by-1 matrix\n",
    "#     print(f\"Shape of den: {den.shape}\")\n",
    "    subgrad_matrix: numpy.ndarray = (1/b) * numpy.divide(yx, den) # b-by-d matrix\n",
    "#     print(f\"Shape of subgrad_matrix: {subgrad_matrix.shape}\")\n",
    "    subgrad: numpy.ndarray = numpy.sum(subgrad_matrix, axis=0)\n",
    "#     print(f\"Shape of subgrad : {subgrad.shape}\")\n",
    "    g = numpy.add(numpy.transpose(subgrad), lam*w)\n",
    "#     print(f\"Shape of gradient: {g.shape}\")\n",
    "    \n",
    "    # calculate the objective function\n",
    "    loss = 0\n",
    "    reg = 0\n",
    "    for i in range(b):\n",
    "        loss += numpy.log(1 + numpy.exp(-yxw[i, ...]))\n",
    "    reg = (lam/2) * numpy.sum(w * w)\n",
    "        \n",
    "    obj = (loss+reg)/b\n",
    "    \n",
    "    return obj, g"
   ]
  },
  {
   "cell_type": "markdown",
   "metadata": {},
   "source": [
    "## 6.2. Implement mini-batch SGD\n",
    "\n",
    "Hints:\n",
    "1. In every epoch, randomly permute the $n$ samples (just like SGD).\n",
    "2. Each epoch has $\\frac{n}{b}$ iterations. In every iteration, use $b$ samples, and compute the gradient and objective using the ``mb_stochastic_objective_gradient`` function. In the next iteration, use the next $b$ samples, and so on.\n"
   ]
  },
  {
   "cell_type": "code",
   "execution_count": 150,
   "metadata": {},
   "outputs": [],
   "source": [
    "# Mini-Batch SGD for solving logistic regression\n",
    "# Inumpyuts:\n",
    "#     x: n-by-d matrix\n",
    "#     y: n-by-1 matrix\n",
    "#     lam: scalar, the regularization parameter\n",
    "#     b: integer, the batch size\n",
    "#     stepsize: scalar\n",
    "#     max_epoch: integer, the maximal epochs\n",
    "#     w: d-by-1 matrix, initialization of w\n",
    "# Return:\n",
    "#     w: the solution\n",
    "#     objvals: record of each iteration's objective value\n",
    "def mb_sgd(x, y, lam, b, stepsize, max_epoch=100, w=None):\n",
    "    # Fill the function\n",
    "    # Follow the implementation of sgd\n",
    "    # Record one objective value per epoch (not per iteration!)\n",
    "    n, d = x.shape\n",
    "    objvals: numpy.ndarray = numpy.zeros((max_epoch))\n",
    "    if n % b != 0:\n",
    "        raise ValueError(\"Dataset must be evenly divisible into batches. Invalid batch length\")\n",
    "        \n",
    "    if w is None:\n",
    "        w = numpy.random.randn(d, 1) # uniform random initialization\n",
    "    \n",
    "\n",
    "    \n",
    "    num_batches: int = n // b\n",
    "    objval = 0 # accumulate the objective values\n",
    "    for e in range(max_epoch):\n",
    "        rand_indices: numpy.ndarray = numpy.random.permutation(n)\n",
    "        x_rand: numpy.ndarray = x[rand_indices, ...]\n",
    "        y_rand: numpy.ndarray = y[rand_indices, ...]\n",
    "            \n",
    "        objval = 0 # accumulate objective values\n",
    "        for i in range(num_batches):\n",
    "            start: int = b*i\n",
    "            end: int = start + b\n",
    "            obj, g = mb_stochastic_objective_gradient(w, x[start:end, ...], y[start:end, ...], lam, b)\n",
    "            objval += obj\n",
    "            w -= stepsize*g\n",
    "        \n",
    "        stepsize *= 0.9 # decrease step size\n",
    "        objval /= num_batches\n",
    "        objvals[e] = objval\n",
    "        print(f'Objective value at epoch e={str(e)} is {str(objval)}')\n",
    "         \n",
    "        \n",
    "    \n",
    "    return w, objvals"
   ]
  },
  {
   "cell_type": "markdown",
   "metadata": {},
   "source": [
    "## 6.3. Run MB-SGD"
   ]
  },
  {
   "cell_type": "code",
   "execution_count": 151,
   "metadata": {},
   "outputs": [
    {
     "name": "stdout",
     "output_type": "stream",
     "text": [
      "Objective value at epoch e=0 is [[3.53521586]]\n",
      "Objective value at epoch e=1 is [[8.18497541]]\n",
      "Objective value at epoch e=2 is [[12.98317123]]\n",
      "Objective value at epoch e=3 is [[17.47340085]]\n",
      "Objective value at epoch e=4 is [[21.59162421]]\n",
      "Objective value at epoch e=5 is [[25.33670407]]\n",
      "Objective value at epoch e=6 is [[28.7317101]]\n",
      "Objective value at epoch e=7 is [[31.80920681]]\n",
      "Objective value at epoch e=8 is [[34.59611106]]\n",
      "Objective value at epoch e=9 is [[37.1166715]]\n",
      "Objective value at epoch e=10 is [[39.39432601]]\n",
      "Objective value at epoch e=11 is [[41.45064783]]\n",
      "Objective value at epoch e=12 is [[43.30539329]]\n",
      "Objective value at epoch e=13 is [[44.97722116]]\n",
      "Objective value at epoch e=14 is [[46.48367441]]\n",
      "Objective value at epoch e=15 is [[47.84094487]]\n",
      "Objective value at epoch e=16 is [[49.06377991]]\n",
      "Objective value at epoch e=17 is [[50.16548482]]\n",
      "Objective value at epoch e=18 is [[51.15800442]]\n",
      "Objective value at epoch e=19 is [[52.05207038]]\n",
      "Objective value at epoch e=20 is [[52.85735721]]\n",
      "Objective value at epoch e=21 is [[53.58260519]]\n",
      "Objective value at epoch e=22 is [[54.23571264]]\n",
      "Objective value at epoch e=23 is [[54.82381276]]\n",
      "Objective value at epoch e=24 is [[55.35334331]]\n",
      "Objective value at epoch e=25 is [[55.83011142]]\n",
      "Objective value at epoch e=26 is [[56.25935364]]\n",
      "Objective value at epoch e=27 is [[56.64579087]]\n",
      "Objective value at epoch e=28 is [[56.99367839]]\n",
      "Objective value at epoch e=29 is [[57.3068512]]\n",
      "Objective value at epoch e=30 is [[57.58876501]]\n",
      "Objective value at epoch e=31 is [[57.84253333]]\n",
      "Objective value at epoch e=32 is [[58.07096097]]\n",
      "Objective value at epoch e=33 is [[58.27657437]]\n",
      "Objective value at epoch e=34 is [[58.46164897]]\n",
      "Objective value at epoch e=35 is [[58.62823395]]\n",
      "Objective value at epoch e=36 is [[58.77817457]]\n",
      "Objective value at epoch e=37 is [[58.91313237]]\n",
      "Objective value at epoch e=38 is [[59.03460333]]\n",
      "Objective value at epoch e=39 is [[59.14393432]]\n",
      "Objective value at epoch e=40 is [[59.2423379]]\n",
      "Objective value at epoch e=41 is [[59.33090567]]\n",
      "Objective value at epoch e=42 is [[59.4106203]]\n",
      "Objective value at epoch e=43 is [[59.48236639]]\n",
      "Objective value at epoch e=44 is [[59.5469402]]\n",
      "Objective value at epoch e=45 is [[59.60505852]]\n",
      "Objective value at epoch e=46 is [[59.65736651]]\n",
      "Objective value at epoch e=47 is [[59.70444492]]\n",
      "Objective value at epoch e=48 is [[59.74681647]]\n",
      "Objective value at epoch e=49 is [[59.78495165]]\n",
      "Objective value at epoch e=50 is [[59.81927395]]\n",
      "Objective value at epoch e=51 is [[59.85016453]]\n",
      "Objective value at epoch e=52 is [[59.87796647]]\n",
      "Objective value at epoch e=53 is [[59.90298854]]\n",
      "Objective value at epoch e=54 is [[59.92550868]]\n",
      "Objective value at epoch e=55 is [[59.94577702]]\n",
      "Objective value at epoch e=56 is [[59.9640187]]\n",
      "Objective value at epoch e=57 is [[59.98043636]]\n",
      "Objective value at epoch e=58 is [[59.99521236]]\n",
      "Objective value at epoch e=59 is [[60.00851086]]\n",
      "Objective value at epoch e=60 is [[60.02047959]]\n",
      "Objective value at epoch e=61 is [[60.0312515]]\n",
      "Objective value at epoch e=62 is [[60.04094627]]\n",
      "Objective value at epoch e=63 is [[60.0496716]]\n",
      "Objective value at epoch e=64 is [[60.05752443]]\n",
      "Objective value at epoch e=65 is [[60.064592]]\n",
      "Objective value at epoch e=66 is [[60.07095284]]\n",
      "Objective value at epoch e=67 is [[60.07667761]]\n",
      "Objective value at epoch e=68 is [[60.08182992]]\n",
      "Objective value at epoch e=69 is [[60.08646701]]\n",
      "Objective value at epoch e=70 is [[60.0906404]]\n",
      "Objective value at epoch e=71 is [[60.09439645]]\n",
      "Objective value at epoch e=72 is [[60.09777691]]\n",
      "Objective value at epoch e=73 is [[60.10081933]]\n",
      "Objective value at epoch e=74 is [[60.1035575]]\n",
      "Objective value at epoch e=75 is [[60.10602187]]\n",
      "Objective value at epoch e=76 is [[60.1082398]]\n",
      "Objective value at epoch e=77 is [[60.11023594]]\n",
      "Objective value at epoch e=78 is [[60.11203246]]\n",
      "Objective value at epoch e=79 is [[60.11364934]]\n",
      "Objective value at epoch e=80 is [[60.11510453]]\n",
      "Objective value at epoch e=81 is [[60.1164142]]\n",
      "Objective value at epoch e=82 is [[60.1175929]]\n",
      "Objective value at epoch e=83 is [[60.11865374]]\n",
      "Objective value at epoch e=84 is [[60.11960849]]\n",
      "Objective value at epoch e=85 is [[60.12046777]]\n",
      "Objective value at epoch e=86 is [[60.12124112]]\n",
      "Objective value at epoch e=87 is [[60.12193713]]\n",
      "Objective value at epoch e=88 is [[60.12256354]]\n",
      "Objective value at epoch e=89 is [[60.12312732]]\n",
      "Objective value at epoch e=90 is [[60.12363471]]\n",
      "Objective value at epoch e=91 is [[60.12409137]]\n",
      "Objective value at epoch e=92 is [[60.12450236]]\n",
      "Objective value at epoch e=93 is [[60.12487225]]\n",
      "Objective value at epoch e=94 is [[60.12520515]]\n",
      "Objective value at epoch e=95 is [[60.12550476]]\n",
      "Objective value at epoch e=96 is [[60.12577442]]\n",
      "Objective value at epoch e=97 is [[60.1260171]]\n",
      "Objective value at epoch e=98 is [[60.12623552]]\n",
      "Objective value at epoch e=99 is [[60.12643209]]\n"
     ]
    }
   ],
   "source": [
    "# MB-SGD with batch size b=8\n",
    "lam = 1E-6 # do not change\n",
    "b = 8 # do not change\n",
    "stepsize = 0.1 # you must tune this parameter\n",
    "\n",
    "w, objvals_mbsgd8 = mb_sgd(x_train, y_train, lam, b, stepsize)"
   ]
  },
  {
   "cell_type": "code",
   "execution_count": 135,
   "metadata": {},
   "outputs": [],
   "source": [
    "# MB-SGD with batch size b=64\n",
    "lam = 1E-6 # do not change\n",
    "b = 64 # do not change\n",
    "stepsize = 0.1 # you must tune this parameter\n",
    "\n",
    "w, objvals_mbsgd64 = mb_sgd(x_train, y_train, lam, b, stepsize)"
   ]
  },
  {
   "cell_type": "markdown",
   "metadata": {},
   "source": [
    "# 7. Plot and compare GD, SGD, and MB-SGD"
   ]
  },
  {
   "cell_type": "markdown",
   "metadata": {},
   "source": [
    "You are required to compare the following algorithms:\n",
    "\n",
    "- Gradient descent (GD)\n",
    "\n",
    "- SGD\n",
    "\n",
    "- MB-SGD with b=8\n",
    "\n",
    "- MB-SGD with b=64\n",
    "\n",
    "Follow the code in Section 4 to plot ```objective function value``` against ```epochs```. There should be four curves in the plot; each curve corresponds to one algorithm."
   ]
  },
  {
   "cell_type": "markdown",
   "metadata": {},
   "source": [
    "Hint: Logistic regression with $\\ell_2$-norm regularization is a strongly convex optimization problem. All the algorithms will converge to the same solution. **In the end, the ``objective function value`` of the 4 algorithms will be the same. If not the same, your implementation must be wrong. Do NOT submit wrong code and wrong result!**"
   ]
  },
  {
   "cell_type": "code",
   "execution_count": null,
   "metadata": {},
   "outputs": [],
   "source": [
    "# plot the 4 curves:"
   ]
  },
  {
   "cell_type": "code",
   "execution_count": 138,
   "metadata": {},
   "outputs": [
    {
     "name": "stderr",
     "output_type": "stream",
     "text": [
      "<ipython-input-138-e8438afdc3ae>:5: MatplotlibDeprecationWarning: Case-insensitive properties were deprecated in 3.3 and support will be removed two minor releases later\n",
      "  line0, = plt.plot(epochs_mbsgd8, objvals_mbsgd8, '--b', LineWidth=4)\n",
      "<ipython-input-138-e8438afdc3ae>:6: MatplotlibDeprecationWarning: Case-insensitive properties were deprecated in 3.3 and support will be removed two minor releases later\n",
      "  line1, = plt.plot(epochs_mbsgd64, objvals_mbsgd64, '--r', LineWidth=2)\n"
     ]
    },
    {
     "data": {
      "image/png": "[encoded data removed]",
      "text/plain": [
       "<Figure size 432x288 with 1 Axes>"
      ]
     },
     "metadata": {
      "needs_background": "light"
     },
     "output_type": "display_data"
    }
   ],
   "source": [
    "fig = plt.figure(figsize=(6, 4))\n",
    "epochs_mbsgd8 = range(len(objvals_mbsgd8))\n",
    "epochs_mbsgd64 = range(len(objvals_mbsgd64))\n",
    "\n",
    "line0, = plt.plot(epochs_mbsgd8, objvals_mbsgd8, '--b', LineWidth=4)\n",
    "line1, = plt.plot(epochs_mbsgd64, objvals_mbsgd64, '--r', LineWidth=2)\n",
    "plt.show()\n",
    "\n"
   ]
  }
 ],
 "metadata": {
  "kernelspec": {
   "display_name": "Python 3",
   "language": "python",
   "name": "python3"
  },
  "language_info": {
   "codemirror_mode": {
    "name": "ipython",
    "version": 3
   },
   "file_extension": ".py",
   "mimetype": "text/x-python",
   "name": "python",
   "nbconvert_exporter": "python",
   "pygments_lexer": "ipython3",
   "version": "3.8.5"
  }
 },
 "nbformat": 4,
 "nbformat_minor": 4
}
