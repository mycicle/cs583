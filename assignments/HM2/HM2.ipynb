{
 "cells": [
  {
   "cell_type": "markdown",
   "metadata": {},
   "source": [
    "# HM2: Numerical Optimization for Logistic Regression.\n",
    "\n",
    "### Name: Michael DiGregorio\n"
   ]
  },
  {
   "cell_type": "markdown",
   "metadata": {},
   "source": [
    "## 0. You will do the following:\n",
    "\n",
    "1. Read the lecture note: [click here](https://github.com/wangshusen/DeepLearning/blob/master/LectureNotes/Logistic/paper/logistic.pdf)\n",
    "\n",
    "2. Read, complete, and run my code.\n",
    "\n",
    "3. **Implement mini-batch SGD** and evaluate the performance.\n",
    "\n",
    "4. Convert the .IPYNB file to .HTML file.\n",
    "\n",
    "    * The HTML file must contain **the code** and **the output after execution**.\n",
    "    \n",
    "    * Missing **the output after execution** will not be graded.\n",
    "    \n",
    "5. Upload this .HTML file to your Google Drive, Dropbox, or your Github repo.  (If you submit the file to Google Drive or Dropbox, you must make the file \"open-access\". The delay caused by \"deny of access\" may result in late penalty.)\n",
    "\n",
    "6. Submit the link to this .HTML file to Canvas.\n",
    "\n",
    "    * Example: https://github.com/wangshusen/CS583-2020S/blob/master/homework/HM2/HM2.html\n",
    "\n",
    "\n",
    "## Grading criteria:\n",
    "\n",
    "1. When computing the ```gradient``` and ```objective function value``` using a batch of samples, use **matrix-vector multiplication** rather than a FOR LOOP of **vector-vector multiplications**.\n",
    "\n",
    "2. Plot ```objective function value``` against ```epochs```. In the plot, compare GD, SGD, and MB-SGD (with $b=8$ and $b=64$). The plot must look reasonable."
   ]
  },
  {
   "cell_type": "code",
   "execution_count": null,
   "metadata": {},
   "outputs": [],
   "source": []
  },
  {
   "cell_type": "markdown",
   "metadata": {},
   "source": [
    "# 1. Data processing\n",
    "\n",
    "- Download the Diabete dataset from https://www.csie.ntu.edu.tw/~cjlin/libsvmtools/datasets/binary/diabetes\n",
    "- Load the data using sklearn.\n",
    "- Preprocess the data."
   ]
  },
  {
   "cell_type": "markdown",
   "metadata": {},
   "source": [
    "## 1.1. Load the data"
   ]
  },
  {
   "cell_type": "code",
   "execution_count": 1,
   "metadata": {},
   "outputs": [
    {
     "name": "stdout",
     "output_type": "stream",
     "text": [
      "Shape of x: (768, 8)\n",
      "Shape of y: (768,)\n"
     ]
    }
   ],
   "source": [
    "from sklearn import datasets\n",
    "import numpy\n",
    "\n",
    "x_sparse, y = datasets.load_svmlight_file('diabetes')\n",
    "x = x_sparse.todense()\n",
    "\n",
    "print('Shape of x: ' + str(x.shape))\n",
    "print('Shape of y: ' + str(y.shape))"
   ]
  },
  {
   "cell_type": "markdown",
   "metadata": {},
   "source": [
    "## 1.2. Partition to training and test sets"
   ]
  },
  {
   "cell_type": "code",
   "execution_count": 2,
   "metadata": {},
   "outputs": [
    {
     "name": "stdout",
     "output_type": "stream",
     "text": [
      "Shape of x_train: (640, 8)\n",
      "Shape of x_test: (128, 8)\n",
      "Shape of y_train: (640, 1)\n",
      "Shape of y_test: (128, 1)\n"
     ]
    }
   ],
   "source": [
    "# partition the data to training and test sets\n",
    "n = x.shape[0]\n",
    "n_train = 640\n",
    "n_test = n - n_train\n",
    "\n",
    "rand_indices = numpy.random.permutation(n)\n",
    "train_indices = rand_indices[0:n_train]\n",
    "test_indices = rand_indices[n_train:n]\n",
    "\n",
    "x_train = x[train_indices, :]\n",
    "x_test = x[test_indices, :]\n",
    "y_train = y[train_indices].reshape(n_train, 1)\n",
    "y_test = y[test_indices].reshape(n_test, 1)\n",
    "\n",
    "print('Shape of x_train: ' + str(x_train.shape))\n",
    "print('Shape of x_test: ' + str(x_test.shape))\n",
    "print('Shape of y_train: ' + str(y_train.shape))\n",
    "print('Shape of y_test: ' + str(y_test.shape))"
   ]
  },
  {
   "cell_type": "markdown",
   "metadata": {},
   "source": [
    "## 1.3. Feature scaling"
   ]
  },
  {
   "cell_type": "markdown",
   "metadata": {},
   "source": [
    "Use the standardization to trainsform both training and test features"
   ]
  },
  {
   "cell_type": "code",
   "execution_count": 3,
   "metadata": {},
   "outputs": [
    {
     "name": "stdout",
     "output_type": "stream",
     "text": [
      "test mean = \n",
      "[[-0.12042447  0.05395082  0.04247939 -0.11601286 -0.0714022   0.02274239\n",
      "  -0.07104599 -0.06349504]]\n",
      "test std = \n",
      "[[0.86184073 1.01099222 1.00926965 0.95133835 0.91243348 0.89087753\n",
      "  1.04782952 0.98045937]]\n"
     ]
    }
   ],
   "source": [
    "# Standardization\n",
    "import numpy\n",
    "\n",
    "# calculate mu and sig using the training set\n",
    "d = x_train.shape[1]\n",
    "mu = numpy.mean(x_train, axis=0).reshape(1, d)\n",
    "sig = numpy.std(x_train, axis=0).reshape(1, d)\n",
    "\n",
    "# transform the training features\n",
    "x_train = (x_train - mu) / (sig + 1E-6)\n",
    "\n",
    "# transform the test features\n",
    "x_test = (x_test - mu) / (sig + 1E-6)\n",
    "\n",
    "print('test mean = ')\n",
    "print(numpy.mean(x_test, axis=0))\n",
    "\n",
    "print('test std = ')\n",
    "print(numpy.std(x_test, axis=0))"
   ]
  },
  {
   "cell_type": "markdown",
   "metadata": {},
   "source": [
    "## 1.4. Add a dimension of all ones"
   ]
  },
  {
   "cell_type": "code",
   "execution_count": 4,
   "metadata": {},
   "outputs": [
    {
     "name": "stdout",
     "output_type": "stream",
     "text": [
      "Shape of x_train: (640, 9)\n",
      "Shape of x_test: (128, 9)\n"
     ]
    }
   ],
   "source": [
    "n_train, d = x_train.shape\n",
    "x_train = numpy.concatenate((x_train, numpy.ones((n_train, 1))), axis=1)\n",
    "\n",
    "n_test, d = x_test.shape\n",
    "x_test = numpy.concatenate((x_test, numpy.ones((n_test, 1))), axis=1)\n",
    "\n",
    "print('Shape of x_train: ' + str(x_train.shape))\n",
    "print('Shape of x_test: ' + str(x_test.shape))"
   ]
  },
  {
   "cell_type": "markdown",
   "metadata": {},
   "source": [
    "# 2. Logistic regression model\n",
    "\n",
    "The objective function is $Q (w; X, y) = \\frac{1}{n} \\sum_{i=1}^n \\log \\Big( 1 + \\exp \\big( - y_i x_i^T w \\big) \\Big) + \\frac{\\lambda}{2} \\| w \\|_2^2 $."
   ]
  },
  {
   "cell_type": "code",
   "execution_count": 5,
   "metadata": {},
   "outputs": [],
   "source": [
    "# Calculate the objective function value\n",
    "# Inputs:\n",
    "#     w: d-by-1 matrix\n",
    "#     x: n-by-d matrix\n",
    "#     y: n-by-1 matrix\n",
    "#     lam: scalar, the regularization parameter\n",
    "# Return:\n",
    "#     objective function value (scalar)\n",
    "def objective(w, x, y, lam):\n",
    "    n, d = x.shape\n",
    "    yx = numpy.multiply(y, x) # n-by-d matrix\n",
    "    yxw = numpy.dot(yx, w) # n-by-1 matrix\n",
    "    vec1 = numpy.exp(-yxw) # n-by-1 matrix\n",
    "    vec2 = numpy.log(1 + vec1) # n-by-1 matrix\n",
    "    loss = numpy.mean(vec2) # scalar\n",
    "    reg = lam / 2 * numpy.sum(w * w) # scalar\n",
    "    return loss + reg\n",
    "    "
   ]
  },
  {
   "cell_type": "code",
   "execution_count": 6,
   "metadata": {},
   "outputs": [
    {
     "name": "stdout",
     "output_type": "stream",
     "text": [
      "Initial objective function value = 0.6931471805599453\n"
     ]
    }
   ],
   "source": [
    "# initialize w\n",
    "d = x_train.shape[1]\n",
    "w = numpy.zeros((d, 1))\n",
    "\n",
    "# evaluate the objective function value at w\n",
    "lam = 1E-6\n",
    "objval0 = objective(w, x_train, y_train, lam)\n",
    "print('Initial objective function value = ' + str(objval0))"
   ]
  },
  {
   "cell_type": "markdown",
   "metadata": {},
   "source": [
    "# 3. Numerical optimization"
   ]
  },
  {
   "cell_type": "markdown",
   "metadata": {},
   "source": [
    "## 3.1. Gradient descent\n"
   ]
  },
  {
   "cell_type": "markdown",
   "metadata": {},
   "source": [
    "The gradient at $w$ is $g = - \\frac{1}{n} \\sum_{i=1}^n \\frac{y_i x_i }{1 + \\exp ( y_i x_i^T w)} + \\lambda w$"
   ]
  },
  {
   "cell_type": "code",
   "execution_count": 7,
   "metadata": {},
   "outputs": [],
   "source": [
    "# Calculate the gradient\n",
    "# Inputs:\n",
    "#     w: d-by-1 matrix\n",
    "#     x: n-by-d matrix\n",
    "#     y: n-by-1 matrix\n",
    "#     lam: scalar, the regularization parameter\n",
    "# Return:\n",
    "#     g: g: d-by-1 matrix, full gradient\n",
    "def gradient(w, x, y, lam):\n",
    "    n, d = x.shape\n",
    "    yx = numpy.multiply(y, x) # n-by-d matrix\n",
    "    yxw = numpy.dot(yx, w) # n-by-1 matrix\n",
    "    vec1 = numpy.exp(yxw) # n-by-1 matrix\n",
    "    vec2 = numpy.divide(yx, 1+vec1) # n-by-d matrix\n",
    "    vec3 = -numpy.mean(vec2, axis=0).reshape(d, 1) # d-by-1 matrix\n",
    "    g = vec3 + lam * w\n",
    "    return g"
   ]
  },
  {
   "cell_type": "code",
   "execution_count": 8,
   "metadata": {},
   "outputs": [],
   "source": [
    "# Gradient descent for solving logistic regression\n",
    "# Inputs:\n",
    "#     x: n-by-d matrix\n",
    "#     y: n-by-1 matrix\n",
    "#     lam: scalar, the regularization parameter\n",
    "#     stepsize: scalar\n",
    "#     max_iter: integer, the maximal iterations\n",
    "#     w: d-by-1 matrix, initialization of w\n",
    "# Return:\n",
    "#     w: d-by-1 matrix, the solution\n",
    "#     objvals: a record of each iteration's objective value\n",
    "def grad_descent(x, y, lam, stepsize, max_iter=100, w=None):\n",
    "    n, d = x.shape\n",
    "    objvals = numpy.zeros(max_iter) # store the objective values\n",
    "    if w is None:\n",
    "        w = numpy.zeros((d, 1)) # zero initialization\n",
    "    \n",
    "    for t in range(max_iter):\n",
    "        objval = objective(w, x, y, lam)\n",
    "        objvals[t] = objval\n",
    "        print('Objective value at t=' + str(t) + ' is ' + str(objval))\n",
    "        g = gradient(w, x, y, lam)\n",
    "        w -= stepsize * g\n",
    "    \n",
    "    return w, objvals"
   ]
  },
  {
   "cell_type": "markdown",
   "metadata": {},
   "source": [
    "Run gradient descent."
   ]
  },
  {
   "cell_type": "code",
   "execution_count": 9,
   "metadata": {},
   "outputs": [
    {
     "name": "stdout",
     "output_type": "stream",
     "text": [
      "Objective value at t=0 is 0.6931471805599453\n",
      "Objective value at t=1 is 0.5963069670439084\n",
      "Objective value at t=2 is 0.5568849529748792\n",
      "Objective value at t=3 is 0.5356252219651935\n",
      "Objective value at t=4 is 0.5223032781374611\n",
      "Objective value at t=5 is 0.5132385671524939\n",
      "Objective value at t=6 is 0.5067521953578135\n",
      "Objective value at t=7 is 0.5019516056342371\n",
      "Objective value at t=8 is 0.4983111828410382\n",
      "Objective value at t=9 is 0.4954987915895906\n",
      "Objective value at t=10 is 0.4932937267183489\n",
      "Objective value at t=11 is 0.4915437453895546\n",
      "Objective value at t=12 is 0.49014075019797543\n",
      "Objective value at t=13 is 0.4890061857358805\n",
      "Objective value at t=14 is 0.4880818565406377\n",
      "Objective value at t=15 is 0.48732394105814\n",
      "Objective value at t=16 is 0.48669897337182694\n",
      "Objective value at t=17 is 0.4861810795521705\n",
      "Objective value at t=18 is 0.48575003719545445\n",
      "Objective value at t=19 is 0.485389888230684\n",
      "Objective value at t=20 is 0.48508793134222433\n",
      "Objective value at t=21 is 0.48483397961872543\n",
      "Objective value at t=22 is 0.4846198065225464\n",
      "Objective value at t=23 is 0.4844387275362686\n",
      "Objective value at t=24 is 0.4842852808657589\n",
      "Objective value at t=25 is 0.4841549813501787\n",
      "Objective value at t=26 is 0.4840441290861262\n",
      "Objective value at t=27 is 0.48394965937141277\n",
      "Objective value at t=28 is 0.48386902415459837\n",
      "Objective value at t=29 is 0.4838000977224943\n",
      "Objective value at t=30 is 0.48374110118929037\n",
      "Objective value at t=31 is 0.4836905416827117\n",
      "Objective value at t=32 is 0.4836471631008781\n",
      "Objective value at t=33 is 0.48360990603906817\n",
      "Objective value at t=34 is 0.48357787502853977\n",
      "Objective value at t=35 is 0.4835503116393481\n",
      "Objective value at t=36 is 0.48352657231088886\n",
      "Objective value at t=37 is 0.4835061100129022\n",
      "Objective value at t=38 is 0.4834884590242201\n",
      "Objective value at t=39 is 0.48347322225998524\n",
      "Objective value at t=40 is 0.4834600606902938\n",
      "Objective value at t=41 is 0.48344868448152173\n",
      "Objective value at t=42 is 0.4834388455614957\n",
      "Objective value at t=43 is 0.4834303313652808\n",
      "Objective value at t=44 is 0.4834229595628369\n",
      "Objective value at t=45 is 0.48341657360552404\n",
      "Objective value at t=46 is 0.48341103895728804\n",
      "Objective value at t=47 is 0.4834062398997232\n",
      "Objective value at t=48 is 0.48340207681924036\n",
      "Objective value at t=49 is 0.4833984639001005\n",
      "Objective value at t=50 is 0.4833953271598078\n",
      "Objective value at t=51 is 0.48339260277383433\n",
      "Objective value at t=52 is 0.4833902356452834\n",
      "Objective value at t=53 is 0.48338817818225205\n",
      "Objective value at t=54 is 0.48338638925158356\n",
      "Objective value at t=55 is 0.48338483328263515\n",
      "Objective value at t=56 is 0.48338347949880367\n",
      "Objective value at t=57 is 0.4833823012579927\n",
      "Objective value at t=58 is 0.4833812754860861\n",
      "Objective value at t=59 is 0.48338038218991203\n",
      "Objective value at t=60 is 0.4833796040382221\n",
      "Objective value at t=61 is 0.48337892600092175\n",
      "Objective value at t=62 is 0.4833783350382358\n",
      "Objective value at t=63 is 0.48337781983272315\n",
      "Objective value at t=64 is 0.4833773705580872\n",
      "Objective value at t=65 is 0.48337697867961044\n",
      "Objective value at t=66 is 0.4833766367817896\n",
      "Objective value at t=67 is 0.48337633841938293\n",
      "Objective value at t=68 is 0.4833760779886227\n",
      "Objective value at t=69 is 0.4833758506158074\n",
      "Objective value at t=70 is 0.4833756520608824\n",
      "Objective value at t=71 is 0.4833754786339553\n",
      "Objective value at t=72 is 0.4833753271229774\n",
      "Objective value at t=73 is 0.48337519473107377\n",
      "Objective value at t=74 is 0.4833750790222099\n",
      "Objective value at t=75 is 0.4833749778740702\n",
      "Objective value at t=76 is 0.4833748894371736\n",
      "Objective value at t=77 is 0.48337481209938915\n",
      "Objective value at t=78 is 0.4833747444551267\n",
      "Objective value at t=79 is 0.483374685278578\n",
      "Objective value at t=80 is 0.48337463350046844\n",
      "Objective value at t=81 is 0.48337458818785084\n",
      "Objective value at t=82 is 0.48337454852654044\n",
      "Objective value at t=83 is 0.4833745138058375\n",
      "Objective value at t=84 is 0.4833744834052405\n",
      "Objective value at t=85 is 0.48337445678288166\n",
      "Objective value at t=86 is 0.48337443346546416\n",
      "Objective value at t=87 is 0.48337441303949963\n",
      "Objective value at t=88 is 0.4833743951436777\n",
      "Objective value at t=89 is 0.4833743794622197\n",
      "Objective value at t=90 is 0.48337436571908726\n",
      "Objective value at t=91 is 0.4833743536729351\n",
      "Objective value at t=92 is 0.4833743431127117\n",
      "Objective value at t=93 is 0.48337433385382284\n",
      "Objective value at t=94 is 0.48337432573478606\n",
      "Objective value at t=95 is 0.4833743186143118\n",
      "Objective value at t=96 is 0.4833743123687571\n",
      "Objective value at t=97 is 0.4833743068899033\n",
      "Objective value at t=98 is 0.4833743020830157\n",
      "Objective value at t=99 is 0.48337429786515\n"
     ]
    }
   ],
   "source": [
    "lam = 1E-6\n",
    "stepsize = 1.0\n",
    "w, objvals_gd = grad_descent(x_train, y_train, lam, stepsize)"
   ]
  },
  {
   "cell_type": "markdown",
   "metadata": {},
   "source": [
    "## 3.2. Stochastic gradient descent (SGD)\n",
    "\n",
    "Define $Q_i (w) = \\log \\Big( 1 + \\exp \\big( - y_i x_i^T w \\big) \\Big) + \\frac{\\lambda}{2} \\| w \\|_2^2 $.\n",
    "\n",
    "The stochastic gradient at $w$ is $g_i = \\frac{\\partial Q_i }{ \\partial w} = -\\frac{y_i x_i }{1 + \\exp ( y_i x_i^T w)} + \\lambda w$."
   ]
  },
  {
   "cell_type": "code",
   "execution_count": 10,
   "metadata": {},
   "outputs": [],
   "source": [
    "# Calculate the objective Q_i and the gradient of Q_i\n",
    "# Inputs:\n",
    "#     w: d-by-1 matrix\n",
    "#     xi: 1-by-d matrix\n",
    "#     yi: scalar\n",
    "#     lam: scalar, the regularization parameter\n",
    "# Return:\n",
    "#     obj: scalar, the objective Q_i\n",
    "#     g: d-by-1 matrix, gradient of Q_i\n",
    "def stochastic_objective_gradient(w, xi, yi, lam):\n",
    "    d = xi.shape[0]\n",
    "    yx = yi * xi # 1-by-d matrix\n",
    "    yxw = float(numpy.dot(yx, w)) # scalar\n",
    "    \n",
    "    # calculate objective function Q_i\n",
    "    loss = numpy.log(1 + numpy.exp(-yxw)) # scalar\n",
    "    reg = lam / 2 * numpy.sum(w * w) # scalar\n",
    "    obj = loss + reg\n",
    "    \n",
    "    # calculate stochastic gradient\n",
    "    g_loss = -yx.T / (1 + numpy.exp(yxw)) # d-by-1 matrix\n",
    "    g = g_loss + lam * w # d-by-1 matrix\n",
    "    \n",
    "    return obj, g"
   ]
  },
  {
   "cell_type": "code",
   "execution_count": 11,
   "metadata": {},
   "outputs": [],
   "source": [
    "# SGD for solving logistic regression\n",
    "# Inputs:\n",
    "#     x: n-by-d matrix\n",
    "#     y: n-by-1 matrix\n",
    "#     lam: scalar, the regularization parameter\n",
    "#     stepsize: scalar\n",
    "#     max_epoch: integer, the maximal epochs\n",
    "#     w: d-by-1 matrix, initialization of w\n",
    "# Return:\n",
    "#     w: the solution\n",
    "#     objvals: record of each iteration's objective value\n",
    "def sgd(x, y, lam, stepsize, max_epoch=100, w=None):\n",
    "    n, d = x.shape\n",
    "    objvals = numpy.zeros(max_epoch) # store the objective values\n",
    "    if w is None:\n",
    "        w = numpy.zeros((d, 1)) # zero initialization\n",
    "    \n",
    "    for t in range(max_epoch):\n",
    "        # randomly shuffle the samples\n",
    "        rand_indices = numpy.random.permutation(n)\n",
    "        x_rand = x[rand_indices, :]\n",
    "        y_rand = y[rand_indices, :]\n",
    "        \n",
    "        objval = 0 # accumulate the objective values\n",
    "        for i in range(n):\n",
    "            xi = x_rand[i, :] # 1-by-d matrix\n",
    "            yi = float(y_rand[i, :]) # scalar\n",
    "            obj, g = stochastic_objective_gradient(w, xi, yi, lam)\n",
    "            objval += obj\n",
    "            w -= stepsize * g\n",
    "        \n",
    "        stepsize *= 0.9 # decrease step size\n",
    "        objval /= n\n",
    "        objvals[t] = objval\n",
    "        print('Objective value at epoch t=' + str(t) + ' is ' + str(objval))\n",
    "    \n",
    "    return w, objvals"
   ]
  },
  {
   "cell_type": "markdown",
   "metadata": {},
   "source": [
    "Run SGD."
   ]
  },
  {
   "cell_type": "code",
   "execution_count": 12,
   "metadata": {},
   "outputs": [
    {
     "name": "stdout",
     "output_type": "stream",
     "text": [
      "Objective value at epoch t=0 is 0.5502718459327973\n",
      "Objective value at epoch t=1 is 0.5268464034592241\n",
      "Objective value at epoch t=2 is 0.5325607676797739\n",
      "Objective value at epoch t=3 is 0.5252939761638193\n",
      "Objective value at epoch t=4 is 0.5223662484138518\n",
      "Objective value at epoch t=5 is 0.5073661703598351\n",
      "Objective value at epoch t=6 is 0.5169955408726647\n",
      "Objective value at epoch t=7 is 0.5103930681977912\n",
      "Objective value at epoch t=8 is 0.5033208756003047\n",
      "Objective value at epoch t=9 is 0.5037438998220494\n",
      "Objective value at epoch t=10 is 0.5048283241019843\n",
      "Objective value at epoch t=11 is 0.5029982081202544\n",
      "Objective value at epoch t=12 is 0.49906243692597735\n",
      "Objective value at epoch t=13 is 0.4986367469725761\n",
      "Objective value at epoch t=14 is 0.4945453208014191\n",
      "Objective value at epoch t=15 is 0.49578453099688125\n",
      "Objective value at epoch t=16 is 0.49416779441522163\n",
      "Objective value at epoch t=17 is 0.4949484556896234\n",
      "Objective value at epoch t=18 is 0.4934480513118862\n",
      "Objective value at epoch t=19 is 0.4909354536605336\n",
      "Objective value at epoch t=20 is 0.4911603297941725\n",
      "Objective value at epoch t=21 is 0.48957772904447927\n",
      "Objective value at epoch t=22 is 0.49028744566564686\n",
      "Objective value at epoch t=23 is 0.4892759018096607\n",
      "Objective value at epoch t=24 is 0.48909752227726744\n",
      "Objective value at epoch t=25 is 0.48822702845558197\n",
      "Objective value at epoch t=26 is 0.48741832538822144\n",
      "Objective value at epoch t=27 is 0.48755001626922007\n",
      "Objective value at epoch t=28 is 0.48710414765529775\n",
      "Objective value at epoch t=29 is 0.4865881762169998\n",
      "Objective value at epoch t=30 is 0.4863710897724839\n",
      "Objective value at epoch t=31 is 0.48603433761289266\n",
      "Objective value at epoch t=32 is 0.4859124978416676\n",
      "Objective value at epoch t=33 is 0.48540955257746277\n",
      "Objective value at epoch t=34 is 0.4853605371881951\n",
      "Objective value at epoch t=35 is 0.4851983249187115\n",
      "Objective value at epoch t=36 is 0.48495100181296247\n",
      "Objective value at epoch t=37 is 0.48486403922150123\n",
      "Objective value at epoch t=38 is 0.4847192637340999\n",
      "Objective value at epoch t=39 is 0.4845887722868921\n",
      "Objective value at epoch t=40 is 0.4844947522247268\n",
      "Objective value at epoch t=41 is 0.4843724524577417\n",
      "Objective value at epoch t=42 is 0.4842638406445766\n",
      "Objective value at epoch t=43 is 0.48418137713975684\n",
      "Objective value at epoch t=44 is 0.484092425101257\n",
      "Objective value at epoch t=45 is 0.4840343449886138\n",
      "Objective value at epoch t=46 is 0.48396504310214866\n",
      "Objective value at epoch t=47 is 0.48390653908172554\n",
      "Objective value at epoch t=48 is 0.48385038231823624\n",
      "Objective value at epoch t=49 is 0.48380715124784446\n",
      "Objective value at epoch t=50 is 0.4837619119701837\n",
      "Objective value at epoch t=51 is 0.4837242095460927\n",
      "Objective value at epoch t=52 is 0.48368859203353576\n",
      "Objective value at epoch t=53 is 0.4836597008510469\n",
      "Objective value at epoch t=54 is 0.4836301662590886\n",
      "Objective value at epoch t=55 is 0.4836049364796485\n",
      "Objective value at epoch t=56 is 0.48358211796131345\n",
      "Objective value at epoch t=57 is 0.48356180682791106\n",
      "Objective value at epoch t=58 is 0.4835419427103719\n",
      "Objective value at epoch t=59 is 0.48352631702382487\n",
      "Objective value at epoch t=60 is 0.4835109870197152\n",
      "Objective value at epoch t=61 is 0.4834973210129001\n",
      "Objective value at epoch t=62 is 0.48348514006780496\n",
      "Objective value at epoch t=63 is 0.483474156839969\n",
      "Objective value at epoch t=64 is 0.4834641555092246\n",
      "Objective value at epoch t=65 is 0.4834552274333742\n",
      "Objective value at epoch t=66 is 0.48344726067149857\n",
      "Objective value at epoch t=67 is 0.4834399870119304\n",
      "Objective value at epoch t=68 is 0.4834334883441861\n",
      "Objective value at epoch t=69 is 0.48342756555666905\n",
      "Objective value at epoch t=70 is 0.48342235961948854\n",
      "Objective value at epoch t=71 is 0.4834175573355595\n",
      "Objective value at epoch t=72 is 0.48341333039735235\n",
      "Objective value at epoch t=73 is 0.48340948260364336\n",
      "Objective value at epoch t=74 is 0.4834059961675224\n",
      "Objective value at epoch t=75 is 0.4834029076353482\n",
      "Objective value at epoch t=76 is 0.48340009975541653\n",
      "Objective value at epoch t=77 is 0.4833975690541461\n",
      "Objective value at epoch t=78 is 0.48339529996439906\n",
      "Objective value at epoch t=79 is 0.4833932405412079\n",
      "Objective value at epoch t=80 is 0.4833914128614644\n",
      "Objective value at epoch t=81 is 0.483389754933029\n",
      "Objective value at epoch t=82 is 0.4833882633223318\n",
      "Objective value at epoch t=83 is 0.4833869162033012\n",
      "Objective value at epoch t=84 is 0.48338570866220304\n",
      "Objective value at epoch t=85 is 0.4833846232186502\n",
      "Objective value at epoch t=86 is 0.4833836460186734\n",
      "Objective value at epoch t=87 is 0.48338276487319776\n",
      "Objective value at epoch t=88 is 0.48338197170473707\n",
      "Objective value at epoch t=89 is 0.48338125903666196\n",
      "Objective value at epoch t=90 is 0.4833806162350179\n",
      "Objective value at epoch t=91 is 0.48338003790708306\n",
      "Objective value at epoch t=92 is 0.4833795179167978\n",
      "Objective value at epoch t=93 is 0.48337904957479794\n",
      "Objective value at epoch t=94 is 0.48337862804914405\n",
      "Objective value at epoch t=95 is 0.48337824883577457\n",
      "Objective value at epoch t=96 is 0.48337790750689535\n",
      "Objective value at epoch t=97 is 0.4833776000310933\n",
      "Objective value at epoch t=98 is 0.4833773236819249\n",
      "Objective value at epoch t=99 is 0.483377074756833\n"
     ]
    }
   ],
   "source": [
    "lam = 1E-6\n",
    "stepsize = 0.1\n",
    "w, objvals_sgd = sgd(x_train, y_train, lam, stepsize)"
   ]
  },
  {
   "cell_type": "markdown",
   "metadata": {},
   "source": [
    "# 4. Compare GD with SGD\n",
    "\n",
    "Plot objective function values against epochs."
   ]
  },
  {
   "cell_type": "code",
   "execution_count": 13,
   "metadata": {},
   "outputs": [
    {
     "name": "stderr",
     "output_type": "stream",
     "text": [
      "<ipython-input-13-9b8d8f4cdfb5>:9: MatplotlibDeprecationWarning: Case-insensitive properties were deprecated in 3.3 and support will be removed two minor releases later\n",
      "  line0, = plt.plot(epochs_gd, objvals_gd, '--b', LineWidth=4)\n",
      "<ipython-input-13-9b8d8f4cdfb5>:10: MatplotlibDeprecationWarning: Case-insensitive properties were deprecated in 3.3 and support will be removed two minor releases later\n",
      "  line1, = plt.plot(epochs_sgd, objvals_sgd, '-r', LineWidth=2)\n",
      "<ipython-input-13-9b8d8f4cdfb5>:11: MatplotlibDeprecationWarning: Case-insensitive properties were deprecated in 3.3 and support will be removed two minor releases later\n",
      "  plt.xlabel('Epochs', FontSize=20)\n",
      "<ipython-input-13-9b8d8f4cdfb5>:12: MatplotlibDeprecationWarning: Case-insensitive properties were deprecated in 3.3 and support will be removed two minor releases later\n",
      "  plt.ylabel('Objective Value', FontSize=20)\n",
      "<ipython-input-13-9b8d8f4cdfb5>:13: MatplotlibDeprecationWarning: Case-insensitive properties were deprecated in 3.3 and support will be removed two minor releases later\n",
      "  plt.xticks(FontSize=16)\n",
      "<ipython-input-13-9b8d8f4cdfb5>:14: MatplotlibDeprecationWarning: Case-insensitive properties were deprecated in 3.3 and support will be removed two minor releases later\n",
      "  plt.yticks(FontSize=16)\n"
     ]
    },
    {
     "data": {
      "image/png": "[encoded data removed]",
      "text/plain": [
       "<Figure size 432x288 with 1 Axes>"
      ]
     },
     "metadata": {
      "needs_background": "light"
     },
     "output_type": "display_data"
    }
   ],
   "source": [
    "import matplotlib.pyplot as plt\n",
    "%matplotlib inline\n",
    "\n",
    "fig = plt.figure(figsize=(6, 4))\n",
    "\n",
    "epochs_gd = range(len(objvals_gd))\n",
    "epochs_sgd = range(len(objvals_sgd))\n",
    "\n",
    "line0, = plt.plot(epochs_gd, objvals_gd, '--b', LineWidth=4)\n",
    "line1, = plt.plot(epochs_sgd, objvals_sgd, '-r', LineWidth=2)\n",
    "plt.xlabel('Epochs', FontSize=20)\n",
    "plt.ylabel('Objective Value', FontSize=20)\n",
    "plt.xticks(FontSize=16)\n",
    "plt.yticks(FontSize=16)\n",
    "plt.legend([line0, line1], ['GD', 'SGD'], fontsize=20)\n",
    "plt.tight_layout()\n",
    "plt.show()\n",
    "fig.savefig('compare_gd_sgd.pdf', format='pdf', dpi=1200)"
   ]
  },
  {
   "cell_type": "markdown",
   "metadata": {},
   "source": [
    "# 5. Prediction"
   ]
  },
  {
   "cell_type": "code",
   "execution_count": 14,
   "metadata": {},
   "outputs": [],
   "source": [
    "# Predict class label\n",
    "# Inputs:\n",
    "#     w: d-by-1 matrix\n",
    "#     X: m-by-d matrix\n",
    "# Return:\n",
    "#     f: m-by-1 matrix, the predictions\n",
    "def predict(w, X):\n",
    "    xw = numpy.dot(X, w)\n",
    "    f = numpy.sign(xw)\n",
    "    return f"
   ]
  },
  {
   "cell_type": "code",
   "execution_count": 15,
   "metadata": {},
   "outputs": [
    {
     "name": "stdout",
     "output_type": "stream",
     "text": [
      "Training classification error is 0.23125\n"
     ]
    }
   ],
   "source": [
    "# evaluate training error\n",
    "f_train = predict(w, x_train)\n",
    "diff = numpy.abs(f_train - y_train) / 2\n",
    "error_train = numpy.mean(diff)\n",
    "print('Training classification error is ' + str(error_train))"
   ]
  },
  {
   "cell_type": "code",
   "execution_count": 16,
   "metadata": {},
   "outputs": [
    {
     "name": "stdout",
     "output_type": "stream",
     "text": [
      "Test classification error is 0.171875\n"
     ]
    }
   ],
   "source": [
    "# evaluate test error\n",
    "f_test = predict(w, x_test)\n",
    "diff = numpy.abs(f_test - y_test) / 2\n",
    "error_test = numpy.mean(diff)\n",
    "print('Test classification error is ' + str(error_test))"
   ]
  },
  {
   "cell_type": "markdown",
   "metadata": {},
   "source": [
    "# 6. Mini-batch SGD (fill the code)\n",
    "\n"
   ]
  },
  {
   "cell_type": "markdown",
   "metadata": {},
   "source": [
    "?]## 6.1. Compute the objective $Q_I$ and its gradient using a batch of samples\n",
    "\n",
    "Define $Q_I (w) = \\frac{1}{b} \\sum_{i \\in I} \\log \\Big( 1 + \\exp \\big( - y_i x_i^T w \\big) \\Big) + \\frac{\\lambda}{2} \\| w \\|_2^2 $, where $I$ is a set containing $b$ indices randomly drawn from $\\{ 1, \\cdots , n \\}$ without replacement.\n",
    "\n",
    "The stochastic gradient at $w$ is $g_I = \\frac{\\partial Q_I }{ \\partial w} = \\frac{1}{b} \\sum_{i \\in I} \\frac{- y_i x_i }{1 + \\exp ( y_i x_i^T w)} + \\lambda w$."
   ]
  },
  {
   "cell_type": "code",
   "execution_count": 17,
   "metadata": {},
   "outputs": [],
   "source": [
    "# Calculate the objective Q_I and the gradient of Q_I\n",
    "# Inputs:\n",
    "#     w: d-by-1 matrix\n",
    "#     xi: b-by-d matrix\n",
    "#     yi: b-by-1 matrix\n",
    "#     lam: scalar, the regularization parameter\n",
    "#     b: integer, the batch size\n",
    "# Return:\n",
    "#     obj: scalar, the objective Q_i\n",
    "#     g: d-by-1 matrix, gradient of Q_i\n",
    "def mb_stochastic_objective_gradient(w, xi, yi, lam, b):\n",
    "    # Fill the function\n",
    "    # Follow the implementation of stochastic_objective_gradient\n",
    "    # Use matrix-vector multiplication; do not use FOR LOOP of vector-vector multiplications\n",
    "\n",
    "    yx_mat: numpy.ndarray = numpy.multiply(yi, xi) # b-by-d matrix\n",
    "\n",
    "    yx: numpy.ndarray = numpy.sum(yx_mat, axis=0) # 1-by-d matrix\n",
    "\n",
    "    yxw: numpy.ndarray = float(numpy.dot(yx, w)) # scalar\n",
    "\n",
    "    den: numpy.ndarray = float(1 + numpy.exp(yxw)) # scalar\n",
    "\n",
    "    subgradient: numpy.ndarray = -(1/b) * numpy.divide(yx, den) # 1-by-d\n",
    "    \n",
    "    reg: numpy.ndarray = numpy.multiply(lam, w) # d-by-1\n",
    "        \n",
    "    g = subgradient.reshape((d, 1)) + reg # d-by-1\n",
    "    \n",
    "    # calculate the objective\n",
    "    objective: float = float((1/b) * numpy.log(1 + numpy.exp(-yxw))) # scalar\n",
    "\n",
    "    regularization: float = float((lam/2) * numpy.sum(w*w)) # scalar\n",
    "\n",
    "    obj = objective + regularization\n",
    "    \n",
    "    return obj, g"
   ]
  },
  {
   "cell_type": "markdown",
   "metadata": {},
   "source": [
    "## 6.2. Implement mini-batch SGD\n",
    "\n",
    "Hints:\n",
    "1. In every epoch, randomly permute the $n$ samples (just like SGD).\n",
    "2. Each epoch has $\\frac{n}{b}$ iterations. In every iteration, use $b$ samples, and compute the gradient and objective using the ``mb_stochastic_objective_gradient`` function. In the next iteration, use the next $b$ samples, and so on.\n"
   ]
  },
  {
   "cell_type": "code",
   "execution_count": 18,
   "metadata": {},
   "outputs": [],
   "source": [
    "# Mini-Batch SGD for solving logistic regression\n",
    "# Inumpyuts:\n",
    "#     x: n-by-d matrix\n",
    "#     y: n-by-1 matrix\n",
    "#     lam: scalar, the regularization parameter\n",
    "#     b: integer, the batch size\n",
    "#     stepsize: scalar\n",
    "#     max_epoch: integer, the maximal epochs\n",
    "#     w: d-by-1 matrix, initialization of w\n",
    "# Return:\n",
    "#     w: the solution\n",
    "#     objvals: record of each iteration's objective value\n",
    "def mb_sgd(x, y, lam, b, stepsize, max_epoch=100, w=None):\n",
    "    # Fill the function\n",
    "    # Follow the implementation of sgd\n",
    "    # Record one objective value per epoch (not per iteration!)\n",
    "    n, d = x.shape\n",
    "    objvals: numpy.ndarray = numpy.zeros((max_epoch))\n",
    "    if n % b != 0:\n",
    "        raise ValueError(\"Dataset must be evenly divisible into batches. Invalid batch length\")\n",
    "        \n",
    "    if w is None:\n",
    "        w = numpy.zeros((d, 1)) # zero initialization\n",
    "    \n",
    "    num_batches: int = n // b\n",
    "    objval = 0 # accumulate the objective values\n",
    "    for e in range(max_epoch):\n",
    "        rand_indices: numpy.ndarray = numpy.random.permutation(n)\n",
    "        x_rand: numpy.ndarray = x[rand_indices, ...]\n",
    "        y_rand: numpy.ndarray = y[rand_indices, ...]\n",
    "        \n",
    "        x_batch: numpy.ndarray = numpy.split(x_rand, num_batches)\n",
    "        y_batch: numpy.ndarray = numpy.split(y_rand, num_batches)\n",
    "        objval = 0 # accumulate objective values\n",
    "        \n",
    "        for i in range(num_batches):\n",
    "            start: int = b*i\n",
    "            end: int = start + b\n",
    "            obj, g = mb_stochastic_objective_gradient(w, x_batch[i], y_batch[i], lam, b)\n",
    "            objval += obj\n",
    "            w -= stepsize*g\n",
    "        \n",
    "        stepsize *= 0.9 # decrease step size\n",
    "        objval /= num_batches\n",
    "        objvals[e] = objval\n",
    "        print(f'Objective value at epoch e={str(round(e)} is {str(objval)}')\n",
    "         \n",
    "        \n",
    "    \n",
    "    return w, objvals"
   ]
  },
  {
   "cell_type": "markdown",
   "metadata": {},
   "source": [
    "## 6.3. Run MB-SGD"
   ]
  },
  {
   "cell_type": "code",
   "execution_count": 19,
   "metadata": {},
   "outputs": [
    {
     "name": "stdout",
     "output_type": "stream",
     "text": [
      "Objective value at epoch e=0 is 0.02797387316983106\n",
      "Objective value at epoch e=1 is 0.009832821098825065\n",
      "Objective value at epoch e=2 is 0.012389079393552325\n",
      "Objective value at epoch e=3 is 0.010153984762009273\n",
      "Objective value at epoch e=4 is 0.02028678428108464\n",
      "Objective value at epoch e=5 is 0.007585036407945308\n",
      "Objective value at epoch e=6 is 0.01563975743190577\n",
      "Objective value at epoch e=7 is 0.007237130523756725\n",
      "Objective value at epoch e=8 is 0.00762880077989148\n",
      "Objective value at epoch e=9 is 0.008010671172495158\n",
      "Objective value at epoch e=10 is 0.0075429659280074005\n",
      "Objective value at epoch e=11 is 0.010414791013444143\n",
      "Objective value at epoch e=12 is 0.012714824411178527\n",
      "Objective value at epoch e=13 is 0.0058801539127544015\n",
      "Objective value at epoch e=14 is 0.011501807669699755\n",
      "Objective value at epoch e=15 is 0.0075716128083452554\n",
      "Objective value at epoch e=16 is 0.00664181760572911\n",
      "Objective value at epoch e=17 is 0.004785648019720032\n",
      "Objective value at epoch e=18 is 0.009256510042359079\n",
      "Objective value at epoch e=19 is 0.012322072911300021\n",
      "Objective value at epoch e=20 is 0.015533219684149575\n",
      "Objective value at epoch e=21 is 0.005578484523840876\n",
      "Objective value at epoch e=22 is 0.00470929885208585\n",
      "Objective value at epoch e=23 is 0.0079817621205347\n",
      "Objective value at epoch e=24 is 0.009599749980362112\n",
      "Objective value at epoch e=25 is 0.010664685707962107\n",
      "Objective value at epoch e=26 is 0.00813928239255043\n",
      "Objective value at epoch e=27 is 0.007505432408283391\n",
      "Objective value at epoch e=28 is 0.009358145999731894\n",
      "Objective value at epoch e=29 is 0.005176840344696869\n",
      "Objective value at epoch e=30 is 0.010826031280631507\n",
      "Objective value at epoch e=31 is 0.008307669278794996\n",
      "Objective value at epoch e=32 is 0.006539758139351074\n",
      "Objective value at epoch e=33 is 0.008071108521293044\n",
      "Objective value at epoch e=34 is 0.012457424817767971\n",
      "Objective value at epoch e=35 is 0.005460036863036641\n",
      "Objective value at epoch e=36 is 0.0038103241980057454\n",
      "Objective value at epoch e=37 is 0.00523015899002519\n",
      "Objective value at epoch e=38 is 0.010929473278974934\n",
      "Objective value at epoch e=39 is 0.005628351699057281\n",
      "Objective value at epoch e=40 is 0.006836467827923123\n",
      "Objective value at epoch e=41 is 0.0049516654282683965\n",
      "Objective value at epoch e=42 is 0.01103622318980597\n",
      "Objective value at epoch e=43 is 0.008747942076535377\n",
      "Objective value at epoch e=44 is 0.004991234008406792\n",
      "Objective value at epoch e=45 is 0.005728128963076977\n",
      "Objective value at epoch e=46 is 0.00758556320983116\n",
      "Objective value at epoch e=47 is 0.005468848157245279\n",
      "Objective value at epoch e=48 is 0.014445294685230505\n",
      "Objective value at epoch e=49 is 0.005534690546174822\n",
      "Objective value at epoch e=50 is 0.004245996121323056\n",
      "Objective value at epoch e=51 is 0.008843032573645269\n",
      "Objective value at epoch e=52 is 0.00410518776384502\n",
      "Objective value at epoch e=53 is 0.010510272675987944\n",
      "Objective value at epoch e=54 is 0.00504663643595107\n",
      "Objective value at epoch e=55 is 0.006730981290720636\n",
      "Objective value at epoch e=56 is 0.0056784943562090085\n",
      "Objective value at epoch e=57 is 0.008724494867275067\n",
      "Objective value at epoch e=58 is 0.011300986573286292\n",
      "Objective value at epoch e=59 is 0.00695314841205492\n",
      "Objective value at epoch e=60 is 0.005639417531560835\n",
      "Objective value at epoch e=61 is 0.006080217596989504\n",
      "Objective value at epoch e=62 is 0.00935668619636143\n",
      "Objective value at epoch e=63 is 0.0038796312934441905\n",
      "Objective value at epoch e=64 is 0.004985488983745628\n",
      "Objective value at epoch e=65 is 0.003936841417253046\n",
      "Objective value at epoch e=66 is 0.011854339189452652\n",
      "Objective value at epoch e=67 is 0.01247569655446183\n",
      "Objective value at epoch e=68 is 0.01078717422760041\n",
      "Objective value at epoch e=69 is 0.004926614171307371\n",
      "Objective value at epoch e=70 is 0.007072977618185143\n",
      "Objective value at epoch e=71 is 0.004880577406428898\n",
      "Objective value at epoch e=72 is 0.007327549373407115\n",
      "Objective value at epoch e=73 is 0.006896971432453958\n",
      "Objective value at epoch e=74 is 0.005567225336471472\n",
      "Objective value at epoch e=75 is 0.004469587957180469\n",
      "Objective value at epoch e=76 is 0.006685888544746693\n",
      "Objective value at epoch e=77 is 0.005050269891054752\n",
      "Objective value at epoch e=78 is 0.007728131392549145\n",
      "Objective value at epoch e=79 is 0.010121573723638675\n",
      "Objective value at epoch e=80 is 0.00599297715024477\n",
      "Objective value at epoch e=81 is 0.005716891475673785\n",
      "Objective value at epoch e=82 is 0.006519438125721509\n",
      "Objective value at epoch e=83 is 0.00627652940941649\n",
      "Objective value at epoch e=84 is 0.0061748445429013425\n",
      "Objective value at epoch e=85 is 0.007738946555418733\n",
      "Objective value at epoch e=86 is 0.007583421491475074\n",
      "Objective value at epoch e=87 is 0.005431665318223543\n",
      "Objective value at epoch e=88 is 0.009166023900456061\n",
      "Objective value at epoch e=89 is 0.006844732908211257\n",
      "Objective value at epoch e=90 is 0.011722753569245932\n",
      "Objective value at epoch e=91 is 0.004611871549174812\n",
      "Objective value at epoch e=92 is 0.004517187320544384\n",
      "Objective value at epoch e=93 is 0.004280867626828349\n",
      "Objective value at epoch e=94 is 0.00618948566604355\n",
      "Objective value at epoch e=95 is 0.00475135103228967\n",
      "Objective value at epoch e=96 is 0.006140110873440631\n",
      "Objective value at epoch e=97 is 0.00684476132484841\n",
      "Objective value at epoch e=98 is 0.009131416414709126\n",
      "Objective value at epoch e=99 is 0.004307145010342899\n"
     ]
    }
   ],
   "source": [
    "# MB-SGD with batch size b=8\n",
    "lam = 1E-6 # do not change\n",
    "b = 8 # do not change\n",
    "stepsize = 0.1 # you must tune this parameter\n",
    "\n",
    "w, objvals_mbsgd8 = mb_sgd(x_train, y_train, lam, b, stepsize)"
   ]
  },
  {
   "cell_type": "code",
   "execution_count": 20,
   "metadata": {},
   "outputs": [
    {
     "name": "stdout",
     "output_type": "stream",
     "text": [
      "Objective value at epoch e=0 is 0.0023740193744510693\n",
      "Objective value at epoch e=1 is 0.00042108712812205247\n",
      "Objective value at epoch e=2 is 0.00024498382446198343\n",
      "Objective value at epoch e=3 is 0.0002365268784980612\n",
      "Objective value at epoch e=4 is 0.00021099218316022967\n",
      "Objective value at epoch e=5 is 0.00014720674771015056\n",
      "Objective value at epoch e=6 is 0.00013553181514516324\n",
      "Objective value at epoch e=7 is 9.859939195553862e-05\n",
      "Objective value at epoch e=8 is 0.00011424882391719386\n",
      "Objective value at epoch e=9 is 0.00011213292945506897\n",
      "Objective value at epoch e=10 is 0.00011249779389779375\n",
      "Objective value at epoch e=11 is 9.499821849451037e-05\n",
      "Objective value at epoch e=12 is 6.56712330851901e-05\n",
      "Objective value at epoch e=13 is 6.871935429264682e-05\n",
      "Objective value at epoch e=14 is 0.0001321558072505566\n",
      "Objective value at epoch e=15 is 0.0001286802888051307\n",
      "Objective value at epoch e=16 is 7.024629561475512e-05\n",
      "Objective value at epoch e=17 is 7.900439852347752e-05\n",
      "Objective value at epoch e=18 is 0.0001076826694486274\n",
      "Objective value at epoch e=19 is 5.6490810933895e-05\n",
      "Objective value at epoch e=20 is 0.00010469928616401568\n",
      "Objective value at epoch e=21 is 7.15000688987299e-05\n",
      "Objective value at epoch e=22 is 5.8896669009195725e-05\n",
      "Objective value at epoch e=23 is 8.41878105428837e-05\n",
      "Objective value at epoch e=24 is 6.299813472486136e-05\n",
      "Objective value at epoch e=25 is 4.879378355435203e-05\n",
      "Objective value at epoch e=26 is 9.343950451881348e-05\n",
      "Objective value at epoch e=27 is 0.0001000966431992616\n",
      "Objective value at epoch e=28 is 5.9677851526641555e-05\n",
      "Objective value at epoch e=29 is 0.00018980633847554194\n",
      "Objective value at epoch e=30 is 0.00011421345975456672\n",
      "Objective value at epoch e=31 is 5.4205217270760106e-05\n",
      "Objective value at epoch e=32 is 6.375298434909405e-05\n",
      "Objective value at epoch e=33 is 5.590912444797809e-05\n",
      "Objective value at epoch e=34 is 5.293921227936909e-05\n",
      "Objective value at epoch e=35 is 5.430125545707498e-05\n",
      "Objective value at epoch e=36 is 6.182328233512047e-05\n",
      "Objective value at epoch e=37 is 0.00012264657475536024\n",
      "Objective value at epoch e=38 is 4.971822834953847e-05\n",
      "Objective value at epoch e=39 is 9.695540383914714e-05\n",
      "Objective value at epoch e=40 is 6.241862576856596e-05\n",
      "Objective value at epoch e=41 is 5.194716486679232e-05\n",
      "Objective value at epoch e=42 is 6.543162755604023e-05\n",
      "Objective value at epoch e=43 is 0.0001073787653217074\n",
      "Objective value at epoch e=44 is 4.4344372904163495e-05\n",
      "Objective value at epoch e=45 is 8.824220487465356e-05\n",
      "Objective value at epoch e=46 is 9.424978787815762e-05\n",
      "Objective value at epoch e=47 is 9.243165980080172e-05\n",
      "Objective value at epoch e=48 is 5.418739258344922e-05\n",
      "Objective value at epoch e=49 is 4.540643505565403e-05\n",
      "Objective value at epoch e=50 is 5.131364233294138e-05\n",
      "Objective value at epoch e=51 is 6.14292144399903e-05\n",
      "Objective value at epoch e=52 is 6.5423957573313e-05\n",
      "Objective value at epoch e=53 is 4.793128640950808e-05\n",
      "Objective value at epoch e=54 is 4.478050081171455e-05\n",
      "Objective value at epoch e=55 is 7.904106042610951e-05\n",
      "Objective value at epoch e=56 is 7.911397800470013e-05\n",
      "Objective value at epoch e=57 is 5.302491662403641e-05\n",
      "Objective value at epoch e=58 is 5.2746590890001384e-05\n",
      "Objective value at epoch e=59 is 0.00013104964849463755\n",
      "Objective value at epoch e=60 is 7.846342665812517e-05\n",
      "Objective value at epoch e=61 is 5.582339223270136e-05\n",
      "Objective value at epoch e=62 is 6.732737563033637e-05\n",
      "Objective value at epoch e=63 is 7.043426418403375e-05\n",
      "Objective value at epoch e=64 is 8.224279225086997e-05\n",
      "Objective value at epoch e=65 is 4.7806690914534585e-05\n",
      "Objective value at epoch e=66 is 7.369420397250852e-05\n",
      "Objective value at epoch e=67 is 8.144026097177152e-05\n",
      "Objective value at epoch e=68 is 9.418587738510144e-05\n",
      "Objective value at epoch e=69 is 8.19093592570196e-05\n",
      "Objective value at epoch e=70 is 5.9947038908119606e-05\n",
      "Objective value at epoch e=71 is 5.382334263481549e-05\n",
      "Objective value at epoch e=72 is 7.032843559495272e-05\n",
      "Objective value at epoch e=73 is 7.835180914026177e-05\n",
      "Objective value at epoch e=74 is 6.736257527984612e-05\n",
      "Objective value at epoch e=75 is 4.5937541719440665e-05\n",
      "Objective value at epoch e=76 is 5.741311710025129e-05\n",
      "Objective value at epoch e=77 is 7.60471628128177e-05\n",
      "Objective value at epoch e=78 is 5.5493802778761014e-05\n",
      "Objective value at epoch e=79 is 8.044010464421026e-05\n",
      "Objective value at epoch e=80 is 6.28973360397024e-05\n",
      "Objective value at epoch e=81 is 4.346585274732508e-05\n",
      "Objective value at epoch e=82 is 0.0001062597799597073\n",
      "Objective value at epoch e=83 is 0.0001064746319497237\n",
      "Objective value at epoch e=84 is 0.00011079741747882137\n",
      "Objective value at epoch e=85 is 4.5022398566483105e-05\n",
      "Objective value at epoch e=86 is 6.010612281177141e-05\n",
      "Objective value at epoch e=87 is 6.343207904366507e-05\n",
      "Objective value at epoch e=88 is 0.00012105822085476524\n",
      "Objective value at epoch e=89 is 5.8105099288329146e-05\n",
      "Objective value at epoch e=90 is 7.213383126202596e-05\n",
      "Objective value at epoch e=91 is 5.707552569788691e-05\n",
      "Objective value at epoch e=92 is 6.876963415413184e-05\n",
      "Objective value at epoch e=93 is 6.985171489582275e-05\n",
      "Objective value at epoch e=94 is 0.00017630506342316334\n",
      "Objective value at epoch e=95 is 5.7202942745112416e-05\n",
      "Objective value at epoch e=96 is 7.201337241094536e-05\n",
      "Objective value at epoch e=97 is 6.730308352942516e-05\n",
      "Objective value at epoch e=98 is 6.697465336723432e-05\n",
      "Objective value at epoch e=99 is 5.073147386062747e-05\n"
     ]
    }
   ],
   "source": [
    "# MB-SGD with batch size b=64\n",
    "lam = 1E-6 # do not change\n",
    "b = 64 # do not change\n",
    "stepsize = 0.1 # you must tune this parameter\n",
    "\n",
    "w, objvals_mbsgd64 = mb_sgd(x_train, y_train, lam, b, stepsize)"
   ]
  },
  {
   "cell_type": "markdown",
   "metadata": {},
   "source": [
    "# 7. Plot and compare GD, SGD, and MB-SGD"
   ]
  },
  {
   "cell_type": "markdown",
   "metadata": {},
   "source": [
    "You are required to compare the following algorithms:\n",
    "\n",
    "- Gradient descent (GD)\n",
    "\n",
    "- SGD\n",
    "\n",
    "- MB-SGD with b=8\n",
    "\n",
    "- MB-SGD with b=64\n",
    "\n",
    "Follow the code in Section 4 to plot ```objective function value``` against ```epochs```. There should be four curves in the plot; each curve corresponds to one algorithm."
   ]
  },
  {
   "cell_type": "markdown",
   "metadata": {},
   "source": [
    "Hint: Logistic regression with $\\ell_2$-norm regularization is a strongly convex optimization problem. All the algorithms will converge to the same solution. **In the end, the ``objective function value`` of the 4 algorithms will be the same. If not the same, your implementation must be wrong. Do NOT submit wrong code and wrong result!**"
   ]
  },
  {
   "cell_type": "code",
   "execution_count": 21,
   "metadata": {},
   "outputs": [],
   "source": [
    "# plot the 4 curves:"
   ]
  },
  {
   "cell_type": "code",
   "execution_count": 22,
   "metadata": {},
   "outputs": [
    {
     "name": "stderr",
     "output_type": "stream",
     "text": [
      "<ipython-input-22-e8438afdc3ae>:5: MatplotlibDeprecationWarning: Case-insensitive properties were deprecated in 3.3 and support will be removed two minor releases later\n",
      "  line0, = plt.plot(epochs_mbsgd8, objvals_mbsgd8, '--b', LineWidth=4)\n",
      "<ipython-input-22-e8438afdc3ae>:6: MatplotlibDeprecationWarning: Case-insensitive properties were deprecated in 3.3 and support will be removed two minor releases later\n",
      "  line1, = plt.plot(epochs_mbsgd64, objvals_mbsgd64, '--r', LineWidth=2)\n"
     ]
    },
    {
     "data": {
      "image/png": "[encoded data removed]",
      "text/plain": [
       "<Figure size 432x288 with 1 Axes>"
      ]
     },
     "metadata": {
      "needs_background": "light"
     },
     "output_type": "display_data"
    }
   ],
   "source": [
    "fig = plt.figure(figsize=(6, 4))\n",
    "epochs_mbsgd8 = range(len(objvals_mbsgd8))\n",
    "epochs_mbsgd64 = range(len(objvals_mbsgd64))\n",
    "\n",
    "line0, = plt.plot(epochs_mbsgd8, objvals_mbsgd8, '--b', LineWidth=4)\n",
    "line1, = plt.plot(epochs_mbsgd64, objvals_mbsgd64, '--r', LineWidth=2)\n",
    "plt.show()\n",
    "\n"
   ]
  }
 ],
 "metadata": {
  "kernelspec": {
   "display_name": "Python 3",
   "language": "python",
   "name": "python3"
  },
  "language_info": {
   "codemirror_mode": {
    "name": "ipython",
    "version": 3
   },
   "file_extension": ".py",
   "mimetype": "text/x-python",
   "name": "python",
   "nbconvert_exporter": "python",
   "pygments_lexer": "ipython3",
   "version": "3.8.8"
  }
 },
 "nbformat": 4,
 "nbformat_minor": 4
}
