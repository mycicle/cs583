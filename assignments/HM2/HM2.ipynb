{
 "cells": [
  {
   "cell_type": "markdown",
   "metadata": {},
   "source": [
    "# HM2: Numerical Optimization for Logistic Regression.\n",
    "\n",
    "### Name: Michael DiGregorio\n"
   ]
  },
  {
   "cell_type": "markdown",
   "metadata": {},
   "source": [
    "## 0. You will do the following:\n",
    "\n",
    "1. Read the lecture note: [click here](https://github.com/wangshusen/DeepLearning/blob/master/LectureNotes/Logistic/paper/logistic.pdf)\n",
    "\n",
    "2. Read, complete, and run my code.\n",
    "\n",
    "3. **Implement mini-batch SGD** and evaluate the performance.\n",
    "\n",
    "4. Convert the .IPYNB file to .HTML file.\n",
    "\n",
    "    * The HTML file must contain **the code** and **the output after execution**.\n",
    "    \n",
    "    * Missing **the output after execution** will not be graded.\n",
    "    \n",
    "5. Upload this .HTML file to your Google Drive, Dropbox, or your Github repo.  (If you submit the file to Google Drive or Dropbox, you must make the file \"open-access\". The delay caused by \"deny of access\" may result in late penalty.)\n",
    "\n",
    "6. Submit the link to this .HTML file to Canvas.\n",
    "\n",
    "    * Example: https://github.com/wangshusen/CS583-2020S/blob/master/homework/HM2/HM2.html\n",
    "\n",
    "\n",
    "## Grading criteria:\n",
    "\n",
    "1. When computing the ```gradient``` and ```objective function value``` using a batch of samples, use **matrix-vector multiplication** rather than a FOR LOOP of **vector-vector multiplications**.\n",
    "\n",
    "2. Plot ```objective function value``` against ```epochs```. In the plot, compare GD, SGD, and MB-SGD (with $b=8$ and $b=64$). The plot must look reasonable."
   ]
  },
  {
   "cell_type": "code",
   "execution_count": null,
   "metadata": {},
   "outputs": [],
   "source": []
  },
  {
   "cell_type": "markdown",
   "metadata": {},
   "source": [
    "# 1. Data processing\n",
    "\n",
    "- Download the Diabete dataset from https://www.csie.ntu.edu.tw/~cjlin/libsvmtools/datasets/binary/diabetes\n",
    "- Load the data using sklearn.\n",
    "- Preprocess the data."
   ]
  },
  {
   "cell_type": "markdown",
   "metadata": {},
   "source": [
    "## 1.1. Load the data"
   ]
  },
  {
   "cell_type": "code",
   "execution_count": 2,
   "metadata": {},
   "outputs": [
    {
     "name": "stdout",
     "output_type": "stream",
     "text": [
      "Shape of x: (768, 8)\n",
      "Shape of y: (768,)\n"
     ]
    }
   ],
   "source": [
    "from sklearn import datasets\n",
    "import numpy\n",
    "\n",
    "x_sparse, y = datasets.load_svmlight_file('diabetes')\n",
    "x = x_sparse.todense()\n",
    "\n",
    "print('Shape of x: ' + str(x.shape))\n",
    "print('Shape of y: ' + str(y.shape))"
   ]
  },
  {
   "cell_type": "markdown",
   "metadata": {},
   "source": [
    "## 1.2. Partition to training and test sets"
   ]
  },
  {
   "cell_type": "code",
   "execution_count": 3,
   "metadata": {},
   "outputs": [
    {
     "name": "stdout",
     "output_type": "stream",
     "text": [
      "Shape of x_train: (640, 8)\n",
      "Shape of x_test: (128, 8)\n",
      "Shape of y_train: (640, 1)\n",
      "Shape of y_test: (128, 1)\n"
     ]
    }
   ],
   "source": [
    "# partition the data to training and test sets\n",
    "n = x.shape[0]\n",
    "n_train = 640\n",
    "n_test = n - n_train\n",
    "\n",
    "rand_indices = numpy.random.permutation(n)\n",
    "train_indices = rand_indices[0:n_train]\n",
    "test_indices = rand_indices[n_train:n]\n",
    "\n",
    "x_train = x[train_indices, :]\n",
    "x_test = x[test_indices, :]\n",
    "y_train = y[train_indices].reshape(n_train, 1)\n",
    "y_test = y[test_indices].reshape(n_test, 1)\n",
    "\n",
    "print('Shape of x_train: ' + str(x_train.shape))\n",
    "print('Shape of x_test: ' + str(x_test.shape))\n",
    "print('Shape of y_train: ' + str(y_train.shape))\n",
    "print('Shape of y_test: ' + str(y_test.shape))"
   ]
  },
  {
   "cell_type": "markdown",
   "metadata": {},
   "source": [
    "## 1.3. Feature scaling"
   ]
  },
  {
   "cell_type": "markdown",
   "metadata": {},
   "source": [
    "Use the standardization to trainsform both training and test features"
   ]
  },
  {
   "cell_type": "code",
   "execution_count": 4,
   "metadata": {},
   "outputs": [
    {
     "name": "stdout",
     "output_type": "stream",
     "text": [
      "test mean = \n",
      "[[-0.19190758 -0.12269459 -0.09711901 -0.05375944  0.01065632 -0.15573104\n",
      "   0.02467951 -0.18068711]]\n",
      "test std = \n",
      "[[0.87167522 0.80535323 0.86775558 1.04745464 1.05616325 0.98664325\n",
      "  0.94255181 0.95044027]]\n"
     ]
    }
   ],
   "source": [
    "# Standardization\n",
    "import numpy\n",
    "\n",
    "# calculate mu and sig using the training set\n",
    "d = x_train.shape[1]\n",
    "mu = numpy.mean(x_train, axis=0).reshape(1, d)\n",
    "sig = numpy.std(x_train, axis=0).reshape(1, d)\n",
    "\n",
    "# transform the training features\n",
    "x_train = (x_train - mu) / (sig + 1E-6)\n",
    "\n",
    "# transform the test features\n",
    "x_test = (x_test - mu) / (sig + 1E-6)\n",
    "\n",
    "print('test mean = ')\n",
    "print(numpy.mean(x_test, axis=0))\n",
    "\n",
    "print('test std = ')\n",
    "print(numpy.std(x_test, axis=0))"
   ]
  },
  {
   "cell_type": "markdown",
   "metadata": {},
   "source": [
    "## 1.4. Add a dimension of all ones"
   ]
  },
  {
   "cell_type": "code",
   "execution_count": 5,
   "metadata": {},
   "outputs": [
    {
     "name": "stdout",
     "output_type": "stream",
     "text": [
      "Shape of x_train: (640, 9)\n",
      "Shape of x_test: (128, 9)\n"
     ]
    }
   ],
   "source": [
    "n_train, d = x_train.shape\n",
    "x_train = numpy.concatenate((x_train, numpy.ones((n_train, 1))), axis=1)\n",
    "\n",
    "n_test, d = x_test.shape\n",
    "x_test = numpy.concatenate((x_test, numpy.ones((n_test, 1))), axis=1)\n",
    "\n",
    "print('Shape of x_train: ' + str(x_train.shape))\n",
    "print('Shape of x_test: ' + str(x_test.shape))"
   ]
  },
  {
   "cell_type": "markdown",
   "metadata": {},
   "source": [
    "# 2. Logistic regression model\n",
    "\n",
    "The objective function is $Q (w; X, y) = \\frac{1}{n} \\sum_{i=1}^n \\log \\Big( 1 + \\exp \\big( - y_i x_i^T w \\big) \\Big) + \\frac{\\lambda}{2} \\| w \\|_2^2 $."
   ]
  },
  {
   "cell_type": "code",
   "execution_count": 7,
   "metadata": {},
   "outputs": [],
   "source": [
    "# Calculate the objective function value\n",
    "# Inputs:\n",
    "#     w: d-by-1 matrix\n",
    "#     x: n-by-d matrix\n",
    "#     y: n-by-1 matrix\n",
    "#     lam: scalar, the regularization parameter\n",
    "# Return:\n",
    "#     objective function value (scalar)\n",
    "def objective(w, x, y, lam):\n",
    "    n, d = x.shape\n",
    "    yx = numpy.multiply(y, x) # n-by-d matrix\n",
    "    yxw = numpy.dot(yx, w) # n-by-1 matrix\n",
    "    vec1 = numpy.exp(-yxw) # n-by-1 matrix\n",
    "    vec2 = numpy.log(1 + vec1) # n-by-1 matrix\n",
    "    loss = numpy.mean(vec2) # scalar\n",
    "    reg = lam / 2 * numpy.sum(w * w) # scalar\n",
    "    return loss + reg\n",
    "    "
   ]
  },
  {
   "cell_type": "code",
   "execution_count": 8,
   "metadata": {},
   "outputs": [
    {
     "name": "stdout",
     "output_type": "stream",
     "text": [
      "Initial objective function value = 0.6931471805599453\n"
     ]
    }
   ],
   "source": [
    "# initialize w\n",
    "d = x_train.shape[1]\n",
    "w = numpy.zeros((d, 1))\n",
    "\n",
    "# evaluate the objective function value at w\n",
    "lam = 1E-6\n",
    "objval0 = objective(w, x_train, y_train, lam)\n",
    "print('Initial objective function value = ' + str(objval0))"
   ]
  },
  {
   "cell_type": "markdown",
   "metadata": {},
   "source": [
    "# 3. Numerical optimization"
   ]
  },
  {
   "cell_type": "markdown",
   "metadata": {},
   "source": [
    "## 3.1. Gradient descent\n"
   ]
  },
  {
   "cell_type": "markdown",
   "metadata": {},
   "source": [
    "The gradient at $w$ is $g = - \\frac{1}{n} \\sum_{i=1}^n \\frac{y_i x_i }{1 + \\exp ( y_i x_i^T w)} + \\lambda w$"
   ]
  },
  {
   "cell_type": "code",
   "execution_count": 9,
   "metadata": {},
   "outputs": [],
   "source": [
    "# Calculate the gradient\n",
    "# Inputs:\n",
    "#     w: d-by-1 matrix\n",
    "#     x: n-by-d matrix\n",
    "#     y: n-by-1 matrix\n",
    "#     lam: scalar, the regularization parameter\n",
    "# Return:\n",
    "#     g: g: d-by-1 matrix, full gradient\n",
    "def gradient(w, x, y, lam):\n",
    "    n, d = x.shape\n",
    "    yx = numpy.multiply(y, x) # n-by-d matrix\n",
    "    yxw = numpy.dot(yx, w) # n-by-1 matrix\n",
    "    vec1 = numpy.exp(yxw) # n-by-1 matrix\n",
    "    vec2 = numpy.divide(yx, 1+vec1) # n-by-d matrix\n",
    "    vec3 = -numpy.mean(vec2, axis=0).reshape(d, 1) # d-by-1 matrix\n",
    "    g = vec3 + lam * w\n",
    "    return g"
   ]
  },
  {
   "cell_type": "code",
   "execution_count": 10,
   "metadata": {},
   "outputs": [],
   "source": [
    "# Gradient descent for solving logistic regression\n",
    "# Inputs:\n",
    "#     x: n-by-d matrix\n",
    "#     y: n-by-1 matrix\n",
    "#     lam: scalar, the regularization parameter\n",
    "#     stepsize: scalar\n",
    "#     max_iter: integer, the maximal iterations\n",
    "#     w: d-by-1 matrix, initialization of w\n",
    "# Return:\n",
    "#     w: d-by-1 matrix, the solution\n",
    "#     objvals: a record of each iteration's objective value\n",
    "def grad_descent(x, y, lam, stepsize, max_iter=100, w=None):\n",
    "    n, d = x.shape\n",
    "    objvals = numpy.zeros(max_iter) # store the objective values\n",
    "    if w is None:\n",
    "        w = numpy.zeros((d, 1)) # zero initialization\n",
    "    \n",
    "    for t in range(max_iter):\n",
    "        objval = objective(w, x, y, lam)\n",
    "        objvals[t] = objval\n",
    "        print('Objective value at t=' + str(t) + ' is ' + str(objval))\n",
    "        g = gradient(w, x, y, lam)\n",
    "        w -= stepsize * g\n",
    "    \n",
    "    return w, objvals"
   ]
  },
  {
   "cell_type": "markdown",
   "metadata": {},
   "source": [
    "Run gradient descent."
   ]
  },
  {
   "cell_type": "code",
   "execution_count": 11,
   "metadata": {},
   "outputs": [
    {
     "name": "stdout",
     "output_type": "stream",
     "text": [
      "Objective value at t=0 is 0.6931471805599453\n",
      "Objective value at t=1 is 0.593757830624754\n",
      "Objective value at t=2 is 0.5521662400404361\n",
      "Objective value at t=3 is 0.5296888095322997\n",
      "Objective value at t=4 is 0.5156726448005342\n",
      "Objective value at t=5 is 0.5062093586919761\n",
      "Objective value at t=6 is 0.49950119533105863\n",
      "Objective value at t=7 is 0.4945879496410943\n",
      "Objective value at t=8 is 0.4909030090804414\n",
      "Objective value at t=9 is 0.48808844743189117\n",
      "Objective value at t=10 is 0.48590699168570245\n",
      "Objective value at t=11 is 0.48419564102806956\n",
      "Objective value at t=12 is 0.482839288608493\n",
      "Objective value at t=13 is 0.4817548267460104\n",
      "Objective value at t=14 is 0.48088113577642205\n",
      "Objective value at t=15 is 0.4801725561606777\n",
      "Objective value at t=16 is 0.47959451118827273\n",
      "Objective value at t=17 is 0.479120502814294\n",
      "Objective value at t=18 is 0.47873000866745047\n",
      "Objective value at t=19 is 0.47840698430234496\n",
      "Objective value at t=20 is 0.4781387801007629\n",
      "Objective value at t=21 is 0.4779153472422654\n",
      "Objective value at t=22 is 0.4777286483549482\n",
      "Objective value at t=23 is 0.47757221514164977\n",
      "Objective value at t=24 is 0.4774408129029529\n",
      "Objective value at t=25 is 0.477330183723393\n",
      "Objective value at t=26 is 0.4772368481719286\n",
      "Objective value at t=27 is 0.47715795096435176\n",
      "Objective value at t=28 is 0.47709113996031904\n",
      "Objective value at t=29 is 0.477034470653703\n",
      "Objective value at t=30 is 0.4769863303148214\n",
      "Objective value at t=31 is 0.47694537739372944\n",
      "Objective value at t=32 is 0.4769104928563945\n",
      "Objective value at t=33 is 0.47688074091116134\n",
      "Objective value at t=34 is 0.476855337168769\n",
      "Objective value at t=35 is 0.47683362271962454\n",
      "Objective value at t=36 is 0.47681504294574606\n",
      "Objective value at t=37 is 0.47679913013943737\n",
      "Objective value at t=38 is 0.4767854891964253\n",
      "Objective value at t=39 is 0.4767737858025052\n",
      "Objective value at t=40 is 0.47676373665046845\n",
      "Objective value at t=41 is 0.47675510131621895\n",
      "Objective value at t=42 is 0.47674767549546554\n",
      "Objective value at t=43 is 0.4767412853597106\n",
      "Objective value at t=44 is 0.4767357828358088\n",
      "Objective value at t=45 is 0.47673104164974117\n",
      "Objective value at t=46 is 0.4767269540044132\n",
      "Objective value at t=47 is 0.47672342778476806\n",
      "Objective value at t=48 is 0.47672038420247853\n",
      "Objective value at t=49 is 0.4767177558078818\n",
      "Objective value at t=50 is 0.4767154848093471\n",
      "Objective value at t=51 is 0.4767135216505081\n",
      "Objective value at t=52 is 0.4767118238041692\n",
      "Objective value at t=53 is 0.47671035474858925\n",
      "Objective value at t=54 is 0.4767090830975179\n",
      "Objective value at t=55 is 0.47670798186005403\n",
      "Objective value at t=56 is 0.47670702781026986\n",
      "Objective value at t=57 is 0.4767062009497755\n",
      "Objective value at t=58 is 0.47670548404907515\n",
      "Objective value at t=59 is 0.47670486225579967\n",
      "Objective value at t=60 is 0.4767043227597711\n",
      "Objective value at t=61 is 0.476703854506413\n",
      "Objective value at t=62 is 0.4767034479513325\n",
      "Objective value at t=63 is 0.4767030948499959\n",
      "Objective value at t=64 is 0.4767027880773499\n",
      "Objective value at t=65 is 0.4767025214730145\n",
      "Objective value at t=66 is 0.47670228970833256\n",
      "Objective value at t=67 is 0.4767020881721171\n",
      "Objective value at t=68 is 0.47670191287240476\n",
      "Objective value at t=69 is 0.47670176035192163\n",
      "Objective value at t=70 is 0.4767016276153091\n",
      "Objective value at t=71 is 0.47670151206643313\n",
      "Objective value at t=72 is 0.47670141145435607\n",
      "Objective value at t=73 is 0.47670132382674735\n",
      "Objective value at t=74 is 0.47670124748968773\n",
      "Objective value at t=75 is 0.4767011809729762\n",
      "Objective value at t=76 is 0.4767011230001683\n",
      "Objective value at t=77 is 0.47670107246269156\n",
      "Objective value at t=78 is 0.4767010283974718\n",
      "Objective value at t=79 is 0.47670098996758714\n",
      "Objective value at t=80 is 0.47670095644553173\n",
      "Objective value at t=81 is 0.476700927198732\n",
      "Objective value at t=82 is 0.47670090167700757\n",
      "Objective value at t=83 is 0.47670087940171096\n",
      "Objective value at t=84 is 0.47670085995631784\n",
      "Objective value at t=85 is 0.47670084297827225\n",
      "Objective value at t=86 is 0.47670082815191545\n",
      "Objective value at t=87 is 0.4767008152023533\n",
      "Objective value at t=88 is 0.4767008038901354\n",
      "Objective value at t=89 is 0.47670079400663723\n",
      "Objective value at t=90 is 0.4767007853700506\n",
      "Objective value at t=91 is 0.4767007778219029\n",
      "Objective value at t=92 is 0.476700771224032\n",
      "Objective value at t=93 is 0.47670076545595813\n",
      "Objective value at t=94 is 0.4767007604125997\n",
      "Objective value at t=95 is 0.4767007560022871\n",
      "Objective value at t=96 is 0.4767007521450359\n",
      "Objective value at t=97 is 0.4767007487710434\n",
      "Objective value at t=98 is 0.47670074581938227\n",
      "Objective value at t=99 is 0.4767007432368619\n"
     ]
    }
   ],
   "source": [
    "lam = 1E-6\n",
    "stepsize = 1.0\n",
    "w, objvals_gd = grad_descent(x_train, y_train, lam, stepsize)"
   ]
  },
  {
   "cell_type": "markdown",
   "metadata": {},
   "source": [
    "## 3.2. Stochastic gradient descent (SGD)\n",
    "\n",
    "Define $Q_i (w) = \\log \\Big( 1 + \\exp \\big( - y_i x_i^T w \\big) \\Big) + \\frac{\\lambda}{2} \\| w \\|_2^2 $.\n",
    "\n",
    "The stochastic gradient at $w$ is $g_i = \\frac{\\partial Q_i }{ \\partial w} = -\\frac{y_i x_i }{1 + \\exp ( y_i x_i^T w)} + \\lambda w$."
   ]
  },
  {
   "cell_type": "code",
   "execution_count": 12,
   "metadata": {},
   "outputs": [],
   "source": [
    "# Calculate the objective Q_i and the gradient of Q_i\n",
    "# Inputs:\n",
    "#     w: d-by-1 matrix\n",
    "#     xi: 1-by-d matrix\n",
    "#     yi: scalar\n",
    "#     lam: scalar, the regularization parameter\n",
    "# Return:\n",
    "#     obj: scalar, the objective Q_i\n",
    "#     g: d-by-1 matrix, gradient of Q_i\n",
    "def stochastic_objective_gradient(w, xi, yi, lam):\n",
    "    d = xi.shape[0]\n",
    "    yx = yi * xi # 1-by-d matrix\n",
    "    yxw = float(numpy.dot(yx, w)) # scalar\n",
    "    \n",
    "    # calculate objective function Q_i\n",
    "    loss = numpy.log(1 + numpy.exp(-yxw)) # scalar\n",
    "    reg = lam / 2 * numpy.sum(w * w) # scalar\n",
    "    obj = loss + reg\n",
    "    \n",
    "    # calculate stochastic gradient\n",
    "    g_loss = -yx.T / (1 + numpy.exp(yxw)) # d-by-1 matrix\n",
    "    g = g_loss + lam * w # d-by-1 matrix\n",
    "    \n",
    "    return obj, g"
   ]
  },
  {
   "cell_type": "code",
   "execution_count": 13,
   "metadata": {},
   "outputs": [],
   "source": [
    "# SGD for solving logistic regression\n",
    "# Inputs:\n",
    "#     x: n-by-d matrix\n",
    "#     y: n-by-1 matrix\n",
    "#     lam: scalar, the regularization parameter\n",
    "#     stepsize: scalar\n",
    "#     max_epoch: integer, the maximal epochs\n",
    "#     w: d-by-1 matrix, initialization of w\n",
    "# Return:\n",
    "#     w: the solution\n",
    "#     objvals: record of each iteration's objective value\n",
    "def sgd(x, y, lam, stepsize, max_epoch=100, w=None):\n",
    "    n, d = x.shape\n",
    "    objvals = numpy.zeros(max_epoch) # store the objective values\n",
    "    if w is None:\n",
    "        w = numpy.zeros((d, 1)) # zero initialization\n",
    "    \n",
    "    for t in range(max_epoch):\n",
    "        # randomly shuffle the samples\n",
    "        rand_indices = numpy.random.permutation(n)\n",
    "        x_rand = x[rand_indices, :]\n",
    "        y_rand = y[rand_indices, :]\n",
    "        \n",
    "        objval = 0 # accumulate the objective values\n",
    "        for i in range(n):\n",
    "            xi = x_rand[i, :] # 1-by-d matrix\n",
    "            yi = float(y_rand[i, :]) # scalar\n",
    "            obj, g = stochastic_objective_gradient(w, xi, yi, lam)\n",
    "            objval += obj\n",
    "            w -= stepsize * g\n",
    "        \n",
    "        stepsize *= 0.9 # decrease step size\n",
    "        objval /= n\n",
    "        objvals[t] = objval\n",
    "        print('Objective value at epoch t=' + str(t) + ' is ' + str(objval))\n",
    "    \n",
    "    return w, objvals"
   ]
  },
  {
   "cell_type": "markdown",
   "metadata": {},
   "source": [
    "Run SGD."
   ]
  },
  {
   "cell_type": "code",
   "execution_count": 14,
   "metadata": {},
   "outputs": [
    {
     "name": "stdout",
     "output_type": "stream",
     "text": [
      "Objective value at epoch t=0 is 0.5422296238268267\n",
      "Objective value at epoch t=1 is 0.5247950634997955\n",
      "Objective value at epoch t=2 is 0.5214661525233136\n",
      "Objective value at epoch t=3 is 0.5171922122799838\n",
      "Objective value at epoch t=4 is 0.5008567364468863\n",
      "Objective value at epoch t=5 is 0.5037462900855167\n",
      "Objective value at epoch t=6 is 0.5117011807746253\n",
      "Objective value at epoch t=7 is 0.5056068182786715\n",
      "Objective value at epoch t=8 is 0.503574671623053\n",
      "Objective value at epoch t=9 is 0.5003341288812156\n",
      "Objective value at epoch t=10 is 0.4975963245364247\n",
      "Objective value at epoch t=11 is 0.4920881179205713\n",
      "Objective value at epoch t=12 is 0.49463318919029203\n",
      "Objective value at epoch t=13 is 0.4885611216997165\n",
      "Objective value at epoch t=14 is 0.49281198779450464\n",
      "Objective value at epoch t=15 is 0.4876278219225548\n",
      "Objective value at epoch t=16 is 0.48837504927419406\n",
      "Objective value at epoch t=17 is 0.48753618264850784\n",
      "Objective value at epoch t=18 is 0.48593923017802415\n",
      "Objective value at epoch t=19 is 0.48537878016353214\n",
      "Objective value at epoch t=20 is 0.4855940271660441\n",
      "Objective value at epoch t=21 is 0.48366205659127026\n",
      "Objective value at epoch t=22 is 0.48388286068197556\n",
      "Objective value at epoch t=23 is 0.4827222045193132\n",
      "Objective value at epoch t=24 is 0.4822383824968356\n",
      "Objective value at epoch t=25 is 0.48172960099785705\n",
      "Objective value at epoch t=26 is 0.48154483350505073\n",
      "Objective value at epoch t=27 is 0.48075667480490536\n",
      "Objective value at epoch t=28 is 0.4804852767695332\n",
      "Objective value at epoch t=29 is 0.48015011797201057\n",
      "Objective value at epoch t=30 is 0.4795997982843162\n",
      "Objective value at epoch t=31 is 0.4795348498448777\n",
      "Objective value at epoch t=32 is 0.4791204280405551\n",
      "Objective value at epoch t=33 is 0.4789646560295585\n",
      "Objective value at epoch t=34 is 0.47873398079056234\n",
      "Objective value at epoch t=35 is 0.4785702416998717\n",
      "Objective value at epoch t=36 is 0.47834290303309024\n",
      "Objective value at epoch t=37 is 0.47821028893800915\n",
      "Objective value at epoch t=38 is 0.4780741238589206\n",
      "Objective value at epoch t=39 is 0.47791990934264594\n",
      "Objective value at epoch t=40 is 0.47781738984124067\n",
      "Objective value at epoch t=41 is 0.4777133503861357\n",
      "Objective value at epoch t=42 is 0.4776050502755681\n",
      "Objective value at epoch t=43 is 0.47752203630960033\n",
      "Objective value at epoch t=44 is 0.4774279887684504\n",
      "Objective value at epoch t=45 is 0.47736358372489285\n",
      "Objective value at epoch t=46 is 0.47729239600379714\n",
      "Objective value at epoch t=47 is 0.47724109033942186\n",
      "Objective value at epoch t=48 is 0.4771780485573201\n",
      "Objective value at epoch t=49 is 0.4771396126404045\n",
      "Objective value at epoch t=50 is 0.4770954649141167\n",
      "Objective value at epoch t=51 is 0.4770572384222871\n",
      "Objective value at epoch t=52 is 0.47702112090632565\n",
      "Objective value at epoch t=53 is 0.47698858751472495\n",
      "Objective value at epoch t=54 is 0.476960675473765\n",
      "Objective value at epoch t=55 is 0.4769349916037628\n",
      "Objective value at epoch t=56 is 0.47691154891124843\n",
      "Objective value at epoch t=57 is 0.47689019078761763\n",
      "Objective value at epoch t=58 is 0.4768718294367072\n",
      "Objective value at epoch t=59 is 0.4768547683953147\n",
      "Objective value at epoch t=60 is 0.4768395187033209\n",
      "Objective value at epoch t=61 is 0.47682557501878564\n",
      "Objective value at epoch t=62 is 0.4768131740713323\n",
      "Objective value at epoch t=63 is 0.4768020279651779\n",
      "Objective value at epoch t=64 is 0.47679195348094405\n",
      "Objective value at epoch t=65 is 0.476782837289496\n",
      "Objective value at epoch t=66 is 0.47677458814586693\n",
      "Objective value at epoch t=67 is 0.4767673802836446\n",
      "Objective value at epoch t=68 is 0.47676062431348465\n",
      "Objective value at epoch t=69 is 0.47675475701958653\n",
      "Objective value at epoch t=70 is 0.4767494675632638\n",
      "Objective value at epoch t=71 is 0.47674462872651074\n",
      "Objective value at epoch t=72 is 0.47674029577711013\n",
      "Objective value at epoch t=73 is 0.47673638757463455\n",
      "Objective value at epoch t=74 is 0.47673286068106097\n",
      "Objective value at epoch t=75 is 0.47672969087037903\n",
      "Objective value at epoch t=76 is 0.4767268136732848\n",
      "Objective value at epoch t=77 is 0.4767242865278384\n",
      "Objective value at epoch t=78 is 0.4767219787282916\n",
      "Objective value at epoch t=79 is 0.4767198971990495\n",
      "Objective value at epoch t=80 is 0.4767180262101037\n",
      "Objective value at epoch t=81 is 0.47671634414695374\n",
      "Objective value at epoch t=82 is 0.4767148284875626\n",
      "Objective value at epoch t=83 is 0.4767134615160974\n",
      "Objective value at epoch t=84 is 0.47671223455766254\n",
      "Objective value at epoch t=85 is 0.4767111292686166\n",
      "Objective value at epoch t=86 is 0.47671013637567405\n",
      "Objective value at epoch t=87 is 0.4767092429324166\n",
      "Objective value at epoch t=88 is 0.4767084373074054\n",
      "Objective value at epoch t=89 is 0.4767077122187633\n",
      "Objective value at epoch t=90 is 0.47670705991170975\n",
      "Objective value at epoch t=91 is 0.4767064719035769\n",
      "Objective value at epoch t=92 is 0.4767059440759846\n",
      "Objective value at epoch t=93 is 0.4767054682213308\n",
      "Objective value at epoch t=94 is 0.4767050401293713\n",
      "Objective value at epoch t=95 is 0.47670465489049396\n",
      "Objective value at epoch t=96 is 0.4767043081196188\n",
      "Objective value at epoch t=97 is 0.476703995965513\n",
      "Objective value at epoch t=98 is 0.4767037152144157\n",
      "Objective value at epoch t=99 is 0.47670346231313826\n"
     ]
    }
   ],
   "source": [
    "lam = 1E-6\n",
    "stepsize = 0.1\n",
    "w, objvals_sgd = sgd(x_train, y_train, lam, stepsize)"
   ]
  },
  {
   "cell_type": "markdown",
   "metadata": {},
   "source": [
    "# 4. Compare GD with SGD\n",
    "\n",
    "Plot objective function values against epochs."
   ]
  },
  {
   "cell_type": "code",
   "execution_count": 16,
   "metadata": {},
   "outputs": [
    {
     "name": "stderr",
     "output_type": "stream",
     "text": [
      "<ipython-input-16-9b8d8f4cdfb5>:9: MatplotlibDeprecationWarning: Case-insensitive properties were deprecated in 3.3 and support will be removed two minor releases later\n",
      "  line0, = plt.plot(epochs_gd, objvals_gd, '--b', LineWidth=4)\n",
      "<ipython-input-16-9b8d8f4cdfb5>:10: MatplotlibDeprecationWarning: Case-insensitive properties were deprecated in 3.3 and support will be removed two minor releases later\n",
      "  line1, = plt.plot(epochs_sgd, objvals_sgd, '-r', LineWidth=2)\n",
      "<ipython-input-16-9b8d8f4cdfb5>:11: MatplotlibDeprecationWarning: Case-insensitive properties were deprecated in 3.3 and support will be removed two minor releases later\n",
      "  plt.xlabel('Epochs', FontSize=20)\n",
      "<ipython-input-16-9b8d8f4cdfb5>:12: MatplotlibDeprecationWarning: Case-insensitive properties were deprecated in 3.3 and support will be removed two minor releases later\n",
      "  plt.ylabel('Objective Value', FontSize=20)\n",
      "<ipython-input-16-9b8d8f4cdfb5>:13: MatplotlibDeprecationWarning: Case-insensitive properties were deprecated in 3.3 and support will be removed two minor releases later\n",
      "  plt.xticks(FontSize=16)\n",
      "<ipython-input-16-9b8d8f4cdfb5>:14: MatplotlibDeprecationWarning: Case-insensitive properties were deprecated in 3.3 and support will be removed two minor releases later\n",
      "  plt.yticks(FontSize=16)\n"
     ]
    },
    {
     "data": {
      "image/png": "[encoded data removed]",
      "text/plain": [
       "<Figure size 432x288 with 1 Axes>"
      ]
     },
     "metadata": {
      "needs_background": "light"
     },
     "output_type": "display_data"
    }
   ],
   "source": [
    "import matplotlib.pyplot as plt\n",
    "%matplotlib inline\n",
    "\n",
    "fig = plt.figure(figsize=(6, 4))\n",
    "\n",
    "epochs_gd = range(len(objvals_gd))\n",
    "epochs_sgd = range(len(objvals_sgd))\n",
    "\n",
    "line0, = plt.plot(epochs_gd, objvals_gd, '--b', LineWidth=4)\n",
    "line1, = plt.plot(epochs_sgd, objvals_sgd, '-r', LineWidth=2)\n",
    "plt.xlabel('Epochs', FontSize=20)\n",
    "plt.ylabel('Objective Value', FontSize=20)\n",
    "plt.xticks(FontSize=16)\n",
    "plt.yticks(FontSize=16)\n",
    "plt.legend([line0, line1], ['GD', 'SGD'], fontsize=20)\n",
    "plt.tight_layout()\n",
    "plt.show()\n",
    "fig.savefig('compare_gd_sgd.pdf', format='pdf', dpi=1200)"
   ]
  },
  {
   "cell_type": "markdown",
   "metadata": {},
   "source": [
    "# 5. Prediction"
   ]
  },
  {
   "cell_type": "code",
   "execution_count": 17,
   "metadata": {},
   "outputs": [],
   "source": [
    "# Predict class label\n",
    "# Inputs:\n",
    "#     w: d-by-1 matrix\n",
    "#     X: m-by-d matrix\n",
    "# Return:\n",
    "#     f: m-by-1 matrix, the predictions\n",
    "def predict(w, X):\n",
    "    xw = numpy.dot(X, w)\n",
    "    f = numpy.sign(xw)\n",
    "    return f"
   ]
  },
  {
   "cell_type": "code",
   "execution_count": 18,
   "metadata": {},
   "outputs": [
    {
     "name": "stdout",
     "output_type": "stream",
     "text": [
      "Training classification error is 0.2140625\n"
     ]
    }
   ],
   "source": [
    "# evaluate training error\n",
    "f_train = predict(w, x_train)\n",
    "diff = numpy.abs(f_train - y_train) / 2\n",
    "error_train = numpy.mean(diff)\n",
    "print('Training classification error is ' + str(error_train))"
   ]
  },
  {
   "cell_type": "code",
   "execution_count": 19,
   "metadata": {},
   "outputs": [
    {
     "name": "stdout",
     "output_type": "stream",
     "text": [
      "Test classification error is 0.2265625\n"
     ]
    }
   ],
   "source": [
    "# evaluate test error\n",
    "f_test = predict(w, x_test)\n",
    "diff = numpy.abs(f_test - y_test) / 2\n",
    "error_test = numpy.mean(diff)\n",
    "print('Test classification error is ' + str(error_test))"
   ]
  },
  {
   "cell_type": "markdown",
   "metadata": {},
   "source": [
    "# 6. Mini-batch SGD (fill the code)\n",
    "\n"
   ]
  },
  {
   "cell_type": "markdown",
   "metadata": {},
   "source": [
    "?]## 6.1. Compute the objective $Q_I$ and its gradient using a batch of samples\n",
    "\n",
    "Define $Q_I (w) = \\frac{1}{b} \\sum_{i \\in I} \\log \\Big( 1 + \\exp \\big( - y_i x_i^T w \\big) \\Big) + \\frac{\\lambda}{2} \\| w \\|_2^2 $, where $I$ is a set containing $b$ indices randomly drawn from $\\{ 1, \\cdots , n \\}$ without replacement.\n",
    "\n",
    "The stochastic gradient at $w$ is $g_I = \\frac{\\partial Q_I }{ \\partial w} = \\frac{1}{b} \\sum_{i \\in I} \\frac{- y_i x_i }{1 + \\exp ( y_i x_i^T w)} + \\lambda w$."
   ]
  },
  {
   "cell_type": "code",
   "execution_count": 39,
   "metadata": {},
   "outputs": [],
   "source": [
    "# Calculate the objective Q_I and the gradient of Q_I\n",
    "# Inputs:\n",
    "#     w: d-by-1 matrix\n",
    "#     xi: b-by-d matrix\n",
    "#     yi: b-by-1 matrix\n",
    "#     lam: scalar, the regularization parameter\n",
    "#     b: integer, the batch size\n",
    "# Return:\n",
    "#     obj: scalar, the objective Q_i\n",
    "#     g: d-by-1 matrix, gradient of Q_i\n",
    "def mb_stochastic_objective_gradient(w, xi, yi, lam, b):\n",
    "    # Fill the function\n",
    "    # Follow the implementation of stochastic_objective_gradient\n",
    "    # Use matrix-vector multiplication; do not use FOR LOOP of vector-vector multiplications\n",
    "    \n",
    "    # calculate the gradient\n",
    "#     print(f\"B: {b}\")\n",
    "#     print(f\"Shape of W: {w.shape}\")\n",
    "#     print(f\"Shape of Xi: {xi.shape}\")\n",
    "#     print(f\"Shape of Yi: {yi.shape}\")\n",
    "#     Calculate yi * xi\n",
    "    print(\"First three elements of yi\")\n",
    "    print(yi[:10, ...])\n",
    "    print(\"First three rows of xi\")\n",
    "    print(xi[:10, ...])\n",
    "    yx_mat: numpy.ndarray = numpy.multiply(yi, xi) # b-by-d matrix\n",
    "    print(\"First three rows of yx_mat\")\n",
    "    print(yx_mat[:10, ...])\n",
    "    yx: numpy.ndarray = numpy.sum(yx_mat, axis=0) # 1-by-d matrix\n",
    "    print(\"a supposedly 1-by-d yx\")\n",
    "    print(yx)\n",
    "#     print(f\"Shape of yx: {yx.shape}\")\n",
    "    yxw: numpy.ndarray = numpy.dot(yx, w)\n",
    "    print(\"The supposedly scalar yxw\")\n",
    "    print(yxw)\n",
    "    den: numpy.ndarray = 1 + numpy.exp(yxw)\n",
    "    print(\"The supposedly scalar denominator\")\n",
    "    print(den)\n",
    "    subgradient: numpy.ndarray = (1/b) * numpy.divide(-yx, den)\n",
    "    print(\"The supposedly 1-by-d subgradient\")\n",
    "    print(subgradient)\n",
    "    reg: numpy.ndarray = numpy.multiply(lam, w)\n",
    "    g = subgradient.reshape((d, 1)) + reg\n",
    "    print(\"The supposedly d-by-1 gradient\")\n",
    "    print(g)\n",
    "#     print(f\"Shape of yxw: {yxw.shape}\")\n",
    "\n",
    "#     print(f\"Shape of den: {den.shape}\")\n",
    "    \n",
    "#     print(f\"Shape of subgrad_matrix: {subgrad_matrix.shape}\")\n",
    "\n",
    "#     print(f\"Shape of subgrad : {subgrad.shape}\")\n",
    "\n",
    "#     print(f\"Shape of gradient: {g.shape}\")\n",
    "    \n",
    "    # calculate the objective function\n",
    "    \n",
    "    \n",
    "    return obj, g"
   ]
  },
  {
   "cell_type": "markdown",
   "metadata": {},
   "source": [
    "## 6.2. Implement mini-batch SGD\n",
    "\n",
    "Hints:\n",
    "1. In every epoch, randomly permute the $n$ samples (just like SGD).\n",
    "2. Each epoch has $\\frac{n}{b}$ iterations. In every iteration, use $b$ samples, and compute the gradient and objective using the ``mb_stochastic_objective_gradient`` function. In the next iteration, use the next $b$ samples, and so on.\n"
   ]
  },
  {
   "cell_type": "code",
   "execution_count": 40,
   "metadata": {},
   "outputs": [],
   "source": [
    "# Mini-Batch SGD for solving logistic regression\n",
    "# Inumpyuts:\n",
    "#     x: n-by-d matrix\n",
    "#     y: n-by-1 matrix\n",
    "#     lam: scalar, the regularization parameter\n",
    "#     b: integer, the batch size\n",
    "#     stepsize: scalar\n",
    "#     max_epoch: integer, the maximal epochs\n",
    "#     w: d-by-1 matrix, initialization of w\n",
    "# Return:\n",
    "#     w: the solution\n",
    "#     objvals: record of each iteration's objective value\n",
    "def mb_sgd(x, y, lam, b, stepsize, max_epoch=100, w=None):\n",
    "    # Fill the function\n",
    "    # Follow the implementation of sgd\n",
    "    # Record one objective value per epoch (not per iteration!)\n",
    "    n, d = x.shape\n",
    "    objvals: numpy.ndarray = numpy.zeros((max_epoch))\n",
    "    if n % b != 0:\n",
    "        raise ValueError(\"Dataset must be evenly divisible into batches. Invalid batch length\")\n",
    "        \n",
    "    if w is None:\n",
    "        w = numpy.random.randn(d, 1) # uniform random initialization\n",
    "    \n",
    "\n",
    "    \n",
    "    num_batches: int = n // b\n",
    "    objval = 0 # accumulate the objective values\n",
    "    for e in range(max_epoch):\n",
    "        rand_indices: numpy.ndarray = numpy.random.permutation(n)\n",
    "        x_rand: numpy.ndarray = x[rand_indices, ...]\n",
    "        y_rand: numpy.ndarray = y[rand_indices, ...]\n",
    "            \n",
    "        objval = 0 # accumulate objective values\n",
    "        for i in range(num_batches):\n",
    "            start: int = b*i\n",
    "            end: int = start + b\n",
    "            obj, g = mb_stochastic_objective_gradient(w, x[start:end, ...], y[start:end, ...], lam, b)\n",
    "            objval += obj\n",
    "            w -= stepsize*g\n",
    "        \n",
    "        stepsize *= 0.9 # decrease step size\n",
    "        objval /= num_batches\n",
    "        objvals[e] = objval\n",
    "        print(f'Objective value at epoch e={str(e)} is {str(objval)}')\n",
    "         \n",
    "        \n",
    "    \n",
    "    return w, objvals"
   ]
  },
  {
   "cell_type": "markdown",
   "metadata": {},
   "source": [
    "## 6.3. Run MB-SGD"
   ]
  },
  {
   "cell_type": "code",
   "execution_count": 41,
   "metadata": {},
   "outputs": [
    {
     "name": "stdout",
     "output_type": "stream",
     "text": [
      "First three elements of yi\n",
      "[[ 1.]\n",
      " [ 1.]\n",
      " [-1.]\n",
      " [-1.]\n",
      " [ 1.]\n",
      " [ 1.]\n",
      " [-1.]\n",
      " [ 1.]]\n",
      "First three rows of xi\n",
      "[[ 0.30495528 -0.01724279  0.13044183  0.14685024  0.28404983 -0.76075701\n",
      "  -0.67470565 -0.3042734   1.        ]\n",
      " [-0.86198868 -0.95965887 -0.37612838 -0.16938177 -0.18055477 -0.90029469\n",
      "   2.38613293 -0.7272425   1.        ]\n",
      " [ 0.30495528  2.04999246 -0.27481434  0.77931424  2.15123433 -0.12649542\n",
      "   0.33659781 -0.38886722  1.        ]\n",
      " [-0.57025269  0.74277017 -3.51686372 -1.30781697 -0.69775611 -0.59584912\n",
      "  -0.68966576 -0.47346104  1.        ]\n",
      " [-0.57025269 -0.95965887 -0.47744243 -1.30781697 -0.69775611 -1.1032584\n",
      "  -0.83627485 -0.7272425   1.        ]\n",
      " [-0.2785167  -0.26044694 -0.98401264 -0.67535297  0.04736447 -0.34214449\n",
      "   0.46525476 -0.7272425   1.        ]\n",
      " [-0.2785167   0.19556084  0.13044183  0.27334304  0.96780753  0.02572749\n",
      "   0.23486906 -0.55805486  1.        ]\n",
      " [ 0.30495528  0.65156861  0.43438396 -1.30781697 -0.69775611  1.62406644\n",
      "  -0.83926687  1.13382155  1.        ]]\n",
      "First three rows of yx_mat\n",
      "[[ 0.30495528 -0.01724279  0.13044183  0.14685024  0.28404983 -0.76075701\n",
      "  -0.67470565 -0.3042734   1.        ]\n",
      " [-0.86198868 -0.95965887 -0.37612838 -0.16938177 -0.18055477 -0.90029469\n",
      "   2.38613293 -0.7272425   1.        ]\n",
      " [-0.30495528 -2.04999246  0.27481434 -0.77931424 -2.15123433  0.12649542\n",
      "  -0.33659781  0.38886722 -1.        ]\n",
      " [ 0.57025269 -0.74277017  3.51686372  1.30781697  0.69775611  0.59584912\n",
      "   0.68966576  0.47346104 -1.        ]\n",
      " [-0.57025269 -0.95965887 -0.47744243 -1.30781697 -0.69775611 -1.1032584\n",
      "  -0.83627485 -0.7272425   1.        ]\n",
      " [-0.2785167  -0.26044694 -0.98401264 -0.67535297  0.04736447 -0.34214449\n",
      "   0.46525476 -0.7272425   1.        ]\n",
      " [ 0.2785167  -0.19556084 -0.13044183 -0.27334304 -0.96780753 -0.02572749\n",
      "  -0.23486906  0.55805486 -1.        ]\n",
      " [ 0.30495528  0.65156861  0.43438396 -1.30781697 -0.69775611  1.62406644\n",
      "  -0.83926687  1.13382155  1.        ]]\n",
      "a supposedly 1-by-d yx\n",
      "[[-0.55703341 -4.53376233  2.38847856 -3.05835875 -3.66593845 -0.78577108\n",
      "   0.61933922  0.06820377  2.        ]]\n",
      "The supposedly scalar yxw\n",
      "[[3.96943367]]\n",
      "The supposedly scalar denominator\n",
      "[[53.95453235]]\n",
      "The supposedly 1-by-d subgradient\n",
      "[[ 0.00129052  0.01050366 -0.00553354  0.0070855   0.00849312  0.00182045\n",
      "  -0.00143486 -0.00015801 -0.00463353]]\n",
      "The supposedly d-by-1 gradient\n",
      "[[ 0.00129069]\n",
      " [ 0.01050419]\n",
      " [-0.00553219]\n",
      " [ 0.00708476]\n",
      " [ 0.00849235]\n",
      " [ 0.00182189]\n",
      " [-0.00143553]\n",
      " [-0.00015806]\n",
      " [-0.0046337 ]]\n"
     ]
    },
    {
     "ename": "NameError",
     "evalue": "name 'obj' is not defined",
     "output_type": "error",
     "traceback": [
      "\u001b[0;31m---------------------------------------------------------------------------\u001b[0m",
      "\u001b[0;31mNameError\u001b[0m                                 Traceback (most recent call last)",
      "\u001b[0;32m<ipython-input-41-25133bf6d862>\u001b[0m in \u001b[0;36m<module>\u001b[0;34m\u001b[0m\n\u001b[1;32m      4\u001b[0m \u001b[0mstepsize\u001b[0m \u001b[0;34m=\u001b[0m \u001b[0;36m0.1\u001b[0m \u001b[0;31m# you must tune this parameter\u001b[0m\u001b[0;34m\u001b[0m\u001b[0;34m\u001b[0m\u001b[0m\n\u001b[1;32m      5\u001b[0m \u001b[0;34m\u001b[0m\u001b[0m\n\u001b[0;32m----> 6\u001b[0;31m \u001b[0mw\u001b[0m\u001b[0;34m,\u001b[0m \u001b[0mobjvals_mbsgd8\u001b[0m \u001b[0;34m=\u001b[0m \u001b[0mmb_sgd\u001b[0m\u001b[0;34m(\u001b[0m\u001b[0mx_train\u001b[0m\u001b[0;34m,\u001b[0m \u001b[0my_train\u001b[0m\u001b[0;34m,\u001b[0m \u001b[0mlam\u001b[0m\u001b[0;34m,\u001b[0m \u001b[0mb\u001b[0m\u001b[0;34m,\u001b[0m \u001b[0mstepsize\u001b[0m\u001b[0;34m)\u001b[0m\u001b[0;34m\u001b[0m\u001b[0;34m\u001b[0m\u001b[0m\n\u001b[0m",
      "\u001b[0;32m<ipython-input-40-cd8cada06601>\u001b[0m in \u001b[0;36mmb_sgd\u001b[0;34m(x, y, lam, b, stepsize, max_epoch, w)\u001b[0m\n\u001b[1;32m     36\u001b[0m             \u001b[0mstart\u001b[0m\u001b[0;34m:\u001b[0m \u001b[0mint\u001b[0m \u001b[0;34m=\u001b[0m \u001b[0mb\u001b[0m\u001b[0;34m*\u001b[0m\u001b[0mi\u001b[0m\u001b[0;34m\u001b[0m\u001b[0;34m\u001b[0m\u001b[0m\n\u001b[1;32m     37\u001b[0m             \u001b[0mend\u001b[0m\u001b[0;34m:\u001b[0m \u001b[0mint\u001b[0m \u001b[0;34m=\u001b[0m \u001b[0mstart\u001b[0m \u001b[0;34m+\u001b[0m \u001b[0mb\u001b[0m\u001b[0;34m\u001b[0m\u001b[0;34m\u001b[0m\u001b[0m\n\u001b[0;32m---> 38\u001b[0;31m             \u001b[0mobj\u001b[0m\u001b[0;34m,\u001b[0m \u001b[0mg\u001b[0m \u001b[0;34m=\u001b[0m \u001b[0mmb_stochastic_objective_gradient\u001b[0m\u001b[0;34m(\u001b[0m\u001b[0mw\u001b[0m\u001b[0;34m,\u001b[0m \u001b[0mx\u001b[0m\u001b[0;34m[\u001b[0m\u001b[0mstart\u001b[0m\u001b[0;34m:\u001b[0m\u001b[0mend\u001b[0m\u001b[0;34m,\u001b[0m \u001b[0;34m...\u001b[0m\u001b[0;34m]\u001b[0m\u001b[0;34m,\u001b[0m \u001b[0my\u001b[0m\u001b[0;34m[\u001b[0m\u001b[0mstart\u001b[0m\u001b[0;34m:\u001b[0m\u001b[0mend\u001b[0m\u001b[0;34m,\u001b[0m \u001b[0;34m...\u001b[0m\u001b[0;34m]\u001b[0m\u001b[0;34m,\u001b[0m \u001b[0mlam\u001b[0m\u001b[0;34m,\u001b[0m \u001b[0mb\u001b[0m\u001b[0;34m)\u001b[0m\u001b[0;34m\u001b[0m\u001b[0;34m\u001b[0m\u001b[0m\n\u001b[0m\u001b[1;32m     39\u001b[0m             \u001b[0mobjval\u001b[0m \u001b[0;34m+=\u001b[0m \u001b[0mobj\u001b[0m\u001b[0;34m\u001b[0m\u001b[0;34m\u001b[0m\u001b[0m\n\u001b[1;32m     40\u001b[0m             \u001b[0mw\u001b[0m \u001b[0;34m-=\u001b[0m \u001b[0mstepsize\u001b[0m\u001b[0;34m*\u001b[0m\u001b[0mg\u001b[0m\u001b[0;34m\u001b[0m\u001b[0;34m\u001b[0m\u001b[0m\n",
      "\u001b[0;32m<ipython-input-39-3fe0721170d8>\u001b[0m in \u001b[0;36mmb_stochastic_objective_gradient\u001b[0;34m(w, xi, yi, lam, b)\u001b[0m\n\u001b[1;32m     57\u001b[0m \u001b[0;34m\u001b[0m\u001b[0m\n\u001b[1;32m     58\u001b[0m \u001b[0;34m\u001b[0m\u001b[0m\n\u001b[0;32m---> 59\u001b[0;31m     \u001b[0;32mreturn\u001b[0m \u001b[0mobj\u001b[0m\u001b[0;34m,\u001b[0m \u001b[0mg\u001b[0m\u001b[0;34m\u001b[0m\u001b[0;34m\u001b[0m\u001b[0m\n\u001b[0m",
      "\u001b[0;31mNameError\u001b[0m: name 'obj' is not defined"
     ]
    }
   ],
   "source": [
    "# MB-SGD with batch size b=8\n",
    "lam = 1E-6 # do not change\n",
    "b = 8 # do not change\n",
    "stepsize = 0.1 # you must tune this parameter\n",
    "\n",
    "w, objvals_mbsgd8 = mb_sgd(x_train, y_train, lam, b, stepsize)"
   ]
  },
  {
   "cell_type": "code",
   "execution_count": 41,
   "metadata": {},
   "outputs": [
    {
     "name": "stdout",
     "output_type": "stream",
     "text": [
      "Objective value at epoch e=0 is [[0.95446353]]\n",
      "Objective value at epoch e=1 is [[1.08502878]]\n",
      "Objective value at epoch e=2 is [[1.22683486]]\n",
      "Objective value at epoch e=3 is [[1.37660012]]\n",
      "Objective value at epoch e=4 is [[1.53126752]]\n",
      "Objective value at epoch e=5 is [[1.68799677]]\n",
      "Objective value at epoch e=6 is [[1.84417124]]\n",
      "Objective value at epoch e=7 is [[1.99747738]]\n",
      "Objective value at epoch e=8 is [[2.14599989]]\n",
      "Objective value at epoch e=9 is [[2.28826328]]\n",
      "Objective value at epoch e=10 is [[2.42321026]]\n",
      "Objective value at epoch e=11 is [[2.55015229]]\n",
      "Objective value at epoch e=12 is [[2.66871961]]\n",
      "Objective value at epoch e=13 is [[2.77880897]]\n",
      "Objective value at epoch e=14 is [[2.88052508]]\n",
      "Objective value at epoch e=15 is [[2.97412344]]\n",
      "Objective value at epoch e=16 is [[3.05996259]]\n",
      "Objective value at epoch e=17 is [[3.13846699]]\n",
      "Objective value at epoch e=18 is [[3.21009854]]\n",
      "Objective value at epoch e=19 is [[3.27533488]]\n",
      "Objective value at epoch e=20 is [[3.33465341]]\n",
      "Objective value at epoch e=21 is [[3.38852005]]\n",
      "Objective value at epoch e=22 is [[3.43738174]]\n",
      "Objective value at epoch e=23 is [[3.48166188]]\n",
      "Objective value at epoch e=24 is [[3.52175782]]\n",
      "Objective value at epoch e=25 is [[3.55803978]]\n",
      "Objective value at epoch e=26 is [[3.59085078]]\n",
      "Objective value at epoch e=27 is [[3.6205073]]\n",
      "Objective value at epoch e=28 is [[3.64730025]]\n",
      "Objective value at epoch e=29 is [[3.67149628]]\n",
      "Objective value at epoch e=30 is [[3.69333924]]\n",
      "Objective value at epoch e=31 is [[3.71305168]]\n",
      "Objective value at epoch e=32 is [[3.73083636]]\n",
      "Objective value at epoch e=33 is [[3.74687775]]\n",
      "Objective value at epoch e=34 is [[3.76134346]]\n",
      "Objective value at epoch e=35 is [[3.77438563]]\n",
      "Objective value at epoch e=36 is [[3.78614224]]\n",
      "Objective value at epoch e=37 is [[3.79673828]]\n",
      "Objective value at epoch e=38 is [[3.80628695]]\n",
      "Objective value at epoch e=39 is [[3.81489065]]\n",
      "Objective value at epoch e=40 is [[3.822642]]\n",
      "Objective value at epoch e=41 is [[3.8296247]]\n",
      "Objective value at epoch e=42 is [[3.8359144]]\n",
      "Objective value at epoch e=43 is [[3.84157938]]\n",
      "Objective value at epoch e=44 is [[3.84668132]]\n",
      "Objective value at epoch e=45 is [[3.85127586]]\n",
      "Objective value at epoch e=46 is [[3.85541321]]\n",
      "Objective value at epoch e=47 is [[3.85913865]]\n",
      "Objective value at epoch e=48 is [[3.86249304]]\n",
      "Objective value at epoch e=49 is [[3.86551319]]\n",
      "Objective value at epoch e=50 is [[3.8682323]]\n",
      "Objective value at epoch e=51 is [[3.87068029]]\n",
      "Objective value at epoch e=52 is [[3.87288412]]\n",
      "Objective value at epoch e=53 is [[3.87486809]]\n",
      "Objective value at epoch e=54 is [[3.87665408]]\n",
      "Objective value at epoch e=55 is [[3.87826181]]\n",
      "Objective value at epoch e=56 is [[3.87970904]]\n",
      "Objective value at epoch e=57 is [[3.88101177]]\n",
      "Objective value at epoch e=58 is [[3.88218441]]\n",
      "Objective value at epoch e=59 is [[3.88323993]]\n",
      "Objective value at epoch e=60 is [[3.88419002]]\n",
      "Objective value at epoch e=61 is [[3.88504519]]\n",
      "Objective value at epoch e=62 is [[3.88581493]]\n",
      "Objective value at epoch e=63 is [[3.88650775]]\n",
      "Objective value at epoch e=64 is [[3.88713134]]\n",
      "Objective value at epoch e=65 is [[3.88769262]]\n",
      "Objective value at epoch e=66 is [[3.8881978]]\n",
      "Objective value at epoch e=67 is [[3.88865249]]\n",
      "Objective value at epoch e=68 is [[3.88906173]]\n",
      "Objective value at epoch e=69 is [[3.88943007]]\n",
      "Objective value at epoch e=70 is [[3.88976159]]\n",
      "Objective value at epoch e=71 is [[3.89005996]]\n",
      "Objective value at epoch e=72 is [[3.89032851]]\n",
      "Objective value at epoch e=73 is [[3.89057021]]\n",
      "Objective value at epoch e=74 is [[3.89078775]]\n",
      "Objective value at epoch e=75 is [[3.89098354]]\n",
      "Objective value at epoch e=76 is [[3.89115976]]\n",
      "Objective value at epoch e=77 is [[3.89131835]]\n",
      "Objective value at epoch e=78 is [[3.89146109]]\n",
      "Objective value at epoch e=79 is [[3.89158956]]\n",
      "Objective value at epoch e=80 is [[3.89170518]]\n",
      "Objective value at epoch e=81 is [[3.89180924]]\n",
      "Objective value at epoch e=82 is [[3.8919029]]\n",
      "Objective value at epoch e=83 is [[3.89198719]]\n",
      "Objective value at epoch e=84 is [[3.89206305]]\n",
      "Objective value at epoch e=85 is [[3.89213133]]\n",
      "Objective value at epoch e=86 is [[3.89219278]]\n",
      "Objective value at epoch e=87 is [[3.89224809]]\n",
      "Objective value at epoch e=88 is [[3.89229786]]\n",
      "Objective value at epoch e=89 is [[3.89234266]]\n",
      "Objective value at epoch e=90 is [[3.89238298]]\n",
      "Objective value at epoch e=91 is [[3.89241927]]\n",
      "Objective value at epoch e=92 is [[3.89245193]]\n",
      "Objective value at epoch e=93 is [[3.89248132]]\n",
      "Objective value at epoch e=94 is [[3.89250777]]\n",
      "Objective value at epoch e=95 is [[3.89253158]]\n",
      "Objective value at epoch e=96 is [[3.89255301]]\n",
      "Objective value at epoch e=97 is [[3.89257229]]\n",
      "Objective value at epoch e=98 is [[3.89258965]]\n",
      "Objective value at epoch e=99 is [[3.89260527]]\n"
     ]
    }
   ],
   "source": [
    "# MB-SGD with batch size b=64\n",
    "lam = 1E-6 # do not change\n",
    "b = 64 # do not change\n",
    "stepsize = 0.1 # you must tune this parameter\n",
    "\n",
    "w, objvals_mbsgd64 = mb_sgd(x_train, y_train, lam, b, stepsize)"
   ]
  },
  {
   "cell_type": "markdown",
   "metadata": {},
   "source": [
    "# 7. Plot and compare GD, SGD, and MB-SGD"
   ]
  },
  {
   "cell_type": "markdown",
   "metadata": {},
   "source": [
    "You are required to compare the following algorithms:\n",
    "\n",
    "- Gradient descent (GD)\n",
    "\n",
    "- SGD\n",
    "\n",
    "- MB-SGD with b=8\n",
    "\n",
    "- MB-SGD with b=64\n",
    "\n",
    "Follow the code in Section 4 to plot ```objective function value``` against ```epochs```. There should be four curves in the plot; each curve corresponds to one algorithm."
   ]
  },
  {
   "cell_type": "markdown",
   "metadata": {},
   "source": [
    "Hint: Logistic regression with $\\ell_2$-norm regularization is a strongly convex optimization problem. All the algorithms will converge to the same solution. **In the end, the ``objective function value`` of the 4 algorithms will be the same. If not the same, your implementation must be wrong. Do NOT submit wrong code and wrong result!**"
   ]
  },
  {
   "cell_type": "code",
   "execution_count": 42,
   "metadata": {},
   "outputs": [],
   "source": [
    "# plot the 4 curves:"
   ]
  },
  {
   "cell_type": "code",
   "execution_count": 43,
   "metadata": {},
   "outputs": [
    {
     "name": "stderr",
     "output_type": "stream",
     "text": [
      "<ipython-input-43-e8438afdc3ae>:5: MatplotlibDeprecationWarning: Case-insensitive properties were deprecated in 3.3 and support will be removed two minor releases later\n",
      "  line0, = plt.plot(epochs_mbsgd8, objvals_mbsgd8, '--b', LineWidth=4)\n",
      "<ipython-input-43-e8438afdc3ae>:6: MatplotlibDeprecationWarning: Case-insensitive properties were deprecated in 3.3 and support will be removed two minor releases later\n",
      "  line1, = plt.plot(epochs_mbsgd64, objvals_mbsgd64, '--r', LineWidth=2)\n"
     ]
    },
    {
     "data": {
      "image/png": "[encoded data removed]",
      "text/plain": [
       "<Figure size 432x288 with 1 Axes>"
      ]
     },
     "metadata": {
      "needs_background": "light"
     },
     "output_type": "display_data"
    }
   ],
   "source": [
    "fig = plt.figure(figsize=(6, 4))\n",
    "epochs_mbsgd8 = range(len(objvals_mbsgd8))\n",
    "epochs_mbsgd64 = range(len(objvals_mbsgd64))\n",
    "\n",
    "line0, = plt.plot(epochs_mbsgd8, objvals_mbsgd8, '--b', LineWidth=4)\n",
    "line1, = plt.plot(epochs_mbsgd64, objvals_mbsgd64, '--r', LineWidth=2)\n",
    "plt.show()\n",
    "\n"
   ]
  }
 ],
 "metadata": {
  "kernelspec": {
   "display_name": "Python 3",
   "language": "python",
   "name": "python3"
  },
  "language_info": {
   "codemirror_mode": {
    "name": "ipython",
    "version": 3
   },
   "file_extension": ".py",
   "mimetype": "text/x-python",
   "name": "python",
   "nbconvert_exporter": "python",
   "pygments_lexer": "ipython3",
   "version": "3.8.8"
  }
 },
 "nbformat": 4,
 "nbformat_minor": 4
}
